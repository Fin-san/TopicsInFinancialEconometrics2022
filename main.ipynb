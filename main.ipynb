{
 "cells": [
  {
   "cell_type": "code",
   "execution_count": 66,
   "id": "220f0aae-c426-4d2d-9a7a-abcdcef1316f",
   "metadata": {},
   "outputs": [],
   "source": [
    "import pandas as pd\n",
    "import numpy as np\n",
    "import matplotlib.pyplot as plt\n",
    "import matplotlib.cm as cm\n",
    "import numpy as np\n",
    "import pandas as pd\n",
    "import statsmodels.api as sm\n",
    "from math import floor\n",
    "from sklearn import linear_model\n",
    "from statsmodels.tsa.stattools import adfuller\n",
    "import statsmodels.tsa.stattools as ts\n",
    "from datetime import datetime\n",
    "from dateutil.relativedelta import relativedelta\n",
    "import warnings\n",
    "warnings.filterwarnings('ignore')\n",
    "from tqdm.notebook import tqdm\n",
    "from matplotlib.dates import date2num\n",
    "import pyfolio as pf\n",
    "import matplotlib.pyplot as plt\n",
    "import empyrical"
   ]
  },
  {
   "cell_type": "code",
   "execution_count": 5,
   "id": "a47dcfda-e65c-4ca8-bd4b-9dafaa06b1f7",
   "metadata": {},
   "outputs": [],
   "source": [
    "crsp_daily = pd.read_csv('/Users/frederikfindsen/Documents/Økonomi/8. Semester/Seminar/crsp_daily.csv',index_col='date',parse_dates=True)\n",
    "factors_ff = pd.read_csv('/Users/frederikfindsen/Documents/Økonomi/8. Semester/Seminar/factors_daily.csv',index_col='date',parse_dates=True)\n",
    "cointegration_pairs = pd.read_excel(\"/Users/frederikfindsen/Documents/Økonomi/8. Semester/Seminar/cointegration_pair.xlsx\",index_col = 'date', parse_dates = True)\n"
   ]
  },
  {
   "cell_type": "code",
   "execution_count": 6,
   "id": "d7b92b1e-d708-4c64-ada4-d1769208697e",
   "metadata": {
    "tags": []
   },
   "outputs": [],
   "source": [
    "data = crsp_daily.reset_index().pivot(index='date',columns='permno',values='ret_excess').iloc[:,0:1000]\n",
    "\n",
    "#Making returns to closing prices\n",
    "start = 100\n",
    "for column in data:\n",
    "    data[column] = start*(1+data[column]).cumprod()"
   ]
  },
  {
   "cell_type": "markdown",
   "id": "771ab2a1-7d0e-4f57-a928-4595582c7142",
   "metadata": {},
   "source": [
    "## Trading Strategy"
   ]
  },
  {
   "cell_type": "code",
   "execution_count": 91,
   "id": "df5c228c-d0db-4008-820b-9a0b4f829ac4",
   "metadata": {
    "jupyter": {
     "source_hidden": true
    },
    "tags": []
   },
   "outputs": [],
   "source": [
    "class trading_log:\n",
    "    \n",
    "    def __init__(self,show_message=True):\n",
    "        #Creating position variables\n",
    "        pos_type = 'none' #Can take following form: 'long', 'short', 'none'\n",
    "        pos_status = 'closed' #Can take following form: 'open', 'closed'\n",
    "        portfolio_log = pd.DataFrame(columns=['price','pos_type','pos_status','time','profit'])\n",
    "        portfolio_log.loc[portfolio_log.shape[0]] = [0,'none','closed',0,0]\n",
    "\n",
    "        \n",
    "        self.show_message = show_message\n",
    "        self.portfolio = portfolio_log\n",
    "        \n",
    "    def open_short(self,time,price):\n",
    "        \n",
    "        if (self.portfolio['pos_status'].iloc[-1] == 'open') & (self.portfolio['pos_type'].iloc[-1] == 'short'): #If trade already executed\n",
    "                    pass #Next time period\n",
    "\n",
    "        elif (self.portfolio['pos_status'].iloc[-1] == 'open') & (self.portfolio['pos_type'].iloc[-1] == 'long'): #If long trade ongoing, opening new short trade\n",
    "            pos_status = 'open'\n",
    "            pos_type = 'short'\n",
    "            price = price\n",
    "            time = time\n",
    "            profit = price - self.portfolio['price'].iloc[-1]\n",
    "            \n",
    "            if self.show_message == True:\n",
    "                print('We '+ str(pos_status)+ \" a \" + str(pos_type) + \" at \"+ str(price) + \" with a profit of \" + str(profit/100))\n",
    "            self.portfolio.loc[self.portfolio.shape[0]] = [price,pos_type,pos_status,time,profit]\n",
    "\n",
    "        elif self.portfolio['pos_status'].iloc[-1] == 'closed': #Opening a new trade\n",
    "            pos_status = 'open'\n",
    "            pos_type = 'short'\n",
    "            price = price\n",
    "            time = time\n",
    "            profit = 0\n",
    "            \n",
    "            self.portfolio.loc[self.portfolio.shape[0]] = [price,pos_type,pos_status,time,profit]\n",
    "        \n",
    "    def open_long(self,time,price):\n",
    "        if (self.portfolio['pos_status'].iloc[-1] == 'open') & (self.portfolio['pos_type'].iloc[-1] == 'long'): #If trade already executed\n",
    "            pass #Next time period\n",
    "\n",
    "        elif (self.portfolio['pos_status'].iloc[-1] == 'open') & (self.portfolio['pos_type'].iloc[-1] == 'short'): #If short trade ongoing, opening new long trade\n",
    "            pos_status = 'open'\n",
    "            pos_type = 'long'\n",
    "            price = price\n",
    "            time = time\n",
    "            profit =self.portfolio['price'].iloc[-1]-price\n",
    "            \n",
    "            self.portfolio.loc[self.portfolio.shape[0]] = [price,pos_type,pos_status,time,profit]\n",
    "\n",
    "            if self.show_message == True:\n",
    "                print('We '+ str(pos_status)+ \" a \" + str(pos_type) + \" at \"+ str(price) + \" with a profit of \" + str(profit/100))\n",
    "            \n",
    "        elif self.portfolio['pos_status'].iloc[-1] == 'closed': #Opening a new trade\n",
    "            pos_status = 'open'\n",
    "            pos_type = 'long'\n",
    "            price = price\n",
    "            time = time\n",
    "            profit = 0\n",
    "            \n",
    "            self.portfolio.loc[self.portfolio.shape[0]] = [price,pos_type,pos_status,time,profit]\n",
    "            \n",
    "            if self.show_message == True:\n",
    "                print('We '+ str(pos_status)+ \" a \" + str(pos_type) + \" at \"+ str(price) + \" with a profit of \" + str(profit/100))\n",
    "    \n",
    "    def close(self,time,price):\n",
    "        if self.portfolio['pos_status'].iloc[-1] == 'closed':\n",
    "            pass\n",
    "\n",
    "        elif (self.portfolio['pos_status'].iloc[-1] == 'open') & (self.portfolio['pos_type'].iloc[-1] == 'long'):\n",
    "            pos_status = 'closed'\n",
    "            pos_type = 'long'\n",
    "            price = price\n",
    "            time = time\n",
    "            profit = price - self.portfolio['price'].iloc[-1]\n",
    "            self.portfolio.loc[self.portfolio.shape[0]] = [price,pos_type,pos_status,time,profit]\n",
    "\n",
    "            if self.show_message == True:\n",
    "                print('We '+ str(pos_status)+ \" a \" + str(pos_type) + \" at \"+ str(price) + \" with a profit of \" + str(profit/100))\n",
    "\n",
    "\n",
    "        elif (self.portfolio['pos_status'].iloc[-1] == 'open') & (self.portfolio['pos_type'].iloc[-1] == 'short'):\n",
    "            pos_status = 'closed'\n",
    "            pos_type = 'short'\n",
    "            price = price\n",
    "            time = time\n",
    "            profit =self.portfolio['price'].iloc[-1]-price\n",
    "            \n",
    "            self.portfolio.loc[self.portfolio.shape[0]] = [price,pos_type,pos_status,time,profit]\n",
    "\n",
    "            if self.show_message == True:\n",
    "                print('We '+ str(pos_status)+ \" a \" + str(pos_type) + \" at \"+ str(price) + \" with a profit of \" + str(profit/100))\n",
    "    \n",
    "    def finish_trade(self,time,price):\n",
    "\n",
    "        if self.portfolio.shape[0] == 1:\n",
    "            pos_status = 'closed'\n",
    "            pos_type = 'none'\n",
    "            price = price\n",
    "            time = time\n",
    "            profit = 0\n",
    "\n",
    "            self.portfolio.loc[self.portfolio.shape[0]] = [price,pos_type,pos_status,time,profit]\n",
    "            self.profit = 0\n",
    "        \n",
    "            if self.show_message == True:\n",
    "                print(\"Trading window is closed, no trade signals triggered.\")\n",
    "        else:  \n",
    "            pos_status = 'closed'\n",
    "            pos_type = 'none'\n",
    "            price = price\n",
    "            time = time\n",
    "            profit = self.portfolio['price'].iloc[-1]-price\n",
    "\n",
    "            self.portfolio.loc[self.portfolio.shape[0]] = [price,pos_type,pos_status,time,profit]\n",
    "            self.profit = (((1+self.portfolio['profit']/100).cumprod())-1).iloc[-1]\n",
    "\n",
    "            if self.show_message == True:\n",
    "                    print(\"Trading window is closed, closing trade. Total profit of: \" + str(round(self.profit,3)))\n",
    "\n"
   ]
  },
  {
   "cell_type": "code",
   "execution_count": 174,
   "id": "f0f21800-3ed8-492f-b74e-414fb7e4338a",
   "metadata": {
    "tags": []
   },
   "outputs": [],
   "source": [
    "class tradingstrategy:\n",
    "    \n",
    "    def __init__(self,data, mkt_data,cointegration_pairs):\n",
    "        self.data = data\n",
    "        self.market_data = mkt_data\n",
    "        self.cointegration_pairs = cointegration_pairs\n",
    "        \n",
    "    def define_highlow_date(self, mkt_return):\n",
    "\n",
    "        mod_kns = sm.tsa.MarkovRegression(\n",
    "            mkt_return, k_regimes=2, switching_variance=True\n",
    "                )\n",
    "\n",
    "        res_kns = mod_kns.fit(search_reps=20)\n",
    "\n",
    "        #low_dates = res_kns.smoothed_marginal_probabilities[1].index\n",
    "        #high_dates = res_kns.smoothed_marginal_probabilities[0].index\n",
    "        \n",
    "        low_dates = list()\n",
    "        high_dates = list()\n",
    "        \n",
    "        for value, date in zip(res_kns.smoothed_marginal_probabilities[0],res_kns.smoothed_marginal_probabilities[1].index):\n",
    "            if value > 0.8:\n",
    "                low_dates.append(date)\n",
    "            else:\n",
    "                high_dates.append(date)\n",
    "        \n",
    "        self.low_dates = low_dates\n",
    "        self.high_dates = high_dates\n",
    "        \n",
    "        if res_kns.smoothed_marginal_probabilities[0][-1] > 0.8:\n",
    "            curr_regime = 'low'\n",
    "        else:\n",
    "            curr_regime = 'high'\n",
    "        \n",
    "            \n",
    "        return curr_regime, low_dates, high_dates\n",
    "\n",
    "    \n",
    "    def trade(self,start_date='01-01-2011',end_date='2012-03-01',trading_window=1,n_pairs=20):\n",
    "        \n",
    "        performance = pd.DataFrame({'date':[],'vasicek':[],'cointegration':[]})\n",
    "        \n",
    "        #Trading rolling\n",
    "        \n",
    "        for date in pd.date_range(start_date,end_date,freq=f'{trading_window}MS'):\n",
    "            if date > pd.to_datetime('2014-12-31')-relativedelta(days=trading_window):\n",
    "                break\n",
    "                \n",
    "            self.date = date\n",
    "            self.create_pairs(n_pairs=n_pairs)\n",
    "            \n",
    "            print('Pairs created for date ' + str(date))\n",
    "            \n",
    "            \n",
    "            vasicek_profits = list()\n",
    "            cointegration_profits = list()\n",
    "            \n",
    "            for pairs in self.vasicek_pairs.iterrows(): #Trading vasicek\n",
    "                one_trade = self.trade_vasicek(self.data[[int(pairs[1]['stocka']),int(pairs[1]['stockb'])]],trading_window=trading_window)\n",
    "                vasicek_profits.append(one_trade.profit)\n",
    "                \n",
    "            \n",
    "            \n",
    "            for pairs in self.coint_pairs.iterrows(): #Trading cointegration\n",
    "                one_trade = self.trade_coint(self.data[[int(pairs[1]['stocka']),int(pairs[1]['stockb'])]],regime=self.curr_regime,trading_window=trading_window)\n",
    "                cointegration_profits.append(one_trade.profit)\n",
    "                \n",
    "            \n",
    "            #Performance is the average of N pairs return in the trading window\n",
    "            performance.loc[performance.shape[0]] = [date, float(np.mean(vasicek_profits)),float(np.mean(cointegration_profits))]\n",
    "\n",
    "            \n",
    "        self.performance = performance.set_index('date')\n",
    "        \n",
    "        \n",
    "    def create_pairs(self,n_pairs):\n",
    "        \n",
    "        window = 5 #years\n",
    "        five_years_ago = self.date - relativedelta(years=window) #Getering the data point five years ago\n",
    "        \n",
    "        \n",
    "        data = self.data.loc[five_years_ago:self.date] #Getting the last five years of data\n",
    "        cols = ~data.loc[five_years_ago:self.date].isnull().any() #Removing all columns with NA before date, no Forward looking bias\n",
    "        data = data.loc[:,cols] #Selecting the columns \n",
    "        \n",
    "        #Normalizing returns:\n",
    "        start = 100\n",
    "        for column in data:\n",
    "            data[column] = (data[column]/data[column].iloc[0])*100\n",
    "\n",
    "        \n",
    "        self.coint_pairs = self.pairs_cointegration(self.cointegration_pairs,n_pairs)\n",
    "        self.vasicek_pairs = self.test_vasicek(data,n_pairs)\n",
    "        \n",
    "        self.curr_regime, low_dates, high_dates = self.define_highlow_date(self.market_data['mkt_excess'].loc[five_years_ago:self.date])\n",
    "                        \n",
    "    def pairs_cointegration(self,data,number_pairs):\n",
    "        \n",
    "        data = data.loc[self.date].copy()\n",
    "        \n",
    "        data = data.reset_index().drop('date',axis=1)\n",
    "        pairs_coint = data.nsmallest(number_pairs, 'pvalues')\n",
    "        \n",
    "        return pairs_coint\n",
    "    \n",
    "    \n",
    "    def test_cointegration(self,data,number_pairs):\n",
    "        #Data is the return dataframe\n",
    "        n =  (len(data.columns) - 1)\n",
    "        stocks = data.iloc[:,1:].columns.values\n",
    "        data = data.to_numpy()\n",
    "        pvalue_matrix = np.zeros((n,n),dtype = float)\n",
    "        pairs = np.empty((n*n,2),dtype=object)\n",
    "        m = 0\n",
    "        \n",
    "        pair_df = pd.DataFrame({'stocka':[],'stockb':[],'p-value':[]})\n",
    "        \n",
    "        for i in tqdm(range(0,n)):\n",
    "            for j in range(0,n):\n",
    "                S1 = data[:,i+1]\n",
    "                S2 = data[:,j+1]\n",
    "                result = ts.coint(S1,S2)\n",
    "                pvalue_matrix[i,j] = result[1]\n",
    "                #storing all paris in matrix form\n",
    "\n",
    "                if (result[1] < 0.05) & (i!=j):\n",
    "                    pairs[m,0] = stocks[i]\n",
    "                    pairs[m,1] = stocks[j]\n",
    "\n",
    "                    pair_df.loc[pair_df.shape[0]] = [int(stocks[i]),int(stocks[j]),result[1]]\n",
    "\n",
    "                    m = m+1\n",
    "\n",
    "        pairs = pair_df.nsmallest(number_pairs, 'p-value')\n",
    "        \n",
    "        \n",
    "        return pvalue_matrix,  pairs\n",
    "        \n",
    "        \n",
    "        \n",
    "    def fit_ols(self, data):\n",
    "            \n",
    "        Y = data.shift(1)\n",
    "        X = sm.add_constant(data)\n",
    "\n",
    "        model = sm.OLS(Y,X)\n",
    "        results = model.fit()\n",
    "        \n",
    "    def spread(self,x,y):\n",
    "        regr = linear_model.LinearRegression()\n",
    "        x_constant = pd.concat([x,pd.Series([1]*len(x),index = x.index)], axis=1)\n",
    "        regr.fit(x_constant, y)    \n",
    "        beta = regr.coef_[0]\n",
    "        alpha = regr.intercept_\n",
    "        spread = y - x*beta\n",
    "\n",
    "        return spread, beta\n",
    "    \n",
    "    def test_vasicek(self, data, number_pairs):\n",
    "            \n",
    "        pair_df = pd.DataFrame({'stocka':[],'stockb':[],'SSD':[]})\n",
    "\n",
    "        for i in tqdm(data.columns):\n",
    "            try:\n",
    "                for j in data.columns:\n",
    "\n",
    "                    if i == j:\n",
    "                        pass\n",
    "                    else:\n",
    "                        S1 = data[i]\n",
    "                        S2 = data[j]\n",
    "                        result = np.sum((S1-S2)**2)\n",
    "\n",
    "                        #Storing results\n",
    "\n",
    "                        pair_df.loc[pair_df.shape[0]] = [int(i),int(j),result]\n",
    "            except:\n",
    "                pass\n",
    "        \n",
    "        pair_df.drop_duplicates('SSD',inplace=True)\n",
    "        pairs = pair_df.nsmallest(number_pairs, 'SSD')\n",
    "        \n",
    "        return pairs\n",
    "    \n",
    "\n",
    "    def estimate_vasicek(self, A, B):\n",
    "        \n",
    "        #Estimating the Vasicek model using MLE\n",
    "        spread = (A - B).to_numpy()\n",
    "        \n",
    "        #Setting up all relevant variables\n",
    "        n = len(spread)-1\n",
    "        Sx = np.sum(spread[0:len(spread)-1])\n",
    "        Sy = np.sum(spread[1:len(spread)])\n",
    "        Sxx = np.sum(spread[0:len(spread)-1]**2)\n",
    "        Sxy = np.sum(spread[0:len(spread)-1]*spread[1:len(spread)])\n",
    "        Syy = np.sum(spread[1:len(spread)]**2)\n",
    "        \n",
    "        \n",
    "        #Estimating parameters\n",
    "        theta = (Sy*Sxx-Sx*Sxy)/(n*(Sxx-Sxy)-(Sx**2-Sx*Sy))\n",
    "        kappa =  (( Sxy-theta*Sx-theta*Sy+n*theta**2)/(Sxx-2*theta*Sx+n*theta**2))\n",
    "        a = 1-kappa\n",
    "        sigmah2 = (Syy-2*a*Sxy+a**2*Sxx-2*theta*(1-a)*(Sy-a*Sx)+n*theta**2*(1-a)**2)/n\n",
    "        sigma = np.sqrt(sigmah2*2*kappa/(1-a**2))\n",
    "        \n",
    "        return kappa, theta, sigma\n",
    "    \n",
    "    def trade_coint(self, data, trading_window, regime,threshold=1.96):\n",
    "        \n",
    "        portfolio_log = trading_log(show_message=False)\n",
    "        \n",
    "        #try:\n",
    "        #Normalzing data\n",
    "        for column in data.columns:\n",
    "            data[column] = (data[column]/data[column].iloc[0])*100\n",
    "\n",
    "        data.columns = ['p','q']\n",
    "\n",
    "        #Defining test and train data\n",
    "        test_data = data.loc[self.date:self.date + relativedelta(months=trading_window)] \n",
    "        train_data = data.loc[:self.date]\n",
    "\n",
    "        test_data = self.normalize(test_data)\n",
    "        train_data = self.normalize(train_data)\n",
    "        spread_train, beta_train = self.spread(train_data['p'],train_data['q'])\n",
    "\n",
    "\n",
    "        curr_regime, low_dates, high_dates = self.define_highlow_date(spread_train)\n",
    "\n",
    "\n",
    "        if regime == 'high':\n",
    "            data = data.loc[high_dates]\n",
    "            spread, beta = self.spread(train_data['p'],train_data['q'])\n",
    "\n",
    "        elif regime == 'low':\n",
    "            data = data.loc[low_dates]\n",
    "            spread, beta = self.spread(train_data['p'],train_data['q'])\n",
    "\n",
    "        # Compute rolling mean and rolling standard deviation\n",
    "\n",
    "        #Generating z-score\n",
    "        st = test_data['p']-beta*test_data['q']\n",
    "        st_mean = st.mean()\n",
    "        st_std = st.std()\n",
    "\n",
    "        zscore =(st-st_mean)/st_std\n",
    "        #Trading\n",
    "\n",
    "\n",
    "        #We log each trade in the portfolio_log dataframe\n",
    "        for i in range(len(zscore)):\n",
    "\n",
    "            # Sell short if the z-score is > 1\n",
    "            if zscore[i] > threshold:\n",
    "                portfolio_log.open_short(i,zscore[i])\n",
    "\n",
    "            # Buy long if the z-score is < -1\n",
    "            elif zscore[i] < -threshold:\n",
    "                portfolio_log.open_long(i,zscore[i])\n",
    "\n",
    "            # Clear positions if the z-score between -.5 and .5\n",
    "            elif abs(zscore[i]) < 0.5:\n",
    "                portfolio_log.close(i,zscore[i])\n",
    "\n",
    "            if i == len(zscore)-1:#End of period close of trade\n",
    "                portfolio_log.finish_trade(i,zscore[i])\n",
    "        #except:\n",
    "        #    portfolio_log.finish_trade(0,0)\n",
    "            \n",
    "\n",
    "        return portfolio_log\n",
    "    \n",
    "    def normalize(self, data):\n",
    "        norm_data = data.copy()\n",
    "        for column in norm_data.columns:\n",
    "            norm_data[column] = (norm_data[column]/norm_data[column].iloc[0])*100\n",
    "            \n",
    "        return norm_data\n",
    "    \n",
    "    def trade_vasicek(self, data, trading_window, threshold = 1.65):\n",
    "        \n",
    "        portfolio_log = trading_log(show_message=False)\n",
    "        \n",
    "        #try:\n",
    "        \n",
    "        data.columns = ['p','q']\n",
    "        #Defining test and train data\n",
    "\n",
    "        test_data = data.loc[self.date:self.date + relativedelta(months=trading_window)] \n",
    "        train_data = data.loc[:self.date]\n",
    "\n",
    "        test_data = self.normalize(test_data)\n",
    "        train_data = self.normalize(train_data)\n",
    "        spread_train = train_data['p'] - train_data['q']\n",
    "\n",
    "        curr_regime, low_dates, high_dates = self.define_highlow_date(spread_train)\n",
    "\n",
    "\n",
    "        if curr_regime == 'high':\n",
    "            data = data.loc[high_dates]\n",
    "            kappa, theta, sigma = self.estimate_vasicek(train_data['p'],train_data['q'])\n",
    "\n",
    "        elif curr_regime == 'low':\n",
    "            data = data.loc[low_dates]\n",
    "            kappa, theta, sigma = self.estimate_vasicek(train_data['p'],train_data['q'])\n",
    "\n",
    "        #Generating the score for buy/sell signals\n",
    "        spread = test_data['p'] - test_data['q']\n",
    "        ratio = kappa*(theta-spread)+sigma*threshold\n",
    "\n",
    "        for i in range(len(spread)):\n",
    "\n",
    "            # Sell short if the z-score is > 1\n",
    "            if spread[i] > kappa*(theta+spread[i-1])+threshold*sigma:\n",
    "                portfolio_log.open_short(i,spread[i])\n",
    "\n",
    "            # Buy long if the z-score is < -1\n",
    "            elif spread[i] < kappa*(theta+spread[i-1])-threshold*sigma:\n",
    "                portfolio_log.open_long(i,spread[i])\n",
    "\n",
    "            # Close else\n",
    "            else:\n",
    "                portfolio_log.close(i,spread[i])\n",
    "\n",
    "            if i == len(spread)-1:#End of period close of trade\n",
    "                portfolio_log.finish_trade(i,spread[i])\n",
    "\n",
    "        #except:\n",
    "        #    print(\"Error in estimation\")\n",
    "        #    portfolio_log.finish_trade(0,0)\n",
    "            \n",
    "        return portfolio_log\n",
    "    \n",
    "    def evaluate_performance(self):\n",
    "        \n",
    "        performance_list = list()\n",
    "        \n",
    "        \n",
    "        for j in range(10,40,10):\n",
    "            performance_df = pd.DataFrame()\n",
    "            for i in range(1,4):\n",
    "                vas_name = 'trad_'+str(j)+'_pair_'+str(i)+'_vas'\n",
    "                coint_name = 'trad_'+str(j)+'_pair_'+str(i)+'_coint'\n",
    "                \n",
    "                self.trade(start_date='2011-01-01',end_date='2012-03-01',trading_window = i,n_pairs=j)\n",
    "                \n",
    "                vasicek = self.performance['vasicek']\n",
    "                coint = self.performance['cointegration']\n",
    "                \n",
    "                performance_df[vas_name] = vasicek\n",
    "                performance_df[coint_name] = coint\n",
    "                \n",
    "            performance_list.append(performance_df)\n",
    "                \n",
    "        self.performance_list = performance_list\n",
    "        \n",
    "        \n",
    "        return performance_list\n",
    "        \n"
   ]
  },
  {
   "cell_type": "code",
   "execution_count": 87,
   "id": "1382e7c9-0b80-440e-ab81-41b3d2c24c0e",
   "metadata": {
    "jupyter": {
     "source_hidden": true
    },
    "tags": []
   },
   "outputs": [],
   "source": [
    "class trading_log:\n",
    "    \n",
    "    def __init__(self,show_message=True):\n",
    "        #Creating position variables\n",
    "        pos_type = 'none' #Can take following form: 'long', 'short', 'none'\n",
    "        pos_status = 'closed' #Can take following form: 'open', 'closed'\n",
    "        portfolio_log = pd.DataFrame(columns=['price','pos_type','pos_status','time','profit'])\n",
    "        portfolio_log.loc[portfolio_log.shape[0]] = [0,'none','closed',0,0]\n",
    "\n",
    "        \n",
    "        self.show_message = show_message\n",
    "        self.portfolio = portfolio_log\n",
    "        \n",
    "    def open_short(self,time,price):\n",
    "        \n",
    "        if (self.portfolio['pos_status'].iloc[-1] == 'open') & (self.portfolio['pos_type'].iloc[-1] == 'short'): #If trade already executed\n",
    "                    pass #Next time period\n",
    "\n",
    "        elif (self.portfolio['pos_status'].iloc[-1] == 'open') & (self.portfolio['pos_type'].iloc[-1] == 'long'): #If long trade ongoing, opening new short trade\n",
    "            pos_status = 'open'\n",
    "            pos_type = 'short'\n",
    "            price = price\n",
    "            time = time\n",
    "            profit = price - self.portfolio['price'].iloc[-1]\n",
    "            \n",
    "            if self.show_message == True:\n",
    "                print('We '+ str(pos_status)+ \" a \" + str(pos_type) + \" at \"+ str(price) + \" with a profit of \" + str(profit/100))\n",
    "            self.portfolio.loc[self.portfolio.shape[0]] = [price,pos_type,pos_status,time,profit]\n",
    "\n",
    "        elif self.portfolio['pos_status'].iloc[-1] == 'closed': #Opening a new trade\n",
    "            pos_status = 'open'\n",
    "            pos_type = 'short'\n",
    "            price = price\n",
    "            time = time\n",
    "            profit = 0\n",
    "            \n",
    "            self.portfolio.loc[self.portfolio.shape[0]] = [price,pos_type,pos_status,time,profit]\n",
    "        \n",
    "    def open_long(self,time,price):\n",
    "        if (self.portfolio['pos_status'].iloc[-1] == 'open') & (self.portfolio['pos_type'].iloc[-1] == 'long'): #If trade already executed\n",
    "            pass #Next time period\n",
    "\n",
    "        elif (self.portfolio['pos_status'].iloc[-1] == 'open') & (self.portfolio['pos_type'].iloc[-1] == 'short'): #If short trade ongoing, opening new long trade\n",
    "            pos_status = 'open'\n",
    "            pos_type = 'long'\n",
    "            price = price\n",
    "            time = time\n",
    "            profit =self.portfolio['price'].iloc[-1]-price\n",
    "            \n",
    "            self.portfolio.loc[self.portfolio.shape[0]] = [price,pos_type,pos_status,time,profit]\n",
    "\n",
    "            if self.show_message == True:\n",
    "                print('We '+ str(pos_status)+ \" a \" + str(pos_type) + \" at \"+ str(price) + \" with a profit of \" + str(profit/100))\n",
    "            \n",
    "        elif self.portfolio['pos_status'].iloc[-1] == 'closed': #Opening a new trade\n",
    "            pos_status = 'open'\n",
    "            pos_type = 'long'\n",
    "            price = price\n",
    "            time = time\n",
    "            profit = 0\n",
    "            \n",
    "            self.portfolio.loc[self.portfolio.shape[0]] = [price,pos_type,pos_status,time,profit]\n",
    "            \n",
    "            if self.show_message == True:\n",
    "                print('We '+ str(pos_status)+ \" a \" + str(pos_type) + \" at \"+ str(price) + \" with a profit of \" + str(profit/100))\n",
    "    \n",
    "    def close(self,time,price):\n",
    "        if self.portfolio['pos_status'].iloc[-1] == 'closed':\n",
    "            pass\n",
    "\n",
    "        elif (self.portfolio['pos_status'].iloc[-1] == 'open') & (self.portfolio['pos_type'].iloc[-1] == 'long'):\n",
    "            pos_status = 'closed'\n",
    "            pos_type = 'long'\n",
    "            price = price\n",
    "            time = time\n",
    "            profit = price - self.portfolio['price'].iloc[-1]\n",
    "            self.portfolio.loc[self.portfolio.shape[0]] = [price,pos_type,pos_status,time,profit]\n",
    "\n",
    "            if self.show_message == True:\n",
    "                print('We '+ str(pos_status)+ \" a \" + str(pos_type) + \" at \"+ str(price) + \" with a profit of \" + str(profit/100))\n",
    "\n",
    "\n",
    "        elif (self.portfolio['pos_status'].iloc[-1] == 'open') & (self.portfolio['pos_type'].iloc[-1] == 'short'):\n",
    "            pos_status = 'closed'\n",
    "            pos_type = 'short'\n",
    "            price = price\n",
    "            time = time\n",
    "            profit =self.portfolio['price'].iloc[-1]-price\n",
    "            \n",
    "            self.portfolio.loc[self.portfolio.shape[0]] = [price,pos_type,pos_status,time,profit]\n",
    "\n",
    "            if self.show_message == True:\n",
    "                print('We '+ str(pos_status)+ \" a \" + str(pos_type) + \" at \"+ str(price) + \" with a profit of \" + str(profit/100))\n",
    "    \n",
    "    def finish_trade(self,time,price):\n",
    "\n",
    "        if self.portfolio.shape[0] == 1:\n",
    "            pos_status = 'closed'\n",
    "            pos_type = 'none'\n",
    "            price = price\n",
    "            time = time\n",
    "            profit = 0\n",
    "\n",
    "            self.portfolio.loc[self.portfolio.shape[0]] = [price,pos_type,pos_status,time,profit]\n",
    "            self.profit = 0\n",
    "        \n",
    "            if self.show_message == True:\n",
    "                print(\"Trading window is closed, no trade signals triggered.\")\n",
    "        else:  \n",
    "            pos_status = 'closed'\n",
    "            pos_type = 'none'\n",
    "            price = price\n",
    "            time = time\n",
    "            profit = self.portfolio['price'].iloc[-1]-price\n",
    "\n",
    "            self.portfolio.loc[self.portfolio.shape[0]] = [price,pos_type,pos_status,time,profit]\n",
    "            self.profit = (((1+self.portfolio['profit']/100).cumprod())-1).iloc[-1]\n",
    "\n",
    "            if self.show_message == True:\n",
    "                    print(\"Trading window is closed, closing trade. Total profit of: \" + str(round(self.profit,3)))\n",
    "\n"
   ]
  },
  {
   "cell_type": "code",
   "execution_count": null,
   "id": "4d9a87cc-7dad-4315-aa59-b45056d662c1",
   "metadata": {
    "collapsed": true,
    "jupyter": {
     "outputs_hidden": true
    },
    "tags": []
   },
   "outputs": [
    {
     "data": {
      "application/vnd.jupyter.widget-view+json": {
       "model_id": "d221e73fdd2a415e9774227973083521",
       "version_major": 2,
       "version_minor": 0
      },
      "text/plain": [
       "  0%|          | 0/214 [00:00<?, ?it/s]"
      ]
     },
     "metadata": {},
     "output_type": "display_data"
    },
    {
     "name": "stdout",
     "output_type": "stream",
     "text": [
      "Pairs created for date 2011-01-01 00:00:00\n"
     ]
    },
    {
     "data": {
      "application/vnd.jupyter.widget-view+json": {
       "model_id": "12877b951bd24bae98d92fd2b0080144",
       "version_major": 2,
       "version_minor": 0
      },
      "text/plain": [
       "  0%|          | 0/213 [00:00<?, ?it/s]"
      ]
     },
     "metadata": {},
     "output_type": "display_data"
    },
    {
     "name": "stdout",
     "output_type": "stream",
     "text": [
      "Pairs created for date 2011-02-01 00:00:00\n"
     ]
    },
    {
     "data": {
      "application/vnd.jupyter.widget-view+json": {
       "model_id": "4b232b0a7c77467f818e15183149e2ee",
       "version_major": 2,
       "version_minor": 0
      },
      "text/plain": [
       "  0%|          | 0/212 [00:00<?, ?it/s]"
      ]
     },
     "metadata": {},
     "output_type": "display_data"
    },
    {
     "name": "stdout",
     "output_type": "stream",
     "text": [
      "Pairs created for date 2011-03-01 00:00:00\n"
     ]
    },
    {
     "data": {
      "application/vnd.jupyter.widget-view+json": {
       "model_id": "a550415666c948f28c99ecce5bff9f0e",
       "version_major": 2,
       "version_minor": 0
      },
      "text/plain": [
       "  0%|          | 0/210 [00:00<?, ?it/s]"
      ]
     },
     "metadata": {},
     "output_type": "display_data"
    },
    {
     "name": "stdout",
     "output_type": "stream",
     "text": [
      "Pairs created for date 2011-04-01 00:00:00\n"
     ]
    },
    {
     "data": {
      "application/vnd.jupyter.widget-view+json": {
       "model_id": "15dfab890c8643b6801c054106a87d41",
       "version_major": 2,
       "version_minor": 0
      },
      "text/plain": [
       "  0%|          | 0/209 [00:00<?, ?it/s]"
      ]
     },
     "metadata": {},
     "output_type": "display_data"
    },
    {
     "name": "stdout",
     "output_type": "stream",
     "text": [
      "Pairs created for date 2011-05-01 00:00:00\n"
     ]
    },
    {
     "data": {
      "application/vnd.jupyter.widget-view+json": {
       "model_id": "14fbc7881ac141ed9624048df7b7f327",
       "version_major": 2,
       "version_minor": 0
      },
      "text/plain": [
       "  0%|          | 0/206 [00:00<?, ?it/s]"
      ]
     },
     "metadata": {},
     "output_type": "display_data"
    },
    {
     "name": "stdout",
     "output_type": "stream",
     "text": [
      "Pairs created for date 2011-06-01 00:00:00\n"
     ]
    },
    {
     "data": {
      "application/vnd.jupyter.widget-view+json": {
       "model_id": "02efa882eee841f8a3942bff0a067f39",
       "version_major": 2,
       "version_minor": 0
      },
      "text/plain": [
       "  0%|          | 0/205 [00:00<?, ?it/s]"
      ]
     },
     "metadata": {},
     "output_type": "display_data"
    },
    {
     "name": "stdout",
     "output_type": "stream",
     "text": [
      "Pairs created for date 2011-07-01 00:00:00\n"
     ]
    },
    {
     "data": {
      "application/vnd.jupyter.widget-view+json": {
       "model_id": "08241461a1464f478ee1642ba85a7bd8",
       "version_major": 2,
       "version_minor": 0
      },
      "text/plain": [
       "  0%|          | 0/204 [00:00<?, ?it/s]"
      ]
     },
     "metadata": {},
     "output_type": "display_data"
    },
    {
     "name": "stdout",
     "output_type": "stream",
     "text": [
      "Pairs created for date 2011-08-01 00:00:00\n"
     ]
    },
    {
     "data": {
      "application/vnd.jupyter.widget-view+json": {
       "model_id": "33fe0097ddd649de905892a62bf28488",
       "version_major": 2,
       "version_minor": 0
      },
      "text/plain": [
       "  0%|          | 0/203 [00:00<?, ?it/s]"
      ]
     },
     "metadata": {},
     "output_type": "display_data"
    },
    {
     "name": "stdout",
     "output_type": "stream",
     "text": [
      "Pairs created for date 2011-09-01 00:00:00\n"
     ]
    },
    {
     "data": {
      "application/vnd.jupyter.widget-view+json": {
       "model_id": "cc16707f394c4655b7de34c3edc6b5f0",
       "version_major": 2,
       "version_minor": 0
      },
      "text/plain": [
       "  0%|          | 0/203 [00:00<?, ?it/s]"
      ]
     },
     "metadata": {},
     "output_type": "display_data"
    },
    {
     "name": "stdout",
     "output_type": "stream",
     "text": [
      "Pairs created for date 2011-10-01 00:00:00\n"
     ]
    },
    {
     "data": {
      "application/vnd.jupyter.widget-view+json": {
       "model_id": "f1e6b915c612460b95ee29ba99a07105",
       "version_major": 2,
       "version_minor": 0
      },
      "text/plain": [
       "  0%|          | 0/204 [00:00<?, ?it/s]"
      ]
     },
     "metadata": {},
     "output_type": "display_data"
    },
    {
     "name": "stdout",
     "output_type": "stream",
     "text": [
      "Pairs created for date 2011-11-01 00:00:00\n"
     ]
    },
    {
     "data": {
      "application/vnd.jupyter.widget-view+json": {
       "model_id": "135d959c56c54cbf97f66583256f5026",
       "version_major": 2,
       "version_minor": 0
      },
      "text/plain": [
       "  0%|          | 0/203 [00:00<?, ?it/s]"
      ]
     },
     "metadata": {},
     "output_type": "display_data"
    },
    {
     "name": "stdout",
     "output_type": "stream",
     "text": [
      "Pairs created for date 2011-12-01 00:00:00\n"
     ]
    },
    {
     "data": {
      "application/vnd.jupyter.widget-view+json": {
       "model_id": "cce545a62d9649b08a27ef98537842e2",
       "version_major": 2,
       "version_minor": 0
      },
      "text/plain": [
       "  0%|          | 0/202 [00:00<?, ?it/s]"
      ]
     },
     "metadata": {},
     "output_type": "display_data"
    },
    {
     "name": "stdout",
     "output_type": "stream",
     "text": [
      "Pairs created for date 2012-01-01 00:00:00\n"
     ]
    },
    {
     "data": {
      "application/vnd.jupyter.widget-view+json": {
       "model_id": "7cf136ab3a284d5b8a34f5b245d39038",
       "version_major": 2,
       "version_minor": 0
      },
      "text/plain": [
       "  0%|          | 0/198 [00:00<?, ?it/s]"
      ]
     },
     "metadata": {},
     "output_type": "display_data"
    },
    {
     "name": "stdout",
     "output_type": "stream",
     "text": [
      "Pairs created for date 2012-02-01 00:00:00\n"
     ]
    },
    {
     "data": {
      "application/vnd.jupyter.widget-view+json": {
       "model_id": "685dffb8643a473284773731cbca17b3",
       "version_major": 2,
       "version_minor": 0
      },
      "text/plain": [
       "  0%|          | 0/197 [00:00<?, ?it/s]"
      ]
     },
     "metadata": {},
     "output_type": "display_data"
    },
    {
     "name": "stdout",
     "output_type": "stream",
     "text": [
      "Pairs created for date 2012-03-01 00:00:00\n"
     ]
    },
    {
     "data": {
      "application/vnd.jupyter.widget-view+json": {
       "model_id": "005b512567c14ce0a349f2e7d5d6c5d8",
       "version_major": 2,
       "version_minor": 0
      },
      "text/plain": [
       "  0%|          | 0/214 [00:00<?, ?it/s]"
      ]
     },
     "metadata": {},
     "output_type": "display_data"
    },
    {
     "name": "stdout",
     "output_type": "stream",
     "text": [
      "Pairs created for date 2011-01-01 00:00:00\n"
     ]
    },
    {
     "data": {
      "application/vnd.jupyter.widget-view+json": {
       "model_id": "88330f52ccbe4f86ad4540e0d2647e78",
       "version_major": 2,
       "version_minor": 0
      },
      "text/plain": [
       "  0%|          | 0/212 [00:00<?, ?it/s]"
      ]
     },
     "metadata": {},
     "output_type": "display_data"
    },
    {
     "name": "stdout",
     "output_type": "stream",
     "text": [
      "Pairs created for date 2011-03-01 00:00:00\n"
     ]
    },
    {
     "data": {
      "application/vnd.jupyter.widget-view+json": {
       "model_id": "47449a143a884702a19af880bb935813",
       "version_major": 2,
       "version_minor": 0
      },
      "text/plain": [
       "  0%|          | 0/209 [00:00<?, ?it/s]"
      ]
     },
     "metadata": {},
     "output_type": "display_data"
    },
    {
     "name": "stdout",
     "output_type": "stream",
     "text": [
      "Pairs created for date 2011-05-01 00:00:00\n"
     ]
    },
    {
     "data": {
      "application/vnd.jupyter.widget-view+json": {
       "model_id": "4e35fc8614d6425ea0e80a70d2a1394c",
       "version_major": 2,
       "version_minor": 0
      },
      "text/plain": [
       "  0%|          | 0/205 [00:00<?, ?it/s]"
      ]
     },
     "metadata": {},
     "output_type": "display_data"
    },
    {
     "name": "stdout",
     "output_type": "stream",
     "text": [
      "Pairs created for date 2011-07-01 00:00:00\n"
     ]
    },
    {
     "data": {
      "application/vnd.jupyter.widget-view+json": {
       "model_id": "13ba6ebcbc954d1e98e5809b829cd0a8",
       "version_major": 2,
       "version_minor": 0
      },
      "text/plain": [
       "  0%|          | 0/203 [00:00<?, ?it/s]"
      ]
     },
     "metadata": {},
     "output_type": "display_data"
    },
    {
     "name": "stdout",
     "output_type": "stream",
     "text": [
      "Pairs created for date 2011-09-01 00:00:00\n"
     ]
    },
    {
     "data": {
      "application/vnd.jupyter.widget-view+json": {
       "model_id": "69b2995d38c347df8fa15746897f1c65",
       "version_major": 2,
       "version_minor": 0
      },
      "text/plain": [
       "  0%|          | 0/204 [00:00<?, ?it/s]"
      ]
     },
     "metadata": {},
     "output_type": "display_data"
    },
    {
     "name": "stdout",
     "output_type": "stream",
     "text": [
      "Pairs created for date 2011-11-01 00:00:00\n"
     ]
    },
    {
     "data": {
      "application/vnd.jupyter.widget-view+json": {
       "model_id": "aa6196f9319447c4835c5823dee9d601",
       "version_major": 2,
       "version_minor": 0
      },
      "text/plain": [
       "  0%|          | 0/202 [00:00<?, ?it/s]"
      ]
     },
     "metadata": {},
     "output_type": "display_data"
    },
    {
     "name": "stdout",
     "output_type": "stream",
     "text": [
      "Pairs created for date 2012-01-01 00:00:00\n"
     ]
    },
    {
     "data": {
      "application/vnd.jupyter.widget-view+json": {
       "model_id": "a6f257bbebe64c8485e55cbd71828542",
       "version_major": 2,
       "version_minor": 0
      },
      "text/plain": [
       "  0%|          | 0/197 [00:00<?, ?it/s]"
      ]
     },
     "metadata": {},
     "output_type": "display_data"
    },
    {
     "name": "stdout",
     "output_type": "stream",
     "text": [
      "Pairs created for date 2012-03-01 00:00:00\n"
     ]
    },
    {
     "data": {
      "application/vnd.jupyter.widget-view+json": {
       "model_id": "a61395fd487f4a269f916b4bff9bfef5",
       "version_major": 2,
       "version_minor": 0
      },
      "text/plain": [
       "  0%|          | 0/214 [00:00<?, ?it/s]"
      ]
     },
     "metadata": {},
     "output_type": "display_data"
    },
    {
     "name": "stdout",
     "output_type": "stream",
     "text": [
      "Pairs created for date 2011-01-01 00:00:00\n"
     ]
    },
    {
     "data": {
      "application/vnd.jupyter.widget-view+json": {
       "model_id": "e78ecc5053fa43ca9283fb70d180726f",
       "version_major": 2,
       "version_minor": 0
      },
      "text/plain": [
       "  0%|          | 0/210 [00:00<?, ?it/s]"
      ]
     },
     "metadata": {},
     "output_type": "display_data"
    },
    {
     "name": "stdout",
     "output_type": "stream",
     "text": [
      "Pairs created for date 2011-04-01 00:00:00\n"
     ]
    },
    {
     "data": {
      "application/vnd.jupyter.widget-view+json": {
       "model_id": "3628e384ae86416a98c2bdc1bdaff706",
       "version_major": 2,
       "version_minor": 0
      },
      "text/plain": [
       "  0%|          | 0/205 [00:00<?, ?it/s]"
      ]
     },
     "metadata": {},
     "output_type": "display_data"
    },
    {
     "name": "stdout",
     "output_type": "stream",
     "text": [
      "Pairs created for date 2011-07-01 00:00:00\n"
     ]
    },
    {
     "data": {
      "application/vnd.jupyter.widget-view+json": {
       "model_id": "19b3c14bed22464c96ffe871f443fc61",
       "version_major": 2,
       "version_minor": 0
      },
      "text/plain": [
       "  0%|          | 0/203 [00:00<?, ?it/s]"
      ]
     },
     "metadata": {},
     "output_type": "display_data"
    },
    {
     "name": "stdout",
     "output_type": "stream",
     "text": [
      "Pairs created for date 2011-10-01 00:00:00\n"
     ]
    },
    {
     "data": {
      "application/vnd.jupyter.widget-view+json": {
       "model_id": "af13e263a0104bd9b1d732f3e8c8f019",
       "version_major": 2,
       "version_minor": 0
      },
      "text/plain": [
       "  0%|          | 0/202 [00:00<?, ?it/s]"
      ]
     },
     "metadata": {},
     "output_type": "display_data"
    },
    {
     "name": "stdout",
     "output_type": "stream",
     "text": [
      "Pairs created for date 2012-01-01 00:00:00\n"
     ]
    },
    {
     "data": {
      "application/vnd.jupyter.widget-view+json": {
       "model_id": "c4d8b9d8540e49afb73071e9e5526945",
       "version_major": 2,
       "version_minor": 0
      },
      "text/plain": [
       "  0%|          | 0/214 [00:00<?, ?it/s]"
      ]
     },
     "metadata": {},
     "output_type": "display_data"
    },
    {
     "name": "stdout",
     "output_type": "stream",
     "text": [
      "Pairs created for date 2011-01-01 00:00:00\n"
     ]
    },
    {
     "data": {
      "application/vnd.jupyter.widget-view+json": {
       "model_id": "fab5dfecaf1842f89db36323f21c9174",
       "version_major": 2,
       "version_minor": 0
      },
      "text/plain": [
       "  0%|          | 0/213 [00:00<?, ?it/s]"
      ]
     },
     "metadata": {},
     "output_type": "display_data"
    },
    {
     "name": "stdout",
     "output_type": "stream",
     "text": [
      "Pairs created for date 2011-02-01 00:00:00\n"
     ]
    },
    {
     "data": {
      "application/vnd.jupyter.widget-view+json": {
       "model_id": "cdf7c085380446ba90795b30304ee60e",
       "version_major": 2,
       "version_minor": 0
      },
      "text/plain": [
       "  0%|          | 0/212 [00:00<?, ?it/s]"
      ]
     },
     "metadata": {},
     "output_type": "display_data"
    },
    {
     "name": "stdout",
     "output_type": "stream",
     "text": [
      "Pairs created for date 2011-03-01 00:00:00\n"
     ]
    },
    {
     "data": {
      "application/vnd.jupyter.widget-view+json": {
       "model_id": "69f69f974e2e48199ee8deab99a70da3",
       "version_major": 2,
       "version_minor": 0
      },
      "text/plain": [
       "  0%|          | 0/210 [00:00<?, ?it/s]"
      ]
     },
     "metadata": {},
     "output_type": "display_data"
    },
    {
     "name": "stdout",
     "output_type": "stream",
     "text": [
      "Pairs created for date 2011-04-01 00:00:00\n"
     ]
    },
    {
     "data": {
      "application/vnd.jupyter.widget-view+json": {
       "model_id": "01d586166fa441d3b266a884dd02f127",
       "version_major": 2,
       "version_minor": 0
      },
      "text/plain": [
       "  0%|          | 0/209 [00:00<?, ?it/s]"
      ]
     },
     "metadata": {},
     "output_type": "display_data"
    },
    {
     "name": "stdout",
     "output_type": "stream",
     "text": [
      "Pairs created for date 2011-05-01 00:00:00\n"
     ]
    },
    {
     "data": {
      "application/vnd.jupyter.widget-view+json": {
       "model_id": "f6f36a6a18fe4a85a529dc9507a3bdcf",
       "version_major": 2,
       "version_minor": 0
      },
      "text/plain": [
       "  0%|          | 0/206 [00:00<?, ?it/s]"
      ]
     },
     "metadata": {},
     "output_type": "display_data"
    },
    {
     "name": "stdout",
     "output_type": "stream",
     "text": [
      "Pairs created for date 2011-06-01 00:00:00\n"
     ]
    },
    {
     "data": {
      "application/vnd.jupyter.widget-view+json": {
       "model_id": "4c8bd66b223a4ab2976e72b5dc3cdd79",
       "version_major": 2,
       "version_minor": 0
      },
      "text/plain": [
       "  0%|          | 0/205 [00:00<?, ?it/s]"
      ]
     },
     "metadata": {},
     "output_type": "display_data"
    },
    {
     "name": "stdout",
     "output_type": "stream",
     "text": [
      "Pairs created for date 2011-07-01 00:00:00\n"
     ]
    },
    {
     "data": {
      "application/vnd.jupyter.widget-view+json": {
       "model_id": "54750f7a4a71450fb961afb1d232f6d9",
       "version_major": 2,
       "version_minor": 0
      },
      "text/plain": [
       "  0%|          | 0/204 [00:00<?, ?it/s]"
      ]
     },
     "metadata": {},
     "output_type": "display_data"
    },
    {
     "name": "stdout",
     "output_type": "stream",
     "text": [
      "Pairs created for date 2011-08-01 00:00:00\n"
     ]
    },
    {
     "data": {
      "application/vnd.jupyter.widget-view+json": {
       "model_id": "6ecd12da28774640b8a7ad03d107ba26",
       "version_major": 2,
       "version_minor": 0
      },
      "text/plain": [
       "  0%|          | 0/203 [00:00<?, ?it/s]"
      ]
     },
     "metadata": {},
     "output_type": "display_data"
    },
    {
     "name": "stdout",
     "output_type": "stream",
     "text": [
      "Pairs created for date 2011-09-01 00:00:00\n"
     ]
    },
    {
     "data": {
      "application/vnd.jupyter.widget-view+json": {
       "model_id": "7b406d3629574ba4996d670723ef06de",
       "version_major": 2,
       "version_minor": 0
      },
      "text/plain": [
       "  0%|          | 0/203 [00:00<?, ?it/s]"
      ]
     },
     "metadata": {},
     "output_type": "display_data"
    },
    {
     "name": "stdout",
     "output_type": "stream",
     "text": [
      "Pairs created for date 2011-10-01 00:00:00\n"
     ]
    },
    {
     "data": {
      "application/vnd.jupyter.widget-view+json": {
       "model_id": "290d0cda34b7482cba8f9e3dd243dbf4",
       "version_major": 2,
       "version_minor": 0
      },
      "text/plain": [
       "  0%|          | 0/204 [00:00<?, ?it/s]"
      ]
     },
     "metadata": {},
     "output_type": "display_data"
    },
    {
     "name": "stdout",
     "output_type": "stream",
     "text": [
      "Pairs created for date 2011-11-01 00:00:00\n"
     ]
    },
    {
     "data": {
      "application/vnd.jupyter.widget-view+json": {
       "model_id": "53e9d9262e774a82b2c807f131b35db8",
       "version_major": 2,
       "version_minor": 0
      },
      "text/plain": [
       "  0%|          | 0/203 [00:00<?, ?it/s]"
      ]
     },
     "metadata": {},
     "output_type": "display_data"
    },
    {
     "name": "stdout",
     "output_type": "stream",
     "text": [
      "Pairs created for date 2011-12-01 00:00:00\n"
     ]
    },
    {
     "data": {
      "application/vnd.jupyter.widget-view+json": {
       "model_id": "2823b57b721742808537580808990c1b",
       "version_major": 2,
       "version_minor": 0
      },
      "text/plain": [
       "  0%|          | 0/202 [00:00<?, ?it/s]"
      ]
     },
     "metadata": {},
     "output_type": "display_data"
    },
    {
     "name": "stdout",
     "output_type": "stream",
     "text": [
      "Pairs created for date 2012-01-01 00:00:00\n"
     ]
    },
    {
     "data": {
      "application/vnd.jupyter.widget-view+json": {
       "model_id": "f1db7a86c9b344c888df0adb8b96af57",
       "version_major": 2,
       "version_minor": 0
      },
      "text/plain": [
       "  0%|          | 0/198 [00:00<?, ?it/s]"
      ]
     },
     "metadata": {},
     "output_type": "display_data"
    },
    {
     "name": "stdout",
     "output_type": "stream",
     "text": [
      "Pairs created for date 2012-02-01 00:00:00\n"
     ]
    },
    {
     "data": {
      "application/vnd.jupyter.widget-view+json": {
       "model_id": "a968fe31219d48cea357a9e0544fd38c",
       "version_major": 2,
       "version_minor": 0
      },
      "text/plain": [
       "  0%|          | 0/197 [00:00<?, ?it/s]"
      ]
     },
     "metadata": {},
     "output_type": "display_data"
    },
    {
     "name": "stdout",
     "output_type": "stream",
     "text": [
      "Pairs created for date 2012-03-01 00:00:00\n"
     ]
    },
    {
     "data": {
      "application/vnd.jupyter.widget-view+json": {
       "model_id": "1385b79d2af842658bab7d3f5f1ed3ae",
       "version_major": 2,
       "version_minor": 0
      },
      "text/plain": [
       "  0%|          | 0/214 [00:00<?, ?it/s]"
      ]
     },
     "metadata": {},
     "output_type": "display_data"
    },
    {
     "name": "stdout",
     "output_type": "stream",
     "text": [
      "Pairs created for date 2011-01-01 00:00:00\n"
     ]
    },
    {
     "data": {
      "application/vnd.jupyter.widget-view+json": {
       "model_id": "67217ec8365e414b8122fca71b2b9ecd",
       "version_major": 2,
       "version_minor": 0
      },
      "text/plain": [
       "  0%|          | 0/212 [00:00<?, ?it/s]"
      ]
     },
     "metadata": {},
     "output_type": "display_data"
    },
    {
     "name": "stdout",
     "output_type": "stream",
     "text": [
      "Pairs created for date 2011-03-01 00:00:00\n"
     ]
    },
    {
     "data": {
      "application/vnd.jupyter.widget-view+json": {
       "model_id": "205ca35a286c4728a7e3a9c830a9917a",
       "version_major": 2,
       "version_minor": 0
      },
      "text/plain": [
       "  0%|          | 0/209 [00:00<?, ?it/s]"
      ]
     },
     "metadata": {},
     "output_type": "display_data"
    },
    {
     "name": "stdout",
     "output_type": "stream",
     "text": [
      "Pairs created for date 2011-05-01 00:00:00\n"
     ]
    },
    {
     "data": {
      "application/vnd.jupyter.widget-view+json": {
       "model_id": "596494ebdabf436aab06a93ad8d091be",
       "version_major": 2,
       "version_minor": 0
      },
      "text/plain": [
       "  0%|          | 0/205 [00:00<?, ?it/s]"
      ]
     },
     "metadata": {},
     "output_type": "display_data"
    },
    {
     "name": "stdout",
     "output_type": "stream",
     "text": [
      "Pairs created for date 2011-07-01 00:00:00\n"
     ]
    },
    {
     "data": {
      "application/vnd.jupyter.widget-view+json": {
       "model_id": "d739d8a17f384619a5f9152fe7de3536",
       "version_major": 2,
       "version_minor": 0
      },
      "text/plain": [
       "  0%|          | 0/203 [00:00<?, ?it/s]"
      ]
     },
     "metadata": {},
     "output_type": "display_data"
    },
    {
     "name": "stdout",
     "output_type": "stream",
     "text": [
      "Pairs created for date 2011-09-01 00:00:00\n"
     ]
    },
    {
     "data": {
      "application/vnd.jupyter.widget-view+json": {
       "model_id": "95bcc53994da41aca890224729ae1854",
       "version_major": 2,
       "version_minor": 0
      },
      "text/plain": [
       "  0%|          | 0/204 [00:00<?, ?it/s]"
      ]
     },
     "metadata": {},
     "output_type": "display_data"
    },
    {
     "name": "stdout",
     "output_type": "stream",
     "text": [
      "Pairs created for date 2011-11-01 00:00:00\n"
     ]
    },
    {
     "data": {
      "application/vnd.jupyter.widget-view+json": {
       "model_id": "79090e1b540e468d8c3c198618493561",
       "version_major": 2,
       "version_minor": 0
      },
      "text/plain": [
       "  0%|          | 0/202 [00:00<?, ?it/s]"
      ]
     },
     "metadata": {},
     "output_type": "display_data"
    },
    {
     "name": "stdout",
     "output_type": "stream",
     "text": [
      "Pairs created for date 2012-01-01 00:00:00\n"
     ]
    },
    {
     "data": {
      "application/vnd.jupyter.widget-view+json": {
       "model_id": "5952e0bb71a0447dbecfefddc895febf",
       "version_major": 2,
       "version_minor": 0
      },
      "text/plain": [
       "  0%|          | 0/197 [00:00<?, ?it/s]"
      ]
     },
     "metadata": {},
     "output_type": "display_data"
    },
    {
     "name": "stdout",
     "output_type": "stream",
     "text": [
      "Pairs created for date 2012-03-01 00:00:00\n"
     ]
    },
    {
     "data": {
      "application/vnd.jupyter.widget-view+json": {
       "model_id": "e9b6b86d8f144f5ebbbf135398aa881f",
       "version_major": 2,
       "version_minor": 0
      },
      "text/plain": [
       "  0%|          | 0/214 [00:00<?, ?it/s]"
      ]
     },
     "metadata": {},
     "output_type": "display_data"
    },
    {
     "name": "stdout",
     "output_type": "stream",
     "text": [
      "Pairs created for date 2011-01-01 00:00:00\n"
     ]
    },
    {
     "data": {
      "application/vnd.jupyter.widget-view+json": {
       "model_id": "2c771f294c7948d8b14c1bf9bb5cb366",
       "version_major": 2,
       "version_minor": 0
      },
      "text/plain": [
       "  0%|          | 0/210 [00:00<?, ?it/s]"
      ]
     },
     "metadata": {},
     "output_type": "display_data"
    },
    {
     "name": "stdout",
     "output_type": "stream",
     "text": [
      "Pairs created for date 2011-04-01 00:00:00\n"
     ]
    },
    {
     "data": {
      "application/vnd.jupyter.widget-view+json": {
       "model_id": "9fd6271617a3445dabf433b46cce9837",
       "version_major": 2,
       "version_minor": 0
      },
      "text/plain": [
       "  0%|          | 0/205 [00:00<?, ?it/s]"
      ]
     },
     "metadata": {},
     "output_type": "display_data"
    },
    {
     "name": "stdout",
     "output_type": "stream",
     "text": [
      "Pairs created for date 2011-07-01 00:00:00\n"
     ]
    },
    {
     "data": {
      "application/vnd.jupyter.widget-view+json": {
       "model_id": "4f8ffed598424e2286e230de3b1a37de",
       "version_major": 2,
       "version_minor": 0
      },
      "text/plain": [
       "  0%|          | 0/203 [00:00<?, ?it/s]"
      ]
     },
     "metadata": {},
     "output_type": "display_data"
    },
    {
     "name": "stdout",
     "output_type": "stream",
     "text": [
      "Pairs created for date 2011-10-01 00:00:00\n"
     ]
    },
    {
     "data": {
      "application/vnd.jupyter.widget-view+json": {
       "model_id": "6a6dc7642c664cb3be542e2e5e4fb237",
       "version_major": 2,
       "version_minor": 0
      },
      "text/plain": [
       "  0%|          | 0/202 [00:00<?, ?it/s]"
      ]
     },
     "metadata": {},
     "output_type": "display_data"
    },
    {
     "name": "stdout",
     "output_type": "stream",
     "text": [
      "Pairs created for date 2012-01-01 00:00:00\n"
     ]
    },
    {
     "data": {
      "application/vnd.jupyter.widget-view+json": {
       "model_id": "b41de959d2664fae816f9d2af7ef2f4e",
       "version_major": 2,
       "version_minor": 0
      },
      "text/plain": [
       "  0%|          | 0/214 [00:00<?, ?it/s]"
      ]
     },
     "metadata": {},
     "output_type": "display_data"
    },
    {
     "name": "stdout",
     "output_type": "stream",
     "text": [
      "Pairs created for date 2011-01-01 00:00:00\n"
     ]
    },
    {
     "data": {
      "application/vnd.jupyter.widget-view+json": {
       "model_id": "9d211f7db4554b19a2167323d1aff3f0",
       "version_major": 2,
       "version_minor": 0
      },
      "text/plain": [
       "  0%|          | 0/213 [00:00<?, ?it/s]"
      ]
     },
     "metadata": {},
     "output_type": "display_data"
    },
    {
     "name": "stdout",
     "output_type": "stream",
     "text": [
      "Pairs created for date 2011-02-01 00:00:00\n"
     ]
    },
    {
     "data": {
      "application/vnd.jupyter.widget-view+json": {
       "model_id": "a1edd9a3617e4e41a66ec59aff056e87",
       "version_major": 2,
       "version_minor": 0
      },
      "text/plain": [
       "  0%|          | 0/212 [00:00<?, ?it/s]"
      ]
     },
     "metadata": {},
     "output_type": "display_data"
    },
    {
     "name": "stdout",
     "output_type": "stream",
     "text": [
      "Pairs created for date 2011-03-01 00:00:00\n"
     ]
    },
    {
     "data": {
      "application/vnd.jupyter.widget-view+json": {
       "model_id": "70b05de578f24bbaaf276a47c5bdbc6b",
       "version_major": 2,
       "version_minor": 0
      },
      "text/plain": [
       "  0%|          | 0/210 [00:00<?, ?it/s]"
      ]
     },
     "metadata": {},
     "output_type": "display_data"
    },
    {
     "name": "stdout",
     "output_type": "stream",
     "text": [
      "Pairs created for date 2011-04-01 00:00:00\n"
     ]
    },
    {
     "data": {
      "application/vnd.jupyter.widget-view+json": {
       "model_id": "d9cf00201d3e40c8b74381590cbff6c6",
       "version_major": 2,
       "version_minor": 0
      },
      "text/plain": [
       "  0%|          | 0/209 [00:00<?, ?it/s]"
      ]
     },
     "metadata": {},
     "output_type": "display_data"
    },
    {
     "name": "stdout",
     "output_type": "stream",
     "text": [
      "Pairs created for date 2011-05-01 00:00:00\n"
     ]
    },
    {
     "data": {
      "application/vnd.jupyter.widget-view+json": {
       "model_id": "92c59923341146c9add6404fec0043c8",
       "version_major": 2,
       "version_minor": 0
      },
      "text/plain": [
       "  0%|          | 0/206 [00:00<?, ?it/s]"
      ]
     },
     "metadata": {},
     "output_type": "display_data"
    },
    {
     "name": "stdout",
     "output_type": "stream",
     "text": [
      "Pairs created for date 2011-06-01 00:00:00\n"
     ]
    },
    {
     "data": {
      "application/vnd.jupyter.widget-view+json": {
       "model_id": "d510ec4d391e4cf294dc68429bb22ecf",
       "version_major": 2,
       "version_minor": 0
      },
      "text/plain": [
       "  0%|          | 0/205 [00:00<?, ?it/s]"
      ]
     },
     "metadata": {},
     "output_type": "display_data"
    },
    {
     "name": "stdout",
     "output_type": "stream",
     "text": [
      "Pairs created for date 2011-07-01 00:00:00\n"
     ]
    },
    {
     "data": {
      "application/vnd.jupyter.widget-view+json": {
       "model_id": "34b2e42f19364769a23d9fe6749eb0a1",
       "version_major": 2,
       "version_minor": 0
      },
      "text/plain": [
       "  0%|          | 0/204 [00:00<?, ?it/s]"
      ]
     },
     "metadata": {},
     "output_type": "display_data"
    },
    {
     "name": "stdout",
     "output_type": "stream",
     "text": [
      "Pairs created for date 2011-08-01 00:00:00\n"
     ]
    },
    {
     "data": {
      "application/vnd.jupyter.widget-view+json": {
       "model_id": "d86886129094424295c5b35dc04e8984",
       "version_major": 2,
       "version_minor": 0
      },
      "text/plain": [
       "  0%|          | 0/203 [00:00<?, ?it/s]"
      ]
     },
     "metadata": {},
     "output_type": "display_data"
    },
    {
     "name": "stdout",
     "output_type": "stream",
     "text": [
      "Pairs created for date 2011-09-01 00:00:00\n"
     ]
    },
    {
     "data": {
      "application/vnd.jupyter.widget-view+json": {
       "model_id": "c5f2312ee83a4fb98908aca836607de0",
       "version_major": 2,
       "version_minor": 0
      },
      "text/plain": [
       "  0%|          | 0/203 [00:00<?, ?it/s]"
      ]
     },
     "metadata": {},
     "output_type": "display_data"
    },
    {
     "name": "stdout",
     "output_type": "stream",
     "text": [
      "Pairs created for date 2011-10-01 00:00:00\n"
     ]
    },
    {
     "data": {
      "application/vnd.jupyter.widget-view+json": {
       "model_id": "819839856b9f4ac9b9320c5d5df5dc51",
       "version_major": 2,
       "version_minor": 0
      },
      "text/plain": [
       "  0%|          | 0/204 [00:00<?, ?it/s]"
      ]
     },
     "metadata": {},
     "output_type": "display_data"
    },
    {
     "name": "stdout",
     "output_type": "stream",
     "text": [
      "Pairs created for date 2011-11-01 00:00:00\n"
     ]
    },
    {
     "data": {
      "application/vnd.jupyter.widget-view+json": {
       "model_id": "97f908d7fe8245e9803dcd855c83c947",
       "version_major": 2,
       "version_minor": 0
      },
      "text/plain": [
       "  0%|          | 0/203 [00:00<?, ?it/s]"
      ]
     },
     "metadata": {},
     "output_type": "display_data"
    },
    {
     "name": "stdout",
     "output_type": "stream",
     "text": [
      "Pairs created for date 2011-12-01 00:00:00\n"
     ]
    },
    {
     "data": {
      "application/vnd.jupyter.widget-view+json": {
       "model_id": "a44a3e1296014c9bad9df93cc4c7c6d1",
       "version_major": 2,
       "version_minor": 0
      },
      "text/plain": [
       "  0%|          | 0/202 [00:00<?, ?it/s]"
      ]
     },
     "metadata": {},
     "output_type": "display_data"
    },
    {
     "name": "stdout",
     "output_type": "stream",
     "text": [
      "Pairs created for date 2012-01-01 00:00:00\n"
     ]
    },
    {
     "data": {
      "application/vnd.jupyter.widget-view+json": {
       "model_id": "927c28db39de4d318fbbb86778621afb",
       "version_major": 2,
       "version_minor": 0
      },
      "text/plain": [
       "  0%|          | 0/198 [00:00<?, ?it/s]"
      ]
     },
     "metadata": {},
     "output_type": "display_data"
    },
    {
     "name": "stdout",
     "output_type": "stream",
     "text": [
      "Pairs created for date 2012-02-01 00:00:00\n"
     ]
    },
    {
     "data": {
      "application/vnd.jupyter.widget-view+json": {
       "model_id": "463a5cf4feb546b49e0e69f52272aff2",
       "version_major": 2,
       "version_minor": 0
      },
      "text/plain": [
       "  0%|          | 0/197 [00:00<?, ?it/s]"
      ]
     },
     "metadata": {},
     "output_type": "display_data"
    },
    {
     "name": "stdout",
     "output_type": "stream",
     "text": [
      "Pairs created for date 2012-03-01 00:00:00\n"
     ]
    },
    {
     "data": {
      "application/vnd.jupyter.widget-view+json": {
       "model_id": "82d10839daae473183316b016cbdf58b",
       "version_major": 2,
       "version_minor": 0
      },
      "text/plain": [
       "  0%|          | 0/214 [00:00<?, ?it/s]"
      ]
     },
     "metadata": {},
     "output_type": "display_data"
    },
    {
     "name": "stdout",
     "output_type": "stream",
     "text": [
      "Pairs created for date 2011-01-01 00:00:00\n"
     ]
    },
    {
     "data": {
      "application/vnd.jupyter.widget-view+json": {
       "model_id": "fc298cc0dcc74d23935788aa79029e4e",
       "version_major": 2,
       "version_minor": 0
      },
      "text/plain": [
       "  0%|          | 0/212 [00:00<?, ?it/s]"
      ]
     },
     "metadata": {},
     "output_type": "display_data"
    },
    {
     "name": "stdout",
     "output_type": "stream",
     "text": [
      "Pairs created for date 2011-03-01 00:00:00\n"
     ]
    },
    {
     "data": {
      "application/vnd.jupyter.widget-view+json": {
       "model_id": "12ea7c94a1814516a9b315f1f6ed1278",
       "version_major": 2,
       "version_minor": 0
      },
      "text/plain": [
       "  0%|          | 0/209 [00:00<?, ?it/s]"
      ]
     },
     "metadata": {},
     "output_type": "display_data"
    },
    {
     "name": "stdout",
     "output_type": "stream",
     "text": [
      "Pairs created for date 2011-05-01 00:00:00\n"
     ]
    },
    {
     "data": {
      "application/vnd.jupyter.widget-view+json": {
       "model_id": "0eae41b7c0334a46adf5155ee6309996",
       "version_major": 2,
       "version_minor": 0
      },
      "text/plain": [
       "  0%|          | 0/205 [00:00<?, ?it/s]"
      ]
     },
     "metadata": {},
     "output_type": "display_data"
    },
    {
     "name": "stdout",
     "output_type": "stream",
     "text": [
      "Pairs created for date 2011-07-01 00:00:00\n"
     ]
    },
    {
     "data": {
      "application/vnd.jupyter.widget-view+json": {
       "model_id": "2bc6f6d6bc2940fdbb3a0bea86642cd5",
       "version_major": 2,
       "version_minor": 0
      },
      "text/plain": [
       "  0%|          | 0/203 [00:00<?, ?it/s]"
      ]
     },
     "metadata": {},
     "output_type": "display_data"
    },
    {
     "name": "stdout",
     "output_type": "stream",
     "text": [
      "Pairs created for date 2011-09-01 00:00:00\n"
     ]
    },
    {
     "data": {
      "application/vnd.jupyter.widget-view+json": {
       "model_id": "e211b627362d4595bd43b34d55b12991",
       "version_major": 2,
       "version_minor": 0
      },
      "text/plain": [
       "  0%|          | 0/204 [00:00<?, ?it/s]"
      ]
     },
     "metadata": {},
     "output_type": "display_data"
    },
    {
     "name": "stdout",
     "output_type": "stream",
     "text": [
      "Pairs created for date 2011-11-01 00:00:00\n"
     ]
    },
    {
     "data": {
      "application/vnd.jupyter.widget-view+json": {
       "model_id": "8e7a1070bd46491b8789977682243c01",
       "version_major": 2,
       "version_minor": 0
      },
      "text/plain": [
       "  0%|          | 0/202 [00:00<?, ?it/s]"
      ]
     },
     "metadata": {},
     "output_type": "display_data"
    },
    {
     "name": "stdout",
     "output_type": "stream",
     "text": [
      "Pairs created for date 2012-01-01 00:00:00\n"
     ]
    },
    {
     "data": {
      "application/vnd.jupyter.widget-view+json": {
       "model_id": "6b64bac8e92b42509a1317b6f67b996e",
       "version_major": 2,
       "version_minor": 0
      },
      "text/plain": [
       "  0%|          | 0/197 [00:00<?, ?it/s]"
      ]
     },
     "metadata": {},
     "output_type": "display_data"
    },
    {
     "name": "stdout",
     "output_type": "stream",
     "text": [
      "Pairs created for date 2012-03-01 00:00:00\n"
     ]
    },
    {
     "data": {
      "application/vnd.jupyter.widget-view+json": {
       "model_id": "50f840d2369243fb9cc9cad0779303c6",
       "version_major": 2,
       "version_minor": 0
      },
      "text/plain": [
       "  0%|          | 0/214 [00:00<?, ?it/s]"
      ]
     },
     "metadata": {},
     "output_type": "display_data"
    },
    {
     "name": "stdout",
     "output_type": "stream",
     "text": [
      "Pairs created for date 2011-01-01 00:00:00\n"
     ]
    },
    {
     "data": {
      "application/vnd.jupyter.widget-view+json": {
       "model_id": "c7fea20171a04e3691a535d7a5014d1e",
       "version_major": 2,
       "version_minor": 0
      },
      "text/plain": [
       "  0%|          | 0/210 [00:00<?, ?it/s]"
      ]
     },
     "metadata": {},
     "output_type": "display_data"
    },
    {
     "name": "stdout",
     "output_type": "stream",
     "text": [
      "Pairs created for date 2011-04-01 00:00:00\n"
     ]
    },
    {
     "data": {
      "application/vnd.jupyter.widget-view+json": {
       "model_id": "d7d17b1da1354ea1967528c2ce18f05a",
       "version_major": 2,
       "version_minor": 0
      },
      "text/plain": [
       "  0%|          | 0/205 [00:00<?, ?it/s]"
      ]
     },
     "metadata": {},
     "output_type": "display_data"
    },
    {
     "name": "stdout",
     "output_type": "stream",
     "text": [
      "Pairs created for date 2011-07-01 00:00:00\n"
     ]
    },
    {
     "data": {
      "application/vnd.jupyter.widget-view+json": {
       "model_id": "709eb7575c844cf18068ad6f720d260b",
       "version_major": 2,
       "version_minor": 0
      },
      "text/plain": [
       "  0%|          | 0/203 [00:00<?, ?it/s]"
      ]
     },
     "metadata": {},
     "output_type": "display_data"
    },
    {
     "name": "stdout",
     "output_type": "stream",
     "text": [
      "Pairs created for date 2011-10-01 00:00:00\n"
     ]
    },
    {
     "data": {
      "application/vnd.jupyter.widget-view+json": {
       "model_id": "34bf72f134f2423cae9625a575af9115",
       "version_major": 2,
       "version_minor": 0
      },
      "text/plain": [
       "  0%|          | 0/202 [00:00<?, ?it/s]"
      ]
     },
     "metadata": {},
     "output_type": "display_data"
    },
    {
     "name": "stdout",
     "output_type": "stream",
     "text": [
      "Pairs created for date 2012-01-01 00:00:00\n"
     ]
    }
   ],
   "source": [
    "trading = tradingstrategy(data,factors_ff,cointegration_pairs)\n",
    "trading.trade()"
   ]
  },
  {
   "cell_type": "code",
   "execution_count": 133,
   "id": "37566091-9518-47c7-90e9-6e923cf9bb2f",
   "metadata": {},
   "outputs": [
    {
     "data": {
      "image/png": "[encoded data removed]",
      "text/plain": [
       "<Figure size 432x288 with 1 Axes>"
      ]
     },
     "metadata": {
      "needs_background": "light"
     },
     "output_type": "display_data"
    }
   ],
   "source": [
    "((1+trading.performance[['vasicek','cointegration']]).cumprod()*100).plot()\n",
    "benchmark = factors_ff['mkt_excess'].loc[trading.performance.index[0]:trading.performance.index[-1]].to_frame()\n",
    "benchmark = benchmark.resample('M').agg(lambda x: (x + 1).prod() - 1)\n",
    "vasicek_ret = trading.performance['vasicek']\n",
    "cointegration_ret = trading.performance['cointegration']"
   ]
  },
  {
   "cell_type": "code",
   "execution_count": 122,
   "id": "bd563708-3756-4767-a65d-112f2405eb51",
   "metadata": {
    "jupyter": {
     "source_hidden": true
    },
    "tags": []
   },
   "outputs": [
    {
     "data": {
      "text/plain": [
       "'\\\\begin{tabular}{lrrr}\\n\\\\toprule\\n{} &    vasicek &  cointegration &  mkt\\\\_excess \\\\\\\\\\n\\\\midrule\\nAnnualized Return &   0.119856 &       0.101873 &    0.005463 \\\\\\\\\\nAnnualized Std.   &   0.057099 &       0.019756 &    0.049620 \\\\\\\\\\n Sharpe Ratio     &   0.605958 &       1.488537 &    0.031785 \\\\\\\\\\nMinimum           &  -0.009228 &       0.000987 &   -0.069700 \\\\\\\\\\nMaximum           &   0.045805 &       0.023921 &    0.049700 \\\\\\\\\\nMax Drawdown      &  -0.025775 &       0.000000 &   -0.203263 \\\\\\\\\\nBeta              &   0.559795 &      -0.025492 &    1.000000 \\\\\\\\\\nObservations      &  15.000000 &      15.000000 &  293.000000 \\\\\\\\\\n\\\\bottomrule\\n\\\\end{tabular}\\n'"
      ]
     },
     "execution_count": 122,
     "metadata": {},
     "output_type": "execute_result"
    }
   ],
   "source": [
    "def evaluation(returns,benchmark):\n",
    "    \n",
    "    eval_df = pd.DataFrame(index = ['Annualized Return','Annualized Std.', \n",
    "                                      ' Sharpe Ratio', \n",
    "                                      'Minimum','Maximum',\n",
    "                                      'Max Drawdown',\n",
    "                                      'Beta',\n",
    "                                      'Observations'])\n",
    "    \n",
    "    for column in returns.columns:\n",
    "        metrics_list = list()\n",
    "        \n",
    "        \n",
    "        annualized_return = returns[column].mean()*12\n",
    "        annualized_std = returns[column].std()*np.sqrt(12)\n",
    "        sharpe_ratio = (returns[column].mean()/returns[column].std())\n",
    "        minimum = returns[column].min()\n",
    "        maximum = returns[column].max()\n",
    "        max_drawdown = empyrical.max_drawdown(returns[column])\n",
    "        beta = empyrical.beta(returns[column],benchmark)\n",
    "        observations = len(returns[column])\n",
    "        \n",
    "        \n",
    "        metrics_list.append(annualized_return)\n",
    "        metrics_list.append(annualized_std)\n",
    "        metrics_list.append(sharpe_ratio)\n",
    "        metrics_list.append(minimum)\n",
    "        metrics_list.append(maximum)\n",
    "        metrics_list.append(max_drawdown)\n",
    "        metrics_list.append(beta)\n",
    "        metrics_list.append(observations)\n",
    "        \n",
    "        eval_df[column] = metrics_list\n",
    "        \n",
    "    for column in benchmark.columns:\n",
    "        metrics_list = list()\n",
    "        \n",
    "        \n",
    "        annualized_return = benchmark[column].mean()*12\n",
    "        annualized_std = benchmark[column].std()*np.sqrt(12)\n",
    "        sharpe_ratio = (benchmark[column].mean()/benchmark[column].std())\n",
    "        minimum = benchmark[column].min()\n",
    "        maximum = benchmark[column].max()\n",
    "        max_drawdown = empyrical.max_drawdown(benchmark[column])\n",
    "        beta = empyrical.beta(benchmark[column],benchmark)\n",
    "        observations = len(benchmark[column])\n",
    "        \n",
    "        \n",
    "        metrics_list.append(annualized_return)\n",
    "        metrics_list.append(annualized_std)\n",
    "        metrics_list.append(sharpe_ratio)\n",
    "        metrics_list.append(minimum)\n",
    "        metrics_list.append(maximum)\n",
    "        metrics_list.append(max_drawdown)\n",
    "        metrics_list.append(beta)\n",
    "        metrics_list.append(observations)\n",
    "        \n",
    "        eval_df[column] = metrics_list\n",
    "    \n",
    "    return eval_df\n",
    "    \n",
    "eval_df = evaluation(trading.performance,benchmark)\n",
    "        \n",
    "eval_df.to_latex()"
   ]
  },
  {
   "cell_type": "markdown",
   "id": "79a8a2b3-b5b5-4dcd-844a-d30e6cc8ee61",
   "metadata": {},
   "source": [
    "### Figures "
   ]
  },
  {
   "cell_type": "code",
   "execution_count": 79,
   "id": "1026b296-b4d2-439a-a58f-ffce26db69ff",
   "metadata": {},
   "outputs": [],
   "source": [
    "def simpleaxis(ax):\n",
    "    ax.spines['top'].set_visible(False)\n",
    "    ax.spines['right'].set_visible(False)\n",
    "    ax.get_xaxis().tick_bottom()\n",
    "    ax.get_yaxis().tick_left()\n",
    "    return ax"
   ]
  },
  {
   "cell_type": "code",
   "execution_count": null,
   "id": "5ac248c5-06a5-4f72-9406-59587c8d1a48",
   "metadata": {},
   "outputs": [],
   "source": [
    "fig, axes = plt.subplots(1,2,figsize=(12,6),facecolor = \"white\")\n",
    "\n",
    "axes[0].plot(((1+trading.performance[['vasicek','cointegration']]).cumprod()*100))\n",
    "axes[0].plot(((1+benchmark).cumprod())*100)\n",
    "\n",
    "index = np.arange(len(trading.performance.index))\n",
    "bar_width = 0.3\n",
    "axes[1].bar(index, trading.performance['vasicek'], bar_width)\n",
    "axes[1].bar(index + bar_width, trading.performance['cointegration'], bar_width)\n",
    "axes[1].bar(index + bar_width + bar_width, benchmark['mkt_excess'], bar_width)\n",
    "axes[1].set_xticklabels(trading.performance.index)\n",
    "\n",
    "axes[0].set_ylabel(\"Index, 2011/01/01=100\")\n",
    "axes[1].set_ylabel(\"Return\")\n",
    "\n",
    "axes[0].tick_params(axis='x', labelrotation = 45)\n",
    "axes[1].tick_params(axis='x', labelrotation = 45)\n",
    "\n",
    "axes[0] = simpleaxis(axes[0])\n",
    "axes[1] = simpleaxis(axes[1])\n",
    "\n",
    "fig.subplots_adjust(bottom=0.02)\n",
    "fig.tight_layout(rect=(0,0.1,1,1))\n",
    "\n",
    "fig.legend([\"Vasicek\", 'Co-Integration','Benchmark'],loc=\"lower center\",\n",
    "          frameon=False,\n",
    "          ncol=3)\n",
    "\n",
    "\n",
    "#fig.savefig(\"spread_vasicek.jpg\")"
   ]
  },
  {
   "cell_type": "code",
   "execution_count": 80,
   "id": "d42efcbe-12a7-41aa-b12c-93dc43a3e8be",
   "metadata": {
    "tags": []
   },
   "outputs": [
    {
     "data": {
      "image/png": "[encoded data removed]",
      "text/plain": [
       "<Figure size 864x432 with 2 Axes>"
      ]
     },
     "metadata": {},
     "output_type": "display_data"
    }
   ],
   "source": [
    "stock1 = 11368\n",
    "stock2 = 12073\n",
    "\n",
    "\n",
    "plot_data = (trading.normalize(data[[stock1,stock2]].loc['2007-01-01':'2014-01-01']))\n",
    "spread = plot_data[stock1]-plot_data[stock2]\n",
    "\n",
    "curr_regime, low_dates, high_dates = trading.define_highlow_date(spread)\n",
    "\n",
    "kappa_low, theta_low, sigma_low = trading.estimate_vasicek(plot_data[stock1].loc[low_dates],plot_data[stock2].loc[low_dates])\n",
    "kappa_high, theta_high, sigma_high = trading.estimate_vasicek(plot_data[stock1].loc[high_dates],plot_data[stock2].loc[high_dates])\n",
    "\n",
    "\n",
    "\n",
    "\n",
    "fig, axes = plt.subplots(1,figsize=(12,6),facecolor = \"white\")\n",
    "\n",
    "ax2 = axes.twinx()\n",
    "axes.plot(plot_data[stock1],color=\"black\")\n",
    "axes.plot(plot_data[stock2],color=\"black\",linestyle='dashed')\n",
    "ax2.plot(spread,linewidth=2)\n",
    "\n",
    "\n",
    "\n",
    "axes.axvspan(date2num(datetime(2007,1,3)), date2num(datetime(2007,6,13)), color=\"grey\", alpha=0.5) #Manually located from the low_dates list\n",
    "axes.axvspan(date2num(datetime(2008,10,1)), date2num(datetime(2009,5,19)), color=\"grey\", alpha=0.5) #Manually located from the low_dates list\n",
    "\n",
    "ax2.axhline(theta_high)\n",
    "ax2.axhline(theta_low)\n",
    "\n",
    "ax2.text(date2num(datetime(2014,1,1)), theta_high+5, '$\\\\theta_{high}$', fontsize=20, va='center', ha='center')\n",
    "ax2.text(date2num(datetime(2014,1,1)), theta_low+5, '$\\\\theta_{low}$', fontsize=20, va='center', ha='center')\n",
    "\n",
    "\n",
    "\n",
    "axes.set_ylabel(\"Normalized Stock Price, 2005=100\")\n",
    "ax2.set_ylabel('Spread')\n",
    "\n",
    "axes.tick_params(axis='x', labelrotation = 45)\n",
    "axes = simpleaxis(axes)\n",
    "\n",
    "fig.legend([\"Stock A\", 'Stock B', 'Spread (Right axis)'],loc=\"lower center\",\n",
    "          frameon=False,\n",
    "          ncol=3)\n",
    "\n",
    "\n",
    "\n",
    "fig.subplots_adjust(bottom=0.02)\n",
    "fig.tight_layout()\n",
    "\n",
    "fig.savefig(\"spread_vasicek_markov.jpg\")"
   ]
  },
  {
   "cell_type": "code",
   "execution_count": 572,
   "id": "b5183d8c-6897-4dbb-bbd9-fc6940586c2f",
   "metadata": {},
   "outputs": [
    {
     "data": {
      "image/png": "[encoded data removed]",
      "text/plain": [
       "<Figure size 864x432 with 2 Axes>"
      ]
     },
     "metadata": {},
     "output_type": "display_data"
    }
   ],
   "source": [
    "stock1 = 11368\n",
    "stock2 = 12073\n",
    "\n",
    "\n",
    "plot_data = (trading.normalize(data[[stock1,stock2]].loc['2007-01-01':'2014-01-01']))\n",
    "spread = plot_data[stock1]-plot_data[stock2]\n",
    "\n",
    "curr_regime, low_dates, high_dates = trading.define_highlow_date(spread)\n",
    "\n",
    "    \n",
    "kappa, theta, sigma = trading.estimate_vasicek(plot_data[stock1],plot_data[stock2])\n",
    "\n",
    "fig, axes = plt.subplots(1,figsize=(12,6),facecolor = \"white\")\n",
    "\n",
    "ax2 = axes.twinx()\n",
    "axes.plot(plot_data[stock1],color=\"black\")\n",
    "axes.plot(plot_data[stock2],color=\"black\",linestyle='dashed')\n",
    "ax2.plot(spread,linewidth=2)\n",
    "\n",
    "#axes.axvspan(date2num(datetime(2007,1,3)), date2num(datetime(2007,6,13)), color=\"grey\", alpha=0.5) #Manually located from the low_dates list\n",
    "#axes.axvspan(date2num(datetime(2008,10,1)), date2num(datetime(2009,5,19)), color=\"grey\", alpha=0.5) #Manually located from the low_dates list\n",
    "\n",
    "ax2.axhline(theta)\n",
    "axes.set_ylabel(\"Normalized Stock Price, 2005=100\")\n",
    "ax2.set_ylabel('Spread')\n",
    "\n",
    "axes.tick_params(axis='x', labelrotation = 45)\n",
    "axes = simpleaxis(axes)\n",
    "\n",
    "\n",
    "fig.subplots_adjust(bottom=0.02)\n",
    "fig.tight_layout(rect=(0,0.1,1,1))\n",
    "\n",
    "fig.legend([\"Stock A\", 'Stock B', 'Spread (Right axis)'],loc=\"lower center\",\n",
    "          frameon=False,\n",
    "          ncol=3)\n",
    "\n",
    "\n",
    "fig.savefig(\"spread_vasicek.jpg\")"
   ]
  }
 ],
 "metadata": {
  "kernelspec": {
   "display_name": "Python 3 (ipykernel)",
   "language": "python",
   "name": "python3"
  },
  "language_info": {
   "codemirror_mode": {
    "name": "ipython",
    "version": 3
   },
   "file_extension": ".py",
   "mimetype": "text/x-python",
   "name": "python",
   "nbconvert_exporter": "python",
   "pygments_lexer": "ipython3",
   "version": "3.8.12"
  }
 },
 "nbformat": 4,
 "nbformat_minor": 5
}
