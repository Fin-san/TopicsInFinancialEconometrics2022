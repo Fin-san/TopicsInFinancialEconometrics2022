{
 "cells": [
  {
   "cell_type": "code",
   "execution_count": 1,
   "id": "220f0aae-c426-4d2d-9a7a-abcdcef1316f",
   "metadata": {
    "collapsed": true,
    "jupyter": {
     "outputs_hidden": true,
     "source_hidden": true
    },
    "tags": []
   },
   "outputs": [
    {
     "name": "stderr",
     "output_type": "stream",
     "text": [
      "/Users/frederikfindsen/opt/anaconda3/lib/python3.8/site-packages/statsmodels/tsa/base/tsa_model.py:7: FutureWarning: pandas.Int64Index is deprecated and will be removed from pandas in a future version. Use pandas.Index with the appropriate dtype instead.\n",
      "  from pandas import (to_datetime, Int64Index, DatetimeIndex, Period,\n",
      "/Users/frederikfindsen/opt/anaconda3/lib/python3.8/site-packages/statsmodels/tsa/base/tsa_model.py:7: FutureWarning: pandas.Float64Index is deprecated and will be removed from pandas in a future version. Use pandas.Index with the appropriate dtype instead.\n",
      "  from pandas import (to_datetime, Int64Index, DatetimeIndex, Period,\n"
     ]
    }
   ],
   "source": [
    "import pandas as pd\n",
    "import numpy as np\n",
    "import matplotlib.pyplot as plt\n",
    "import matplotlib.cm as cm\n",
    "import numpy as np\n",
    "import pandas as pd\n",
    "import statsmodels.api as sm\n",
    "from math import floor\n",
    "from sklearn import linear_model\n",
    "from statsmodels.tsa.stattools import adfuller\n",
    "import statsmodels.tsa.stattools as ts\n",
    "from datetime import datetime\n",
    "from dateutil.relativedelta import relativedelta\n",
    "import warnings\n",
    "warnings.filterwarnings('ignore')\n",
    "from tqdm.notebook import tqdm\n",
    "from matplotlib.dates import date2num\n",
    "import pyfolio as pf\n",
    "import matplotlib.pyplot as plt\n",
    "import empyrical"
   ]
  },
  {
   "cell_type": "markdown",
   "id": "a24f05eb-8129-4c08-87ca-c54da71973a0",
   "metadata": {},
   "source": [
    "## Data"
   ]
  },
  {
   "cell_type": "code",
   "execution_count": 2,
   "id": "a47dcfda-e65c-4ca8-bd4b-9dafaa06b1f7",
   "metadata": {},
   "outputs": [],
   "source": [
    "crsp_daily = pd.read_csv('/Users/frederikfindsen/Documents/Økonomi/8. Semester/Seminar/crsp_daily.csv',index_col='date',parse_dates=True)\n",
    "factors_ff = pd.read_csv('/Users/frederikfindsen/Documents/Økonomi/8. Semester/Seminar/factors_daily.csv',index_col='date',parse_dates=True)\n",
    "cointegration_pairs = pd.read_excel(\"/Users/frederikfindsen/Documents/Økonomi/8. Semester/Seminar/cointegration_pair.xlsx\",index_col = 'date', parse_dates = True)\n"
   ]
  },
  {
   "cell_type": "code",
   "execution_count": 3,
   "id": "d7b92b1e-d708-4c64-ada4-d1769208697e",
   "metadata": {
    "tags": []
   },
   "outputs": [],
   "source": [
    "data = crsp_daily.reset_index().pivot(index='date',columns='permno',values='ret_excess').iloc[:,0:1000]\n",
    "\n",
    "#Making returns to closing prices\n",
    "start = 100\n",
    "for column in data:\n",
    "    data[column] = start*(1+data[column]).cumprod()"
   ]
  },
  {
   "cell_type": "markdown",
   "id": "771ab2a1-7d0e-4f57-a928-4595582c7142",
   "metadata": {},
   "source": [
    "## Trading Strategy"
   ]
  },
  {
   "cell_type": "code",
   "execution_count": 4,
   "id": "df5c228c-d0db-4008-820b-9a0b4f829ac4",
   "metadata": {
    "jupyter": {
     "source_hidden": true
    },
    "tags": []
   },
   "outputs": [],
   "source": [
    "class trading_log:\n",
    "    \n",
    "    def __init__(self,show_message=True):\n",
    "        #Creating position variables\n",
    "        pos_type = 'none' #Can take following form: 'long', 'short', 'none'\n",
    "        pos_status = 'closed' #Can take following form: 'open', 'closed'\n",
    "        portfolio_log = pd.DataFrame(columns=['price','pos_type','pos_status','time','profit'])\n",
    "        portfolio_log.loc[portfolio_log.shape[0]] = [0,'none','closed',0,0]\n",
    "\n",
    "        \n",
    "        self.show_message = show_message\n",
    "        self.portfolio = portfolio_log\n",
    "        \n",
    "    def open_short(self,time,price):\n",
    "        \n",
    "        if (self.portfolio['pos_status'].iloc[-1] == 'open') & (self.portfolio['pos_type'].iloc[-1] == 'short'): #If trade already executed\n",
    "                    pass #Next time period\n",
    "\n",
    "        elif (self.portfolio['pos_status'].iloc[-1] == 'open') & (self.portfolio['pos_type'].iloc[-1] == 'long'): #If long trade ongoing, opening new short trade\n",
    "            pos_status = 'open'\n",
    "            pos_type = 'short'\n",
    "            price = price\n",
    "            time = time\n",
    "            profit = price - self.portfolio['price'].iloc[-1]\n",
    "            \n",
    "            if self.show_message == True:\n",
    "                print('We '+ str(pos_status)+ \" a \" + str(pos_type) + \" at \"+ str(price) + \" with a profit of \" + str(profit/100))\n",
    "            self.portfolio.loc[self.portfolio.shape[0]] = [price,pos_type,pos_status,time,profit]\n",
    "\n",
    "        elif self.portfolio['pos_status'].iloc[-1] == 'closed': #Opening a new trade\n",
    "            pos_status = 'open'\n",
    "            pos_type = 'short'\n",
    "            price = price\n",
    "            time = time\n",
    "            profit = 0\n",
    "            \n",
    "            self.portfolio.loc[self.portfolio.shape[0]] = [price,pos_type,pos_status,time,profit]\n",
    "        \n",
    "    def open_long(self,time,price):\n",
    "        if (self.portfolio['pos_status'].iloc[-1] == 'open') & (self.portfolio['pos_type'].iloc[-1] == 'long'): #If trade already executed\n",
    "            pass #Next time period\n",
    "\n",
    "        elif (self.portfolio['pos_status'].iloc[-1] == 'open') & (self.portfolio['pos_type'].iloc[-1] == 'short'): #If short trade ongoing, opening new long trade\n",
    "            pos_status = 'open'\n",
    "            pos_type = 'long'\n",
    "            price = price\n",
    "            time = time\n",
    "            profit =self.portfolio['price'].iloc[-1]-price\n",
    "            \n",
    "            self.portfolio.loc[self.portfolio.shape[0]] = [price,pos_type,pos_status,time,profit]\n",
    "\n",
    "            if self.show_message == True:\n",
    "                print('We '+ str(pos_status)+ \" a \" + str(pos_type) + \" at \"+ str(price) + \" with a profit of \" + str(profit/100))\n",
    "            \n",
    "        elif self.portfolio['pos_status'].iloc[-1] == 'closed': #Opening a new trade\n",
    "            pos_status = 'open'\n",
    "            pos_type = 'long'\n",
    "            price = price\n",
    "            time = time\n",
    "            profit = 0\n",
    "            \n",
    "            self.portfolio.loc[self.portfolio.shape[0]] = [price,pos_type,pos_status,time,profit]\n",
    "            \n",
    "            if self.show_message == True:\n",
    "                print('We '+ str(pos_status)+ \" a \" + str(pos_type) + \" at \"+ str(price) + \" with a profit of \" + str(profit/100))\n",
    "    \n",
    "    def close(self,time,price):\n",
    "        if self.portfolio['pos_status'].iloc[-1] == 'closed':\n",
    "            pass\n",
    "\n",
    "        elif (self.portfolio['pos_status'].iloc[-1] == 'open') & (self.portfolio['pos_type'].iloc[-1] == 'long'):\n",
    "            pos_status = 'closed'\n",
    "            pos_type = 'long'\n",
    "            price = price\n",
    "            time = time\n",
    "            profit = price - self.portfolio['price'].iloc[-1]\n",
    "            self.portfolio.loc[self.portfolio.shape[0]] = [price,pos_type,pos_status,time,profit]\n",
    "\n",
    "            if self.show_message == True:\n",
    "                print('We '+ str(pos_status)+ \" a \" + str(pos_type) + \" at \"+ str(price) + \" with a profit of \" + str(profit/100))\n",
    "\n",
    "\n",
    "        elif (self.portfolio['pos_status'].iloc[-1] == 'open') & (self.portfolio['pos_type'].iloc[-1] == 'short'):\n",
    "            pos_status = 'closed'\n",
    "            pos_type = 'short'\n",
    "            price = price\n",
    "            time = time\n",
    "            profit =self.portfolio['price'].iloc[-1]-price\n",
    "            \n",
    "            self.portfolio.loc[self.portfolio.shape[0]] = [price,pos_type,pos_status,time,profit]\n",
    "\n",
    "            if self.show_message == True:\n",
    "                print('We '+ str(pos_status)+ \" a \" + str(pos_type) + \" at \"+ str(price) + \" with a profit of \" + str(profit/100))\n",
    "    \n",
    "    def finish_trade(self,time,price):\n",
    "\n",
    "        if self.portfolio.shape[0] == 1:\n",
    "            pos_status = 'closed'\n",
    "            pos_type = 'none'\n",
    "            price = price\n",
    "            time = time\n",
    "            profit = 0\n",
    "\n",
    "            self.portfolio.loc[self.portfolio.shape[0]] = [price,pos_type,pos_status,time,profit]\n",
    "            self.profit = 0\n",
    "        \n",
    "            if self.show_message == True:\n",
    "                print(\"Trading window is closed, no trade signals triggered.\")\n",
    "        else:  \n",
    "            pos_status = 'closed'\n",
    "            pos_type = 'none'\n",
    "            price = price\n",
    "            time = time\n",
    "            profit = self.portfolio['price'].iloc[-1]-price\n",
    "\n",
    "            self.portfolio.loc[self.portfolio.shape[0]] = [price,pos_type,pos_status,time,profit]\n",
    "            self.profit = (((1+self.portfolio['profit']/100).cumprod())-1).iloc[-1]\n",
    "            \n",
    "\n",
    "            if self.show_message == True:\n",
    "                    print(\"Trading window is closed, closing trade. Total profit of: \" + str(round(self.profit,3)))\n",
    "\n"
   ]
  },
  {
   "cell_type": "code",
   "execution_count": 5,
   "id": "f0f21800-3ed8-492f-b74e-414fb7e4338a",
   "metadata": {
    "tags": []
   },
   "outputs": [],
   "source": [
    "class tradingstrategy:\n",
    "    \n",
    "    def __init__(self,data, mkt_data,cointegration_pairs):\n",
    "        self.data = data\n",
    "        self.market_data = mkt_data\n",
    "        self.cointegration_pairs = cointegration_pairs\n",
    "        \n",
    "    def define_highlow_date(self, mkt_return):\n",
    "\n",
    "        mod_kns = sm.tsa.MarkovRegression(\n",
    "            mkt_return, k_regimes=2, switching_variance=True\n",
    "                )\n",
    "\n",
    "        res_kns = mod_kns.fit(search_reps=20)\n",
    "\n",
    "        low_dates = list()\n",
    "        high_dates = list()\n",
    "        \n",
    "        for value, date in zip(res_kns.smoothed_marginal_probabilities[0],res_kns.smoothed_marginal_probabilities[1].index):\n",
    "            if value > 0.8:\n",
    "                low_dates.append(date)\n",
    "            else:\n",
    "                high_dates.append(date)\n",
    "        \n",
    "        self.low_dates = low_dates\n",
    "        self.high_dates = high_dates\n",
    "        \n",
    "        if res_kns.smoothed_marginal_probabilities[0][-1] > 0.8:\n",
    "            curr_regime = 'low'\n",
    "        else:\n",
    "            curr_regime = 'high'\n",
    "        \n",
    "            \n",
    "        return curr_regime, low_dates, high_dates\n",
    "\n",
    "    \n",
    "    def trade(self,start_date='01-01-2011',end_date='2012-03-01',trading_window=1,n_pairs=20):\n",
    "        \n",
    "        performance = pd.DataFrame({'date':[],'vasicek':[],'cointegration':[]})\n",
    "        \n",
    "        #Trading rolling\n",
    "        \n",
    "        vasicek_positive_total = list()\n",
    "        cointegration_positive_total = list()\n",
    "        \n",
    "        for date in pd.date_range(start_date,end_date,freq=f'{trading_window}MS'):\n",
    "            if date > pd.to_datetime('2014-12-31')-relativedelta(days=trading_window):\n",
    "                break\n",
    "                \n",
    "            self.date = date\n",
    "            self.create_pairs(n_pairs=n_pairs)\n",
    "            \n",
    "            print('Pairs created for date ' + str(date))\n",
    "            \n",
    "            \n",
    "            vasicek_profits = list()\n",
    "            cointegration_profits = list()\n",
    "            \n",
    "            vasicek_positive = list()\n",
    "            cointegration_positive = list()\n",
    "            \n",
    "            \n",
    "            for pairs in self.vasicek_pairs.iterrows(): #Trading vasicek\n",
    "                one_trade, positive_trade = self.trade_vasicek(self.data[[int(pairs[1]['stocka']),int(pairs[1]['stockb'])]],trading_window=trading_window)\n",
    "                vasicek_profits.append(one_trade.profit)\n",
    "                \n",
    "                vasicek_positive.append(positive_trade)\n",
    "            \n",
    "            \n",
    "            for pairs in self.coint_pairs.iterrows(): #Trading cointegration\n",
    "                one_trade, positive_trade = self.trade_coint(self.data[[int(pairs[1]['stocka']),int(pairs[1]['stockb'])]],regime=self.curr_regime,trading_window=trading_window)\n",
    "                cointegration_profits.append(one_trade.profit)\n",
    "                \n",
    "                cointegration_positive.append(positive_trade)\n",
    "                \n",
    "            \n",
    "            #Performance is the average of N pairs return in the trading window\n",
    "            performance.loc[performance.shape[0]] = [date, float(np.mean(vasicek_profits)),float(np.mean(cointegration_profits))]\n",
    "    \n",
    "            vasicek_share = sum(vasicek_positive)/n_pairs\n",
    "            cointegration_share = sum(cointegration_positive)/n_pairs\n",
    "            \n",
    "            vasicek_positive_total.append(vasicek_share)\n",
    "            cointegration_positive_total.append(cointegration_share)\n",
    "            \n",
    "        self.vasicek_positive = np.mean(vasicek_positive_total)\n",
    "        self.cointegration_positive = np.mean(cointegration_positive_total)\n",
    "            \n",
    "        self.performance = performance.set_index('date')\n",
    "        \n",
    "        \n",
    "    def create_pairs(self,n_pairs):\n",
    "        \n",
    "        window = 5 #years\n",
    "        five_years_ago = self.date - relativedelta(years=window) #Getering the data point five years ago\n",
    "        \n",
    "        \n",
    "        data = self.data.loc[five_years_ago:self.date] #Getting the last five years of data\n",
    "        cols = ~data.loc[five_years_ago:self.date].isnull().any() #Removing all columns with NA before date, no Forward looking bias\n",
    "        data = data.loc[:,cols] #Selecting the columns \n",
    "        \n",
    "        #Normalizing returns:\n",
    "        start = 100\n",
    "        for column in data:\n",
    "            data[column] = (data[column]/data[column].iloc[0])*100\n",
    "\n",
    "        \n",
    "        self.coint_pairs = self.pairs_cointegration(self.cointegration_pairs,n_pairs)\n",
    "        self.vasicek_pairs = self.test_vasicek(data,n_pairs)\n",
    "        \n",
    "        self.curr_regime, low_dates, high_dates = self.define_highlow_date(self.market_data['mkt_excess'].loc[five_years_ago:self.date])\n",
    "                        \n",
    "    def pairs_cointegration(self,data,number_pairs):\n",
    "        \n",
    "        data = data.loc[self.date].copy()\n",
    "        \n",
    "        data = data.reset_index().drop('date',axis=1)\n",
    "        pairs_coint = data.nsmallest(number_pairs, 'pvalues')\n",
    "        \n",
    "        return pairs_coint\n",
    "    \n",
    "    \n",
    "    def test_cointegration(self,data,number_pairs):\n",
    "        #Data is the return dataframe\n",
    "        n =  (len(data.columns) - 1)\n",
    "        stocks = data.iloc[:,1:].columns.values\n",
    "        data = data.to_numpy()\n",
    "        pvalue_matrix = np.zeros((n,n),dtype = float)\n",
    "        pairs = np.empty((n*n,2),dtype=object)\n",
    "        m = 0\n",
    "        \n",
    "        pair_df = pd.DataFrame({'stocka':[],'stockb':[],'p-value':[]})\n",
    "        \n",
    "        for i in tqdm(range(0,n)):\n",
    "            for j in range(0,n):\n",
    "                S1 = data[:,i+1]\n",
    "                S2 = data[:,j+1]\n",
    "                result = ts.coint(S1,S2)\n",
    "                pvalue_matrix[i,j] = result[1]\n",
    "                #storing all paris in matrix form\n",
    "\n",
    "                if (result[1] < 0.05) & (i!=j):\n",
    "                    pairs[m,0] = stocks[i]\n",
    "                    pairs[m,1] = stocks[j]\n",
    "\n",
    "                    pair_df.loc[pair_df.shape[0]] = [int(stocks[i]),int(stocks[j]),result[1]]\n",
    "\n",
    "                    m = m+1\n",
    "\n",
    "        pairs = pair_df.nsmallest(number_pairs, 'p-value')\n",
    "        \n",
    "        \n",
    "        return pvalue_matrix,  pairs\n",
    "        \n",
    "        \n",
    "        \n",
    "    def fit_ols(self, data):\n",
    "            \n",
    "        Y = data.shift(1)\n",
    "        X = sm.add_constant(data)\n",
    "\n",
    "        model = sm.OLS(Y,X)\n",
    "        results = model.fit()\n",
    "        \n",
    "    def spread(self,x,y):\n",
    "        regr = linear_model.LinearRegression()\n",
    "        x_constant = pd.concat([x,pd.Series([1]*len(x),index = x.index)], axis=1)\n",
    "        regr.fit(x_constant, y)    \n",
    "        beta = regr.coef_[0]\n",
    "        alpha = regr.intercept_\n",
    "        spread = y - x*beta\n",
    "\n",
    "        return spread, beta\n",
    "    \n",
    "    def test_vasicek(self, data, number_pairs):\n",
    "            \n",
    "        pair_df = pd.DataFrame({'stocka':[],'stockb':[],'SSD':[]})\n",
    "\n",
    "        for i in tqdm(data.columns):\n",
    "            try:\n",
    "                for j in data.columns:\n",
    "\n",
    "                    if i == j:\n",
    "                        pass\n",
    "                    else:\n",
    "                        S1 = data[i]\n",
    "                        S2 = data[j]\n",
    "                        result = np.sum((S1-S2)**2)\n",
    "\n",
    "                        #Storing results\n",
    "\n",
    "                        pair_df.loc[pair_df.shape[0]] = [int(i),int(j),result]\n",
    "            except:\n",
    "                pass\n",
    "        \n",
    "        pair_df.drop_duplicates('SSD',inplace=True)\n",
    "        pairs = pair_df.nsmallest(number_pairs, 'SSD')\n",
    "        \n",
    "        return pairs\n",
    "    \n",
    "\n",
    "    def estimate_vasicek(self, A, B):\n",
    "        \n",
    "        #Estimating the Vasicek model using MLE\n",
    "        spread = (A - B).to_numpy()\n",
    "        \n",
    "        #Setting up all relevant variables\n",
    "        n = len(spread)-1\n",
    "        Sx = np.sum(spread[0:len(spread)-1])\n",
    "        Sy = np.sum(spread[1:len(spread)])\n",
    "        Sxx = np.sum(spread[0:len(spread)-1]**2)\n",
    "        Sxy = np.sum(spread[0:len(spread)-1]*spread[1:len(spread)])\n",
    "        Syy = np.sum(spread[1:len(spread)]**2)\n",
    "        \n",
    "        \n",
    "        #Estimating parameters\n",
    "        theta = (Sy*Sxx-Sx*Sxy)/(n*(Sxx-Sxy)-(Sx**2-Sx*Sy))\n",
    "        kappa =  (( Sxy-theta*Sx-theta*Sy+n*theta**2)/(Sxx-2*theta*Sx+n*theta**2))\n",
    "        a = 1-kappa\n",
    "        sigmah2 = (Syy-2*a*Sxy+a**2*Sxx-2*theta*(1-a)*(Sy-a*Sx)+n*theta**2*(1-a)**2)/n\n",
    "        sigma = np.sqrt(sigmah2*2*kappa/(1-a**2))\n",
    "        \n",
    "        return kappa, theta, sigma\n",
    "    \n",
    "    def trade_coint(self, data, trading_window, regime,threshold=1.96):\n",
    "        \n",
    "        portfolio_log = trading_log(show_message=False)\n",
    "        \n",
    "        #try:\n",
    "        #Normalzing data\n",
    "        for column in data.columns:\n",
    "            data[column] = (data[column]/data[column].iloc[0])*100\n",
    "\n",
    "        data.columns = ['p','q']\n",
    "\n",
    "        #Defining test and train data\n",
    "        test_data = data.loc[self.date:self.date + relativedelta(months=trading_window)] \n",
    "        train_data = data.loc[:self.date]\n",
    "\n",
    "        test_data = self.normalize(test_data)\n",
    "        train_data = self.normalize(train_data)\n",
    "        spread_train, beta_train = self.spread(train_data['p'],train_data['q'])\n",
    "\n",
    "\n",
    "        curr_regime, low_dates, high_dates = self.define_highlow_date(spread_train)\n",
    "\n",
    "\n",
    "        if regime == 'high':\n",
    "            data = data.loc[high_dates]\n",
    "            spread, beta = self.spread(train_data['p'],train_data['q'])\n",
    "\n",
    "        elif regime == 'low':\n",
    "            data = data.loc[low_dates]\n",
    "            spread, beta = self.spread(train_data['p'],train_data['q'])\n",
    "\n",
    "        #Compute rolling mean and rolling standard deviation\n",
    "\n",
    "        #Generating z-score\n",
    "        st = test_data['p']-beta*test_data['q']\n",
    "        st_mean = st.mean()\n",
    "        st_std = st.std()\n",
    "\n",
    "        zscore =(st-st_mean)/st_std\n",
    "        \n",
    "        #Trading\n",
    "        #We log each trade in the portfolio_log dataframe\n",
    "        for i in range(len(zscore)):\n",
    "\n",
    "            # Sell short if the z-score is > 1\n",
    "            if zscore[i] > threshold:\n",
    "                portfolio_log.open_short(i,zscore[i])\n",
    "\n",
    "            # Buy long if the z-score is < -1\n",
    "            elif zscore[i] < -threshold:\n",
    "                portfolio_log.open_long(i,zscore[i])\n",
    "\n",
    "            # Clear positions if the z-score between -.5 and .5\n",
    "            elif abs(zscore[i]) < 0.5:\n",
    "                portfolio_log.close(i,zscore[i])\n",
    "\n",
    "            if i == len(zscore)-1:#End of period close of trade\n",
    "                portfolio_log.finish_trade(i,zscore[i])\n",
    "        #except:\n",
    "        #    portfolio_log.finish_trade(0,0)\n",
    "        if portfolio_log.profit==0:\n",
    "            positive_trade = 1\n",
    "        else:\n",
    "            positive_trade = 0\n",
    "            \n",
    "            \n",
    "        return portfolio_log, positive_trade\n",
    "    \n",
    "    def normalize(self, data):\n",
    "        norm_data = data.copy()\n",
    "        for column in norm_data.columns:\n",
    "            norm_data[column] = (norm_data[column]/norm_data[column].iloc[0])*100\n",
    "            \n",
    "        return norm_data\n",
    "    \n",
    "    def trade_vasicek(self, data, trading_window, threshold = 1.96):\n",
    "        \n",
    "        portfolio_log = trading_log(show_message=False)\n",
    "        \n",
    "        #try:\n",
    "        \n",
    "        data.columns = ['p','q']\n",
    "        #Defining test and train data\n",
    "\n",
    "        test_data = data.loc[self.date:self.date + relativedelta(months=trading_window)] \n",
    "        train_data = data.loc[:self.date]\n",
    "\n",
    "        test_data = self.normalize(test_data)\n",
    "        train_data = self.normalize(train_data)\n",
    "        spread_train = train_data['p'] - train_data['q']\n",
    "\n",
    "        curr_regime, low_dates, high_dates = self.define_highlow_date(spread_train)\n",
    "\n",
    "\n",
    "        if curr_regime == 'high':\n",
    "            data = data.loc[high_dates]\n",
    "            kappa, theta, sigma = self.estimate_vasicek(train_data['p'],train_data['q'])\n",
    "\n",
    "        elif curr_regime == 'low':\n",
    "            data = data.loc[low_dates]\n",
    "            kappa, theta, sigma = self.estimate_vasicek(train_data['p'],train_data['q'])\n",
    "\n",
    "        #Generating the score for buy/sell signals\n",
    "        spread = test_data['p'] - test_data['q']\n",
    "        ratio = kappa*(theta-spread)+sigma*threshold\n",
    "\n",
    "        for i in range(len(spread)):\n",
    "\n",
    "            # Sell short if the z-score\n",
    "            if spread[i] > kappa*(theta+spread[i-1])+threshold*sigma:\n",
    "                portfolio_log.open_short(i,spread[i])\n",
    "\n",
    "            # Buy long if the z-score\n",
    "            elif spread[i] < kappa*(theta+spread[i-1])-threshold*sigma:\n",
    "                portfolio_log.open_long(i,spread[i])\n",
    "\n",
    "            # Close else\n",
    "            else:\n",
    "                portfolio_log.close(i,spread[i])\n",
    "\n",
    "            if i == len(spread)-1:#End of period close of trade\n",
    "                portfolio_log.finish_trade(i,spread[i])\n",
    "\n",
    "        #except:\n",
    "        #    print(\"Error in estimation\")\n",
    "        #    portfolio_log.finish_trade(0,0)\n",
    "        \n",
    "        if portfolio_log.profit==0:\n",
    "            positive_trade = 1\n",
    "        else:\n",
    "            positive_trade = 0\n",
    "            \n",
    "            \n",
    "        return portfolio_log, positive_trade\n",
    "    \n",
    "    def evaluate_performance(self):\n",
    "        \n",
    "        #performance_list = list()\n",
    "        \n",
    "        pairs_sharpe = pd.DataFrame(columns=['pairs','Vasicek','Cointegration'])\n",
    "        \n",
    "        for j in range(1,30,2):\n",
    "            performance_df = pd.DataFrame()\n",
    "            \n",
    "            vas_name = 'pair_'+str(j)+'_vas'\n",
    "            coint_name = 'pair_'+str(j)+'_coint'\n",
    "\n",
    "            self.trade(start_date='2011-01-01',end_date='2012-03-01',n_pairs=j)\n",
    "\n",
    "            vasicek = self.performance['vasicek']\n",
    "            coint = self.performance['cointegration']\n",
    "\n",
    "            performance_df[vas_name] = vasicek\n",
    "            performance_df[coint_name] = coint\n",
    "                \n",
    "            sharpe_vasicek = performance_df[vas_name].mean()/performance_df[vas_name].std()\n",
    "            sharpe_coint = performance_df[coint_name].mean()/performance_df[coint_name].std()\n",
    "            \n",
    "            pairs_sharpe.loc[pairs_sharpe.shape[0]] = [j,sharpe_vasicek,sharpe_coint]\n",
    "            \n",
    "                \n",
    "        #self.performance_list = performance_list\n",
    "        self.pairs_sharpe = pairs_sharpe\n",
    "        \n",
    "        \n",
    "        return performance_list\n",
    "    "
   ]
  },
  {
   "cell_type": "code",
   "execution_count": 6,
   "id": "1382e7c9-0b80-440e-ab81-41b3d2c24c0e",
   "metadata": {
    "jupyter": {
     "source_hidden": true
    },
    "tags": []
   },
   "outputs": [],
   "source": [
    "class trading_log:\n",
    "    \n",
    "    def __init__(self,show_message=True):\n",
    "        #Creating position variables\n",
    "        pos_type = 'none' #Can take following form: 'long', 'short', 'none'\n",
    "        pos_status = 'closed' #Can take following form: 'open', 'closed'\n",
    "        portfolio_log = pd.DataFrame(columns=['price','pos_type','pos_status','time','profit'])\n",
    "        portfolio_log.loc[portfolio_log.shape[0]] = [0,'none','closed',0,0]\n",
    "\n",
    "        \n",
    "        self.show_message = show_message\n",
    "        self.portfolio = portfolio_log\n",
    "        \n",
    "    def open_short(self,time,price):\n",
    "        \n",
    "        if (self.portfolio['pos_status'].iloc[-1] == 'open') & (self.portfolio['pos_type'].iloc[-1] == 'short'): #If trade already executed\n",
    "                    pass #Next time period\n",
    "\n",
    "        elif (self.portfolio['pos_status'].iloc[-1] == 'open') & (self.portfolio['pos_type'].iloc[-1] == 'long'): #If long trade ongoing, opening new short trade\n",
    "            pos_status = 'open'\n",
    "            pos_type = 'short'\n",
    "            price = price\n",
    "            time = time\n",
    "            profit = price - self.portfolio['price'].iloc[-1]\n",
    "            \n",
    "            if self.show_message == True:\n",
    "                print('We '+ str(pos_status)+ \" a \" + str(pos_type) + \" at \"+ str(price) + \" with a profit of \" + str(profit/100))\n",
    "            self.portfolio.loc[self.portfolio.shape[0]] = [price,pos_type,pos_status,time,profit]\n",
    "\n",
    "        elif self.portfolio['pos_status'].iloc[-1] == 'closed': #Opening a new trade\n",
    "            pos_status = 'open'\n",
    "            pos_type = 'short'\n",
    "            price = price\n",
    "            time = time\n",
    "            profit = 0\n",
    "            \n",
    "            self.portfolio.loc[self.portfolio.shape[0]] = [price,pos_type,pos_status,time,profit]\n",
    "        \n",
    "    def open_long(self,time,price):\n",
    "        if (self.portfolio['pos_status'].iloc[-1] == 'open') & (self.portfolio['pos_type'].iloc[-1] == 'long'): #If trade already executed\n",
    "            pass #Next time period\n",
    "\n",
    "        elif (self.portfolio['pos_status'].iloc[-1] == 'open') & (self.portfolio['pos_type'].iloc[-1] == 'short'): #If short trade ongoing, opening new long trade\n",
    "            pos_status = 'open'\n",
    "            pos_type = 'long'\n",
    "            price = price\n",
    "            time = time\n",
    "            profit =self.portfolio['price'].iloc[-1]-price\n",
    "            \n",
    "            self.portfolio.loc[self.portfolio.shape[0]] = [price,pos_type,pos_status,time,profit]\n",
    "\n",
    "            if self.show_message == True:\n",
    "                print('We '+ str(pos_status)+ \" a \" + str(pos_type) + \" at \"+ str(price) + \" with a profit of \" + str(profit/100))\n",
    "            \n",
    "        elif self.portfolio['pos_status'].iloc[-1] == 'closed': #Opening a new trade\n",
    "            pos_status = 'open'\n",
    "            pos_type = 'long'\n",
    "            price = price\n",
    "            time = time\n",
    "            profit = 0\n",
    "            \n",
    "            self.portfolio.loc[self.portfolio.shape[0]] = [price,pos_type,pos_status,time,profit]\n",
    "            \n",
    "            if self.show_message == True:\n",
    "                print('We '+ str(pos_status)+ \" a \" + str(pos_type) + \" at \"+ str(price) + \" with a profit of \" + str(profit/100))\n",
    "    \n",
    "    def close(self,time,price):\n",
    "        if self.portfolio['pos_status'].iloc[-1] == 'closed':\n",
    "            pass\n",
    "\n",
    "        elif (self.portfolio['pos_status'].iloc[-1] == 'open') & (self.portfolio['pos_type'].iloc[-1] == 'long'):\n",
    "            pos_status = 'closed'\n",
    "            pos_type = 'long'\n",
    "            price = price\n",
    "            time = time\n",
    "            profit = price - self.portfolio['price'].iloc[-1]\n",
    "            self.portfolio.loc[self.portfolio.shape[0]] = [price,pos_type,pos_status,time,profit]\n",
    "\n",
    "            if self.show_message == True:\n",
    "                print('We '+ str(pos_status)+ \" a \" + str(pos_type) + \" at \"+ str(price) + \" with a profit of \" + str(profit/100))\n",
    "\n",
    "\n",
    "        elif (self.portfolio['pos_status'].iloc[-1] == 'open') & (self.portfolio['pos_type'].iloc[-1] == 'short'):\n",
    "            pos_status = 'closed'\n",
    "            pos_type = 'short'\n",
    "            price = price\n",
    "            time = time\n",
    "            profit =self.portfolio['price'].iloc[-1]-price\n",
    "            \n",
    "            self.portfolio.loc[self.portfolio.shape[0]] = [price,pos_type,pos_status,time,profit]\n",
    "\n",
    "            if self.show_message == True:\n",
    "                print('We '+ str(pos_status)+ \" a \" + str(pos_type) + \" at \"+ str(price) + \" with a profit of \" + str(profit/100))\n",
    "    \n",
    "    def finish_trade(self,time,price):\n",
    "\n",
    "        if self.portfolio.shape[0] == 1:\n",
    "            pos_status = 'closed'\n",
    "            pos_type = 'none'\n",
    "            price = price\n",
    "            time = time\n",
    "            profit = 0\n",
    "\n",
    "            self.portfolio.loc[self.portfolio.shape[0]] = [price,pos_type,pos_status,time,profit]\n",
    "            self.profit = 0\n",
    "        \n",
    "            if self.show_message == True:\n",
    "                print(\"Trading window is closed, no trade signals triggered.\")\n",
    "        else:  \n",
    "            pos_status = 'closed'\n",
    "            pos_type = 'none'\n",
    "            price = price\n",
    "            time = time\n",
    "            profit = self.portfolio['price'].iloc[-1]-price\n",
    "\n",
    "            self.portfolio.loc[self.portfolio.shape[0]] = [price,pos_type,pos_status,time,profit]\n",
    "            self.profit = (((1+self.portfolio['profit']/100).cumprod())-1).iloc[-1]\n",
    "\n",
    "            if self.show_message == True:\n",
    "                    print(\"Trading window is closed, closing trade. Total profit of: \" + str(round(self.profit,3)))\n",
    "\n"
   ]
  },
  {
   "cell_type": "code",
   "execution_count": 7,
   "id": "4d9a87cc-7dad-4315-aa59-b45056d662c1",
   "metadata": {
    "tags": []
   },
   "outputs": [
    {
     "data": {
      "application/vnd.jupyter.widget-view+json": {
       "model_id": "8c651d2665b842ce9428cf1e145a4420",
       "version_major": 2,
       "version_minor": 0
      },
      "text/plain": [
       "  0%|          | 0/214 [00:00<?, ?it/s]"
      ]
     },
     "metadata": {},
     "output_type": "display_data"
    },
    {
     "name": "stdout",
     "output_type": "stream",
     "text": [
      "Pairs created for date 2011-01-01 00:00:00\n"
     ]
    },
    {
     "data": {
      "application/vnd.jupyter.widget-view+json": {
       "model_id": "a8b4f1b309ff4c3bb9b0a0eb605e0d4e",
       "version_major": 2,
       "version_minor": 0
      },
      "text/plain": [
       "  0%|          | 0/213 [00:00<?, ?it/s]"
      ]
     },
     "metadata": {},
     "output_type": "display_data"
    },
    {
     "name": "stdout",
     "output_type": "stream",
     "text": [
      "Pairs created for date 2011-02-01 00:00:00\n"
     ]
    },
    {
     "data": {
      "application/vnd.jupyter.widget-view+json": {
       "model_id": "ead61b654a4245ffaf7e4a753a709f8e",
       "version_major": 2,
       "version_minor": 0
      },
      "text/plain": [
       "  0%|          | 0/212 [00:00<?, ?it/s]"
      ]
     },
     "metadata": {},
     "output_type": "display_data"
    },
    {
     "name": "stdout",
     "output_type": "stream",
     "text": [
      "Pairs created for date 2011-03-01 00:00:00\n"
     ]
    },
    {
     "data": {
      "application/vnd.jupyter.widget-view+json": {
       "model_id": "c895011090884ec5b63004a2d9507c80",
       "version_major": 2,
       "version_minor": 0
      },
      "text/plain": [
       "  0%|          | 0/210 [00:00<?, ?it/s]"
      ]
     },
     "metadata": {},
     "output_type": "display_data"
    },
    {
     "name": "stdout",
     "output_type": "stream",
     "text": [
      "Pairs created for date 2011-04-01 00:00:00\n"
     ]
    },
    {
     "data": {
      "application/vnd.jupyter.widget-view+json": {
       "model_id": "3406480e67e64f409293fa49750b0ee1",
       "version_major": 2,
       "version_minor": 0
      },
      "text/plain": [
       "  0%|          | 0/209 [00:00<?, ?it/s]"
      ]
     },
     "metadata": {},
     "output_type": "display_data"
    },
    {
     "name": "stdout",
     "output_type": "stream",
     "text": [
      "Pairs created for date 2011-05-01 00:00:00\n"
     ]
    },
    {
     "data": {
      "application/vnd.jupyter.widget-view+json": {
       "model_id": "72b755f2192a4d239062ad3c0ca1584c",
       "version_major": 2,
       "version_minor": 0
      },
      "text/plain": [
       "  0%|          | 0/206 [00:00<?, ?it/s]"
      ]
     },
     "metadata": {},
     "output_type": "display_data"
    },
    {
     "name": "stdout",
     "output_type": "stream",
     "text": [
      "Pairs created for date 2011-06-01 00:00:00\n"
     ]
    },
    {
     "data": {
      "application/vnd.jupyter.widget-view+json": {
       "model_id": "89353e15aee8418f9bff5f27f52df353",
       "version_major": 2,
       "version_minor": 0
      },
      "text/plain": [
       "  0%|          | 0/205 [00:00<?, ?it/s]"
      ]
     },
     "metadata": {},
     "output_type": "display_data"
    },
    {
     "name": "stdout",
     "output_type": "stream",
     "text": [
      "Pairs created for date 2011-07-01 00:00:00\n"
     ]
    },
    {
     "data": {
      "application/vnd.jupyter.widget-view+json": {
       "model_id": "84a9a55f03a240359933060d1340193b",
       "version_major": 2,
       "version_minor": 0
      },
      "text/plain": [
       "  0%|          | 0/204 [00:00<?, ?it/s]"
      ]
     },
     "metadata": {},
     "output_type": "display_data"
    },
    {
     "name": "stdout",
     "output_type": "stream",
     "text": [
      "Pairs created for date 2011-08-01 00:00:00\n"
     ]
    },
    {
     "data": {
      "application/vnd.jupyter.widget-view+json": {
       "model_id": "da04b812083b461281d67c0bda9d4d1f",
       "version_major": 2,
       "version_minor": 0
      },
      "text/plain": [
       "  0%|          | 0/203 [00:00<?, ?it/s]"
      ]
     },
     "metadata": {},
     "output_type": "display_data"
    },
    {
     "name": "stdout",
     "output_type": "stream",
     "text": [
      "Pairs created for date 2011-09-01 00:00:00\n"
     ]
    },
    {
     "data": {
      "application/vnd.jupyter.widget-view+json": {
       "model_id": "00f062c94d3f4f48b2d560fdbb56e54f",
       "version_major": 2,
       "version_minor": 0
      },
      "text/plain": [
       "  0%|          | 0/203 [00:00<?, ?it/s]"
      ]
     },
     "metadata": {},
     "output_type": "display_data"
    },
    {
     "name": "stdout",
     "output_type": "stream",
     "text": [
      "Pairs created for date 2011-10-01 00:00:00\n"
     ]
    },
    {
     "data": {
      "application/vnd.jupyter.widget-view+json": {
       "model_id": "6e73fbef486842cc8446df62a585ea3b",
       "version_major": 2,
       "version_minor": 0
      },
      "text/plain": [
       "  0%|          | 0/204 [00:00<?, ?it/s]"
      ]
     },
     "metadata": {},
     "output_type": "display_data"
    },
    {
     "name": "stdout",
     "output_type": "stream",
     "text": [
      "Pairs created for date 2011-11-01 00:00:00\n"
     ]
    },
    {
     "data": {
      "application/vnd.jupyter.widget-view+json": {
       "model_id": "e15a80ebbb8041ec8c73f77f76592565",
       "version_major": 2,
       "version_minor": 0
      },
      "text/plain": [
       "  0%|          | 0/203 [00:00<?, ?it/s]"
      ]
     },
     "metadata": {},
     "output_type": "display_data"
    },
    {
     "name": "stdout",
     "output_type": "stream",
     "text": [
      "Pairs created for date 2011-12-01 00:00:00\n"
     ]
    },
    {
     "data": {
      "application/vnd.jupyter.widget-view+json": {
       "model_id": "cadced86fa90480abc3980aa41234f89",
       "version_major": 2,
       "version_minor": 0
      },
      "text/plain": [
       "  0%|          | 0/202 [00:00<?, ?it/s]"
      ]
     },
     "metadata": {},
     "output_type": "display_data"
    },
    {
     "name": "stdout",
     "output_type": "stream",
     "text": [
      "Pairs created for date 2012-01-01 00:00:00\n"
     ]
    },
    {
     "data": {
      "application/vnd.jupyter.widget-view+json": {
       "model_id": "5f6ec630e50a49bdad0a1a1778baa734",
       "version_major": 2,
       "version_minor": 0
      },
      "text/plain": [
       "  0%|          | 0/198 [00:00<?, ?it/s]"
      ]
     },
     "metadata": {},
     "output_type": "display_data"
    },
    {
     "name": "stdout",
     "output_type": "stream",
     "text": [
      "Pairs created for date 2012-02-01 00:00:00\n"
     ]
    },
    {
     "data": {
      "application/vnd.jupyter.widget-view+json": {
       "model_id": "266575a562d24f5ea6ad038124839456",
       "version_major": 2,
       "version_minor": 0
      },
      "text/plain": [
       "  0%|          | 0/197 [00:00<?, ?it/s]"
      ]
     },
     "metadata": {},
     "output_type": "display_data"
    },
    {
     "name": "stdout",
     "output_type": "stream",
     "text": [
      "Pairs created for date 2012-03-01 00:00:00\n"
     ]
    },
    {
     "data": {
      "application/vnd.jupyter.widget-view+json": {
       "model_id": "1ada689680a94b8c96662521f034fdbc",
       "version_major": 2,
       "version_minor": 0
      },
      "text/plain": [
       "  0%|          | 0/214 [00:00<?, ?it/s]"
      ]
     },
     "metadata": {},
     "output_type": "display_data"
    },
    {
     "name": "stdout",
     "output_type": "stream",
     "text": [
      "Pairs created for date 2011-01-01 00:00:00\n"
     ]
    },
    {
     "data": {
      "application/vnd.jupyter.widget-view+json": {
       "model_id": "6fb0ae890c7c4cd0820b908864c52e34",
       "version_major": 2,
       "version_minor": 0
      },
      "text/plain": [
       "  0%|          | 0/213 [00:00<?, ?it/s]"
      ]
     },
     "metadata": {},
     "output_type": "display_data"
    },
    {
     "name": "stdout",
     "output_type": "stream",
     "text": [
      "Pairs created for date 2011-02-01 00:00:00\n"
     ]
    },
    {
     "data": {
      "application/vnd.jupyter.widget-view+json": {
       "model_id": "3046bef131e54cc08cbe13c9fa96c929",
       "version_major": 2,
       "version_minor": 0
      },
      "text/plain": [
       "  0%|          | 0/212 [00:00<?, ?it/s]"
      ]
     },
     "metadata": {},
     "output_type": "display_data"
    },
    {
     "name": "stdout",
     "output_type": "stream",
     "text": [
      "Pairs created for date 2011-03-01 00:00:00\n"
     ]
    },
    {
     "data": {
      "application/vnd.jupyter.widget-view+json": {
       "model_id": "095ae9d56d724139ab674255b8032a14",
       "version_major": 2,
       "version_minor": 0
      },
      "text/plain": [
       "  0%|          | 0/210 [00:00<?, ?it/s]"
      ]
     },
     "metadata": {},
     "output_type": "display_data"
    },
    {
     "name": "stdout",
     "output_type": "stream",
     "text": [
      "Pairs created for date 2011-04-01 00:00:00\n"
     ]
    },
    {
     "data": {
      "application/vnd.jupyter.widget-view+json": {
       "model_id": "b9986053f5ad44cd9c32fc8945cc2d56",
       "version_major": 2,
       "version_minor": 0
      },
      "text/plain": [
       "  0%|          | 0/209 [00:00<?, ?it/s]"
      ]
     },
     "metadata": {},
     "output_type": "display_data"
    },
    {
     "name": "stdout",
     "output_type": "stream",
     "text": [
      "Pairs created for date 2011-05-01 00:00:00\n"
     ]
    },
    {
     "data": {
      "application/vnd.jupyter.widget-view+json": {
       "model_id": "09ae22262b3c49139a492db51895c5f8",
       "version_major": 2,
       "version_minor": 0
      },
      "text/plain": [
       "  0%|          | 0/206 [00:00<?, ?it/s]"
      ]
     },
     "metadata": {},
     "output_type": "display_data"
    },
    {
     "name": "stdout",
     "output_type": "stream",
     "text": [
      "Pairs created for date 2011-06-01 00:00:00\n"
     ]
    },
    {
     "data": {
      "application/vnd.jupyter.widget-view+json": {
       "model_id": "e3e0e056634d45d58163965af9a89417",
       "version_major": 2,
       "version_minor": 0
      },
      "text/plain": [
       "  0%|          | 0/205 [00:00<?, ?it/s]"
      ]
     },
     "metadata": {},
     "output_type": "display_data"
    },
    {
     "name": "stdout",
     "output_type": "stream",
     "text": [
      "Pairs created for date 2011-07-01 00:00:00\n"
     ]
    },
    {
     "data": {
      "application/vnd.jupyter.widget-view+json": {
       "model_id": "e64f5bed9b0c4c5d82892615cb9467a3",
       "version_major": 2,
       "version_minor": 0
      },
      "text/plain": [
       "  0%|          | 0/204 [00:00<?, ?it/s]"
      ]
     },
     "metadata": {},
     "output_type": "display_data"
    },
    {
     "name": "stdout",
     "output_type": "stream",
     "text": [
      "Pairs created for date 2011-08-01 00:00:00\n"
     ]
    },
    {
     "data": {
      "application/vnd.jupyter.widget-view+json": {
       "model_id": "b9d3066a741047f5b2ec11e5d8481f71",
       "version_major": 2,
       "version_minor": 0
      },
      "text/plain": [
       "  0%|          | 0/203 [00:00<?, ?it/s]"
      ]
     },
     "metadata": {},
     "output_type": "display_data"
    },
    {
     "name": "stdout",
     "output_type": "stream",
     "text": [
      "Pairs created for date 2011-09-01 00:00:00\n"
     ]
    },
    {
     "data": {
      "application/vnd.jupyter.widget-view+json": {
       "model_id": "01c0125056ca4ab4bc90b2466b758112",
       "version_major": 2,
       "version_minor": 0
      },
      "text/plain": [
       "  0%|          | 0/203 [00:00<?, ?it/s]"
      ]
     },
     "metadata": {},
     "output_type": "display_data"
    },
    {
     "name": "stdout",
     "output_type": "stream",
     "text": [
      "Pairs created for date 2011-10-01 00:00:00\n"
     ]
    },
    {
     "data": {
      "application/vnd.jupyter.widget-view+json": {
       "model_id": "7fc2df9eb9b540229ceb6da90af5c68c",
       "version_major": 2,
       "version_minor": 0
      },
      "text/plain": [
       "  0%|          | 0/204 [00:00<?, ?it/s]"
      ]
     },
     "metadata": {},
     "output_type": "display_data"
    },
    {
     "name": "stdout",
     "output_type": "stream",
     "text": [
      "Pairs created for date 2011-11-01 00:00:00\n"
     ]
    },
    {
     "data": {
      "application/vnd.jupyter.widget-view+json": {
       "model_id": "5a5517f2bfad447bab02a0d4629c3070",
       "version_major": 2,
       "version_minor": 0
      },
      "text/plain": [
       "  0%|          | 0/203 [00:00<?, ?it/s]"
      ]
     },
     "metadata": {},
     "output_type": "display_data"
    },
    {
     "name": "stdout",
     "output_type": "stream",
     "text": [
      "Pairs created for date 2011-12-01 00:00:00\n"
     ]
    },
    {
     "data": {
      "application/vnd.jupyter.widget-view+json": {
       "model_id": "f15a97d83e6349159a154fe2982240a9",
       "version_major": 2,
       "version_minor": 0
      },
      "text/plain": [
       "  0%|          | 0/202 [00:00<?, ?it/s]"
      ]
     },
     "metadata": {},
     "output_type": "display_data"
    },
    {
     "name": "stdout",
     "output_type": "stream",
     "text": [
      "Pairs created for date 2012-01-01 00:00:00\n"
     ]
    },
    {
     "data": {
      "application/vnd.jupyter.widget-view+json": {
       "model_id": "003a38ac54c547488c228cd8edc1d0d5",
       "version_major": 2,
       "version_minor": 0
      },
      "text/plain": [
       "  0%|          | 0/198 [00:00<?, ?it/s]"
      ]
     },
     "metadata": {},
     "output_type": "display_data"
    },
    {
     "name": "stdout",
     "output_type": "stream",
     "text": [
      "Pairs created for date 2012-02-01 00:00:00\n"
     ]
    },
    {
     "data": {
      "application/vnd.jupyter.widget-view+json": {
       "model_id": "9df2805dd2f444bf893da5f4d0732e9b",
       "version_major": 2,
       "version_minor": 0
      },
      "text/plain": [
       "  0%|          | 0/197 [00:00<?, ?it/s]"
      ]
     },
     "metadata": {},
     "output_type": "display_data"
    },
    {
     "name": "stdout",
     "output_type": "stream",
     "text": [
      "Pairs created for date 2012-03-01 00:00:00\n"
     ]
    },
    {
     "data": {
      "application/vnd.jupyter.widget-view+json": {
       "model_id": "eac0a87ed68f4decb37be1858f735cd6",
       "version_major": 2,
       "version_minor": 0
      },
      "text/plain": [
       "  0%|          | 0/214 [00:00<?, ?it/s]"
      ]
     },
     "metadata": {},
     "output_type": "display_data"
    },
    {
     "name": "stdout",
     "output_type": "stream",
     "text": [
      "Pairs created for date 2011-01-01 00:00:00\n"
     ]
    },
    {
     "data": {
      "application/vnd.jupyter.widget-view+json": {
       "model_id": "bf4e19e96950486d850b9fe5e4b5006f",
       "version_major": 2,
       "version_minor": 0
      },
      "text/plain": [
       "  0%|          | 0/213 [00:00<?, ?it/s]"
      ]
     },
     "metadata": {},
     "output_type": "display_data"
    },
    {
     "name": "stdout",
     "output_type": "stream",
     "text": [
      "Pairs created for date 2011-02-01 00:00:00\n"
     ]
    },
    {
     "data": {
      "application/vnd.jupyter.widget-view+json": {
       "model_id": "ae53bfb3e7ce4995a4b34c514f4c4a82",
       "version_major": 2,
       "version_minor": 0
      },
      "text/plain": [
       "  0%|          | 0/212 [00:00<?, ?it/s]"
      ]
     },
     "metadata": {},
     "output_type": "display_data"
    },
    {
     "name": "stdout",
     "output_type": "stream",
     "text": [
      "Pairs created for date 2011-03-01 00:00:00\n"
     ]
    },
    {
     "data": {
      "application/vnd.jupyter.widget-view+json": {
       "model_id": "ee2345cae4e7459bb9d8a2f787f2d1b3",
       "version_major": 2,
       "version_minor": 0
      },
      "text/plain": [
       "  0%|          | 0/210 [00:00<?, ?it/s]"
      ]
     },
     "metadata": {},
     "output_type": "display_data"
    },
    {
     "name": "stdout",
     "output_type": "stream",
     "text": [
      "Pairs created for date 2011-04-01 00:00:00\n"
     ]
    },
    {
     "data": {
      "application/vnd.jupyter.widget-view+json": {
       "model_id": "9c18a3679fcd4a1c90f55c9300c8f92e",
       "version_major": 2,
       "version_minor": 0
      },
      "text/plain": [
       "  0%|          | 0/209 [00:00<?, ?it/s]"
      ]
     },
     "metadata": {},
     "output_type": "display_data"
    },
    {
     "name": "stdout",
     "output_type": "stream",
     "text": [
      "Pairs created for date 2011-05-01 00:00:00\n"
     ]
    },
    {
     "data": {
      "application/vnd.jupyter.widget-view+json": {
       "model_id": "18ce84aadc5347cbb77aaabd6d922f0f",
       "version_major": 2,
       "version_minor": 0
      },
      "text/plain": [
       "  0%|          | 0/206 [00:00<?, ?it/s]"
      ]
     },
     "metadata": {},
     "output_type": "display_data"
    },
    {
     "name": "stdout",
     "output_type": "stream",
     "text": [
      "Pairs created for date 2011-06-01 00:00:00\n"
     ]
    },
    {
     "data": {
      "application/vnd.jupyter.widget-view+json": {
       "model_id": "744d4da94f0340fa95b27433f9d30b74",
       "version_major": 2,
       "version_minor": 0
      },
      "text/plain": [
       "  0%|          | 0/205 [00:00<?, ?it/s]"
      ]
     },
     "metadata": {},
     "output_type": "display_data"
    },
    {
     "name": "stdout",
     "output_type": "stream",
     "text": [
      "Pairs created for date 2011-07-01 00:00:00\n"
     ]
    },
    {
     "data": {
      "application/vnd.jupyter.widget-view+json": {
       "model_id": "c3c9c5373b17473782f5de29c294175e",
       "version_major": 2,
       "version_minor": 0
      },
      "text/plain": [
       "  0%|          | 0/204 [00:00<?, ?it/s]"
      ]
     },
     "metadata": {},
     "output_type": "display_data"
    },
    {
     "name": "stdout",
     "output_type": "stream",
     "text": [
      "Pairs created for date 2011-08-01 00:00:00\n"
     ]
    },
    {
     "data": {
      "application/vnd.jupyter.widget-view+json": {
       "model_id": "2a6ddfd127e34ef1a3ac16d71962dc41",
       "version_major": 2,
       "version_minor": 0
      },
      "text/plain": [
       "  0%|          | 0/203 [00:00<?, ?it/s]"
      ]
     },
     "metadata": {},
     "output_type": "display_data"
    },
    {
     "name": "stdout",
     "output_type": "stream",
     "text": [
      "Pairs created for date 2011-09-01 00:00:00\n"
     ]
    },
    {
     "data": {
      "application/vnd.jupyter.widget-view+json": {
       "model_id": "3463e5321f224ae7bf511e2c92a44d14",
       "version_major": 2,
       "version_minor": 0
      },
      "text/plain": [
       "  0%|          | 0/203 [00:00<?, ?it/s]"
      ]
     },
     "metadata": {},
     "output_type": "display_data"
    },
    {
     "name": "stdout",
     "output_type": "stream",
     "text": [
      "Pairs created for date 2011-10-01 00:00:00\n"
     ]
    },
    {
     "data": {
      "application/vnd.jupyter.widget-view+json": {
       "model_id": "935d5cce08024b5ba9811f2468a8bf4a",
       "version_major": 2,
       "version_minor": 0
      },
      "text/plain": [
       "  0%|          | 0/204 [00:00<?, ?it/s]"
      ]
     },
     "metadata": {},
     "output_type": "display_data"
    },
    {
     "name": "stdout",
     "output_type": "stream",
     "text": [
      "Pairs created for date 2011-11-01 00:00:00\n"
     ]
    },
    {
     "data": {
      "application/vnd.jupyter.widget-view+json": {
       "model_id": "4b18658842064a58b61a30dbb2ddadb9",
       "version_major": 2,
       "version_minor": 0
      },
      "text/plain": [
       "  0%|          | 0/203 [00:00<?, ?it/s]"
      ]
     },
     "metadata": {},
     "output_type": "display_data"
    },
    {
     "name": "stdout",
     "output_type": "stream",
     "text": [
      "Pairs created for date 2011-12-01 00:00:00\n"
     ]
    },
    {
     "data": {
      "application/vnd.jupyter.widget-view+json": {
       "model_id": "7594e79516ab45749579062ba904fff7",
       "version_major": 2,
       "version_minor": 0
      },
      "text/plain": [
       "  0%|          | 0/202 [00:00<?, ?it/s]"
      ]
     },
     "metadata": {},
     "output_type": "display_data"
    },
    {
     "name": "stdout",
     "output_type": "stream",
     "text": [
      "Pairs created for date 2012-01-01 00:00:00\n"
     ]
    },
    {
     "data": {
      "application/vnd.jupyter.widget-view+json": {
       "model_id": "ad4b5c7ca87a4465815be8127f32c70d",
       "version_major": 2,
       "version_minor": 0
      },
      "text/plain": [
       "  0%|          | 0/198 [00:00<?, ?it/s]"
      ]
     },
     "metadata": {},
     "output_type": "display_data"
    },
    {
     "name": "stdout",
     "output_type": "stream",
     "text": [
      "Pairs created for date 2012-02-01 00:00:00\n"
     ]
    },
    {
     "data": {
      "application/vnd.jupyter.widget-view+json": {
       "model_id": "b6144947691041e09a26ec9164ba2362",
       "version_major": 2,
       "version_minor": 0
      },
      "text/plain": [
       "  0%|          | 0/197 [00:00<?, ?it/s]"
      ]
     },
     "metadata": {},
     "output_type": "display_data"
    },
    {
     "name": "stdout",
     "output_type": "stream",
     "text": [
      "Pairs created for date 2012-03-01 00:00:00\n"
     ]
    },
    {
     "data": {
      "application/vnd.jupyter.widget-view+json": {
       "model_id": "4f7615dd9b4f408c89934b8e8b5600b9",
       "version_major": 2,
       "version_minor": 0
      },
      "text/plain": [
       "  0%|          | 0/214 [00:00<?, ?it/s]"
      ]
     },
     "metadata": {},
     "output_type": "display_data"
    },
    {
     "name": "stdout",
     "output_type": "stream",
     "text": [
      "Pairs created for date 2011-01-01 00:00:00\n"
     ]
    },
    {
     "data": {
      "application/vnd.jupyter.widget-view+json": {
       "model_id": "1c7d546a4ade44259749efb3c7e852e5",
       "version_major": 2,
       "version_minor": 0
      },
      "text/plain": [
       "  0%|          | 0/213 [00:00<?, ?it/s]"
      ]
     },
     "metadata": {},
     "output_type": "display_data"
    },
    {
     "name": "stdout",
     "output_type": "stream",
     "text": [
      "Pairs created for date 2011-02-01 00:00:00\n"
     ]
    },
    {
     "data": {
      "application/vnd.jupyter.widget-view+json": {
       "model_id": "981cb3e3bbbf49c28bf2b4d8b10366ef",
       "version_major": 2,
       "version_minor": 0
      },
      "text/plain": [
       "  0%|          | 0/212 [00:00<?, ?it/s]"
      ]
     },
     "metadata": {},
     "output_type": "display_data"
    },
    {
     "name": "stdout",
     "output_type": "stream",
     "text": [
      "Pairs created for date 2011-03-01 00:00:00\n"
     ]
    },
    {
     "data": {
      "application/vnd.jupyter.widget-view+json": {
       "model_id": "20257f9115f946398b5e78eb7c11fbec",
       "version_major": 2,
       "version_minor": 0
      },
      "text/plain": [
       "  0%|          | 0/210 [00:00<?, ?it/s]"
      ]
     },
     "metadata": {},
     "output_type": "display_data"
    },
    {
     "name": "stdout",
     "output_type": "stream",
     "text": [
      "Pairs created for date 2011-04-01 00:00:00\n"
     ]
    },
    {
     "data": {
      "application/vnd.jupyter.widget-view+json": {
       "model_id": "fab71106b5204f8e92a07f5bf88efdb7",
       "version_major": 2,
       "version_minor": 0
      },
      "text/plain": [
       "  0%|          | 0/209 [00:00<?, ?it/s]"
      ]
     },
     "metadata": {},
     "output_type": "display_data"
    },
    {
     "name": "stdout",
     "output_type": "stream",
     "text": [
      "Pairs created for date 2011-05-01 00:00:00\n"
     ]
    },
    {
     "data": {
      "application/vnd.jupyter.widget-view+json": {
       "model_id": "de4c95662de64605b644fb883442b7d6",
       "version_major": 2,
       "version_minor": 0
      },
      "text/plain": [
       "  0%|          | 0/206 [00:00<?, ?it/s]"
      ]
     },
     "metadata": {},
     "output_type": "display_data"
    },
    {
     "name": "stdout",
     "output_type": "stream",
     "text": [
      "Pairs created for date 2011-06-01 00:00:00\n"
     ]
    },
    {
     "data": {
      "application/vnd.jupyter.widget-view+json": {
       "model_id": "96f4015de8b64ddc988fdc41c0788671",
       "version_major": 2,
       "version_minor": 0
      },
      "text/plain": [
       "  0%|          | 0/205 [00:00<?, ?it/s]"
      ]
     },
     "metadata": {},
     "output_type": "display_data"
    },
    {
     "name": "stdout",
     "output_type": "stream",
     "text": [
      "Pairs created for date 2011-07-01 00:00:00\n"
     ]
    },
    {
     "data": {
      "application/vnd.jupyter.widget-view+json": {
       "model_id": "f619a6e6edae42f9a165ec1f1119f3d1",
       "version_major": 2,
       "version_minor": 0
      },
      "text/plain": [
       "  0%|          | 0/204 [00:00<?, ?it/s]"
      ]
     },
     "metadata": {},
     "output_type": "display_data"
    },
    {
     "name": "stdout",
     "output_type": "stream",
     "text": [
      "Pairs created for date 2011-08-01 00:00:00\n"
     ]
    },
    {
     "data": {
      "application/vnd.jupyter.widget-view+json": {
       "model_id": "82b31209bd3a4eea805de7e7623596cd",
       "version_major": 2,
       "version_minor": 0
      },
      "text/plain": [
       "  0%|          | 0/203 [00:00<?, ?it/s]"
      ]
     },
     "metadata": {},
     "output_type": "display_data"
    },
    {
     "name": "stdout",
     "output_type": "stream",
     "text": [
      "Pairs created for date 2011-09-01 00:00:00\n"
     ]
    },
    {
     "data": {
      "application/vnd.jupyter.widget-view+json": {
       "model_id": "1322acb1eea34e798d77b3142fa5c102",
       "version_major": 2,
       "version_minor": 0
      },
      "text/plain": [
       "  0%|          | 0/203 [00:00<?, ?it/s]"
      ]
     },
     "metadata": {},
     "output_type": "display_data"
    },
    {
     "name": "stdout",
     "output_type": "stream",
     "text": [
      "Pairs created for date 2011-10-01 00:00:00\n"
     ]
    },
    {
     "data": {
      "application/vnd.jupyter.widget-view+json": {
       "model_id": "5d802c3ccc8b4b87bf38251c370e495a",
       "version_major": 2,
       "version_minor": 0
      },
      "text/plain": [
       "  0%|          | 0/204 [00:00<?, ?it/s]"
      ]
     },
     "metadata": {},
     "output_type": "display_data"
    },
    {
     "name": "stdout",
     "output_type": "stream",
     "text": [
      "Pairs created for date 2011-11-01 00:00:00\n"
     ]
    },
    {
     "data": {
      "application/vnd.jupyter.widget-view+json": {
       "model_id": "0e55fd6b55e245c7b664c346c12c65c5",
       "version_major": 2,
       "version_minor": 0
      },
      "text/plain": [
       "  0%|          | 0/203 [00:00<?, ?it/s]"
      ]
     },
     "metadata": {},
     "output_type": "display_data"
    },
    {
     "name": "stdout",
     "output_type": "stream",
     "text": [
      "Pairs created for date 2011-12-01 00:00:00\n"
     ]
    },
    {
     "data": {
      "application/vnd.jupyter.widget-view+json": {
       "model_id": "d75383fcc71840a4be53b237cc649b72",
       "version_major": 2,
       "version_minor": 0
      },
      "text/plain": [
       "  0%|          | 0/202 [00:00<?, ?it/s]"
      ]
     },
     "metadata": {},
     "output_type": "display_data"
    },
    {
     "name": "stdout",
     "output_type": "stream",
     "text": [
      "Pairs created for date 2012-01-01 00:00:00\n"
     ]
    },
    {
     "data": {
      "application/vnd.jupyter.widget-view+json": {
       "model_id": "1210ab05ed664a9680a2c2e0e544c94c",
       "version_major": 2,
       "version_minor": 0
      },
      "text/plain": [
       "  0%|          | 0/198 [00:00<?, ?it/s]"
      ]
     },
     "metadata": {},
     "output_type": "display_data"
    },
    {
     "name": "stdout",
     "output_type": "stream",
     "text": [
      "Pairs created for date 2012-02-01 00:00:00\n"
     ]
    },
    {
     "data": {
      "application/vnd.jupyter.widget-view+json": {
       "model_id": "93af30c45cae4b9bb18e107b42f1fa26",
       "version_major": 2,
       "version_minor": 0
      },
      "text/plain": [
       "  0%|          | 0/197 [00:00<?, ?it/s]"
      ]
     },
     "metadata": {},
     "output_type": "display_data"
    },
    {
     "name": "stdout",
     "output_type": "stream",
     "text": [
      "Pairs created for date 2012-03-01 00:00:00\n"
     ]
    },
    {
     "data": {
      "application/vnd.jupyter.widget-view+json": {
       "model_id": "d7f138f65b4e40c687a41e42addfb2b6",
       "version_major": 2,
       "version_minor": 0
      },
      "text/plain": [
       "  0%|          | 0/214 [00:00<?, ?it/s]"
      ]
     },
     "metadata": {},
     "output_type": "display_data"
    },
    {
     "name": "stdout",
     "output_type": "stream",
     "text": [
      "Pairs created for date 2011-01-01 00:00:00\n"
     ]
    },
    {
     "data": {
      "application/vnd.jupyter.widget-view+json": {
       "model_id": "3ac38863a7a14b18944eee22671e6fc3",
       "version_major": 2,
       "version_minor": 0
      },
      "text/plain": [
       "  0%|          | 0/213 [00:00<?, ?it/s]"
      ]
     },
     "metadata": {},
     "output_type": "display_data"
    },
    {
     "name": "stdout",
     "output_type": "stream",
     "text": [
      "Pairs created for date 2011-02-01 00:00:00\n"
     ]
    },
    {
     "data": {
      "application/vnd.jupyter.widget-view+json": {
       "model_id": "0e43652a25214e55bf51d4150d825018",
       "version_major": 2,
       "version_minor": 0
      },
      "text/plain": [
       "  0%|          | 0/212 [00:00<?, ?it/s]"
      ]
     },
     "metadata": {},
     "output_type": "display_data"
    },
    {
     "name": "stdout",
     "output_type": "stream",
     "text": [
      "Pairs created for date 2011-03-01 00:00:00\n"
     ]
    },
    {
     "data": {
      "application/vnd.jupyter.widget-view+json": {
       "model_id": "5a2c51355b4544f0a19378bd0ea2818f",
       "version_major": 2,
       "version_minor": 0
      },
      "text/plain": [
       "  0%|          | 0/210 [00:00<?, ?it/s]"
      ]
     },
     "metadata": {},
     "output_type": "display_data"
    },
    {
     "name": "stdout",
     "output_type": "stream",
     "text": [
      "Pairs created for date 2011-04-01 00:00:00\n"
     ]
    },
    {
     "data": {
      "application/vnd.jupyter.widget-view+json": {
       "model_id": "061e0d245fff40598cb365614d1795ac",
       "version_major": 2,
       "version_minor": 0
      },
      "text/plain": [
       "  0%|          | 0/209 [00:00<?, ?it/s]"
      ]
     },
     "metadata": {},
     "output_type": "display_data"
    },
    {
     "name": "stdout",
     "output_type": "stream",
     "text": [
      "Pairs created for date 2011-05-01 00:00:00\n"
     ]
    },
    {
     "data": {
      "application/vnd.jupyter.widget-view+json": {
       "model_id": "0d48837eefbe49588752a2a931ef1753",
       "version_major": 2,
       "version_minor": 0
      },
      "text/plain": [
       "  0%|          | 0/206 [00:00<?, ?it/s]"
      ]
     },
     "metadata": {},
     "output_type": "display_data"
    },
    {
     "name": "stdout",
     "output_type": "stream",
     "text": [
      "Pairs created for date 2011-06-01 00:00:00\n"
     ]
    },
    {
     "data": {
      "application/vnd.jupyter.widget-view+json": {
       "model_id": "7774c3d001d840159e21d5d3bd3f6da8",
       "version_major": 2,
       "version_minor": 0
      },
      "text/plain": [
       "  0%|          | 0/205 [00:00<?, ?it/s]"
      ]
     },
     "metadata": {},
     "output_type": "display_data"
    },
    {
     "name": "stdout",
     "output_type": "stream",
     "text": [
      "Pairs created for date 2011-07-01 00:00:00\n"
     ]
    },
    {
     "data": {
      "application/vnd.jupyter.widget-view+json": {
       "model_id": "c6112861c2324b82971a4f13bb61ccf6",
       "version_major": 2,
       "version_minor": 0
      },
      "text/plain": [
       "  0%|          | 0/204 [00:00<?, ?it/s]"
      ]
     },
     "metadata": {},
     "output_type": "display_data"
    },
    {
     "name": "stdout",
     "output_type": "stream",
     "text": [
      "Pairs created for date 2011-08-01 00:00:00\n"
     ]
    },
    {
     "data": {
      "application/vnd.jupyter.widget-view+json": {
       "model_id": "6427aab72b5243929e3cc0ceb938965f",
       "version_major": 2,
       "version_minor": 0
      },
      "text/plain": [
       "  0%|          | 0/203 [00:00<?, ?it/s]"
      ]
     },
     "metadata": {},
     "output_type": "display_data"
    },
    {
     "name": "stdout",
     "output_type": "stream",
     "text": [
      "Pairs created for date 2011-09-01 00:00:00\n"
     ]
    },
    {
     "data": {
      "application/vnd.jupyter.widget-view+json": {
       "model_id": "efee4e138f6c4dc78e8eeff3508cc8ca",
       "version_major": 2,
       "version_minor": 0
      },
      "text/plain": [
       "  0%|          | 0/203 [00:00<?, ?it/s]"
      ]
     },
     "metadata": {},
     "output_type": "display_data"
    },
    {
     "name": "stdout",
     "output_type": "stream",
     "text": [
      "Pairs created for date 2011-10-01 00:00:00\n"
     ]
    },
    {
     "data": {
      "application/vnd.jupyter.widget-view+json": {
       "model_id": "90bbcbfa57844a21b56b83c011c306f2",
       "version_major": 2,
       "version_minor": 0
      },
      "text/plain": [
       "  0%|          | 0/204 [00:00<?, ?it/s]"
      ]
     },
     "metadata": {},
     "output_type": "display_data"
    },
    {
     "name": "stdout",
     "output_type": "stream",
     "text": [
      "Pairs created for date 2011-11-01 00:00:00\n"
     ]
    },
    {
     "data": {
      "application/vnd.jupyter.widget-view+json": {
       "model_id": "c992656b373443f6816d59ca96ae1d0e",
       "version_major": 2,
       "version_minor": 0
      },
      "text/plain": [
       "  0%|          | 0/203 [00:00<?, ?it/s]"
      ]
     },
     "metadata": {},
     "output_type": "display_data"
    },
    {
     "name": "stdout",
     "output_type": "stream",
     "text": [
      "Pairs created for date 2011-12-01 00:00:00\n"
     ]
    },
    {
     "data": {
      "application/vnd.jupyter.widget-view+json": {
       "model_id": "ebb393a2de4743d8903426680b8378e8",
       "version_major": 2,
       "version_minor": 0
      },
      "text/plain": [
       "  0%|          | 0/202 [00:00<?, ?it/s]"
      ]
     },
     "metadata": {},
     "output_type": "display_data"
    },
    {
     "name": "stdout",
     "output_type": "stream",
     "text": [
      "Pairs created for date 2012-01-01 00:00:00\n"
     ]
    },
    {
     "data": {
      "application/vnd.jupyter.widget-view+json": {
       "model_id": "8a992bcf74b045c7a013b3b50ee0e44b",
       "version_major": 2,
       "version_minor": 0
      },
      "text/plain": [
       "  0%|          | 0/198 [00:00<?, ?it/s]"
      ]
     },
     "metadata": {},
     "output_type": "display_data"
    },
    {
     "name": "stdout",
     "output_type": "stream",
     "text": [
      "Pairs created for date 2012-02-01 00:00:00\n"
     ]
    },
    {
     "data": {
      "application/vnd.jupyter.widget-view+json": {
       "model_id": "e84253409e464458943a6943fe59866b",
       "version_major": 2,
       "version_minor": 0
      },
      "text/plain": [
       "  0%|          | 0/197 [00:00<?, ?it/s]"
      ]
     },
     "metadata": {},
     "output_type": "display_data"
    },
    {
     "name": "stdout",
     "output_type": "stream",
     "text": [
      "Pairs created for date 2012-03-01 00:00:00\n"
     ]
    },
    {
     "data": {
      "application/vnd.jupyter.widget-view+json": {
       "model_id": "321a67f002d34a1b8e86501363f7fc95",
       "version_major": 2,
       "version_minor": 0
      },
      "text/plain": [
       "  0%|          | 0/214 [00:00<?, ?it/s]"
      ]
     },
     "metadata": {},
     "output_type": "display_data"
    },
    {
     "name": "stdout",
     "output_type": "stream",
     "text": [
      "Pairs created for date 2011-01-01 00:00:00\n"
     ]
    },
    {
     "data": {
      "application/vnd.jupyter.widget-view+json": {
       "model_id": "221139b8699e4bd492d100fdbc300f43",
       "version_major": 2,
       "version_minor": 0
      },
      "text/plain": [
       "  0%|          | 0/213 [00:00<?, ?it/s]"
      ]
     },
     "metadata": {},
     "output_type": "display_data"
    },
    {
     "name": "stdout",
     "output_type": "stream",
     "text": [
      "Pairs created for date 2011-02-01 00:00:00\n"
     ]
    },
    {
     "data": {
      "application/vnd.jupyter.widget-view+json": {
       "model_id": "0a4b3245d2e64ddd96d4c3a25d38166c",
       "version_major": 2,
       "version_minor": 0
      },
      "text/plain": [
       "  0%|          | 0/212 [00:00<?, ?it/s]"
      ]
     },
     "metadata": {},
     "output_type": "display_data"
    },
    {
     "name": "stdout",
     "output_type": "stream",
     "text": [
      "Pairs created for date 2011-03-01 00:00:00\n"
     ]
    },
    {
     "data": {
      "application/vnd.jupyter.widget-view+json": {
       "model_id": "b0a3f80ae8304bf4bf5a3e656fc0f2f7",
       "version_major": 2,
       "version_minor": 0
      },
      "text/plain": [
       "  0%|          | 0/210 [00:00<?, ?it/s]"
      ]
     },
     "metadata": {},
     "output_type": "display_data"
    },
    {
     "name": "stdout",
     "output_type": "stream",
     "text": [
      "Pairs created for date 2011-04-01 00:00:00\n"
     ]
    },
    {
     "data": {
      "application/vnd.jupyter.widget-view+json": {
       "model_id": "b13af1650aca4404b158a71d137018e0",
       "version_major": 2,
       "version_minor": 0
      },
      "text/plain": [
       "  0%|          | 0/209 [00:00<?, ?it/s]"
      ]
     },
     "metadata": {},
     "output_type": "display_data"
    },
    {
     "name": "stdout",
     "output_type": "stream",
     "text": [
      "Pairs created for date 2011-05-01 00:00:00\n"
     ]
    },
    {
     "data": {
      "application/vnd.jupyter.widget-view+json": {
       "model_id": "8a721ddb58eb431c9bae8ff4369c8ff9",
       "version_major": 2,
       "version_minor": 0
      },
      "text/plain": [
       "  0%|          | 0/206 [00:00<?, ?it/s]"
      ]
     },
     "metadata": {},
     "output_type": "display_data"
    },
    {
     "name": "stdout",
     "output_type": "stream",
     "text": [
      "Pairs created for date 2011-06-01 00:00:00\n"
     ]
    },
    {
     "data": {
      "application/vnd.jupyter.widget-view+json": {
       "model_id": "fd8b0714519a4c289c97970accdc3b68",
       "version_major": 2,
       "version_minor": 0
      },
      "text/plain": [
       "  0%|          | 0/205 [00:00<?, ?it/s]"
      ]
     },
     "metadata": {},
     "output_type": "display_data"
    },
    {
     "name": "stdout",
     "output_type": "stream",
     "text": [
      "Pairs created for date 2011-07-01 00:00:00\n"
     ]
    },
    {
     "data": {
      "application/vnd.jupyter.widget-view+json": {
       "model_id": "5537fa63b3064de8a43b14e3238f6cd3",
       "version_major": 2,
       "version_minor": 0
      },
      "text/plain": [
       "  0%|          | 0/204 [00:00<?, ?it/s]"
      ]
     },
     "metadata": {},
     "output_type": "display_data"
    },
    {
     "name": "stdout",
     "output_type": "stream",
     "text": [
      "Pairs created for date 2011-08-01 00:00:00\n"
     ]
    },
    {
     "data": {
      "application/vnd.jupyter.widget-view+json": {
       "model_id": "1afb7acfd7b34cfdb914e0a08f6ce714",
       "version_major": 2,
       "version_minor": 0
      },
      "text/plain": [
       "  0%|          | 0/203 [00:00<?, ?it/s]"
      ]
     },
     "metadata": {},
     "output_type": "display_data"
    },
    {
     "name": "stdout",
     "output_type": "stream",
     "text": [
      "Pairs created for date 2011-09-01 00:00:00\n"
     ]
    },
    {
     "data": {
      "application/vnd.jupyter.widget-view+json": {
       "model_id": "e0cd5cee2ad74f78ad7dc5c5099be5dc",
       "version_major": 2,
       "version_minor": 0
      },
      "text/plain": [
       "  0%|          | 0/203 [00:00<?, ?it/s]"
      ]
     },
     "metadata": {},
     "output_type": "display_data"
    },
    {
     "name": "stdout",
     "output_type": "stream",
     "text": [
      "Pairs created for date 2011-10-01 00:00:00\n"
     ]
    },
    {
     "data": {
      "application/vnd.jupyter.widget-view+json": {
       "model_id": "fb6464bc708249c680e56006e90f77a2",
       "version_major": 2,
       "version_minor": 0
      },
      "text/plain": [
       "  0%|          | 0/204 [00:00<?, ?it/s]"
      ]
     },
     "metadata": {},
     "output_type": "display_data"
    },
    {
     "name": "stdout",
     "output_type": "stream",
     "text": [
      "Pairs created for date 2011-11-01 00:00:00\n"
     ]
    },
    {
     "data": {
      "application/vnd.jupyter.widget-view+json": {
       "model_id": "b649cb0af8d249ecadeb4c2741b90f4e",
       "version_major": 2,
       "version_minor": 0
      },
      "text/plain": [
       "  0%|          | 0/203 [00:00<?, ?it/s]"
      ]
     },
     "metadata": {},
     "output_type": "display_data"
    },
    {
     "name": "stdout",
     "output_type": "stream",
     "text": [
      "Pairs created for date 2011-12-01 00:00:00\n"
     ]
    },
    {
     "data": {
      "application/vnd.jupyter.widget-view+json": {
       "model_id": "995598e154c14502b2ea56acebdd5360",
       "version_major": 2,
       "version_minor": 0
      },
      "text/plain": [
       "  0%|          | 0/202 [00:00<?, ?it/s]"
      ]
     },
     "metadata": {},
     "output_type": "display_data"
    },
    {
     "name": "stdout",
     "output_type": "stream",
     "text": [
      "Pairs created for date 2012-01-01 00:00:00\n"
     ]
    },
    {
     "data": {
      "application/vnd.jupyter.widget-view+json": {
       "model_id": "b17cc2fbd8a14676b573f87d42a09abb",
       "version_major": 2,
       "version_minor": 0
      },
      "text/plain": [
       "  0%|          | 0/198 [00:00<?, ?it/s]"
      ]
     },
     "metadata": {},
     "output_type": "display_data"
    },
    {
     "name": "stdout",
     "output_type": "stream",
     "text": [
      "Pairs created for date 2012-02-01 00:00:00\n"
     ]
    },
    {
     "data": {
      "application/vnd.jupyter.widget-view+json": {
       "model_id": "ee035676373646c08e4c0aaef7e5a94b",
       "version_major": 2,
       "version_minor": 0
      },
      "text/plain": [
       "  0%|          | 0/197 [00:00<?, ?it/s]"
      ]
     },
     "metadata": {},
     "output_type": "display_data"
    },
    {
     "name": "stdout",
     "output_type": "stream",
     "text": [
      "Pairs created for date 2012-03-01 00:00:00\n"
     ]
    },
    {
     "data": {
      "application/vnd.jupyter.widget-view+json": {
       "model_id": "85d15efcabd644cd86454c769e05b3ab",
       "version_major": 2,
       "version_minor": 0
      },
      "text/plain": [
       "  0%|          | 0/214 [00:00<?, ?it/s]"
      ]
     },
     "metadata": {},
     "output_type": "display_data"
    },
    {
     "name": "stdout",
     "output_type": "stream",
     "text": [
      "Pairs created for date 2011-01-01 00:00:00\n"
     ]
    },
    {
     "data": {
      "application/vnd.jupyter.widget-view+json": {
       "model_id": "224b69ef6a044bb99229c9cb4429c3a4",
       "version_major": 2,
       "version_minor": 0
      },
      "text/plain": [
       "  0%|          | 0/213 [00:00<?, ?it/s]"
      ]
     },
     "metadata": {},
     "output_type": "display_data"
    },
    {
     "name": "stdout",
     "output_type": "stream",
     "text": [
      "Pairs created for date 2011-02-01 00:00:00\n"
     ]
    },
    {
     "data": {
      "application/vnd.jupyter.widget-view+json": {
       "model_id": "110886b9ac40493fb739a7f357c1c427",
       "version_major": 2,
       "version_minor": 0
      },
      "text/plain": [
       "  0%|          | 0/212 [00:00<?, ?it/s]"
      ]
     },
     "metadata": {},
     "output_type": "display_data"
    },
    {
     "name": "stdout",
     "output_type": "stream",
     "text": [
      "Pairs created for date 2011-03-01 00:00:00\n"
     ]
    },
    {
     "data": {
      "application/vnd.jupyter.widget-view+json": {
       "model_id": "d1f339fb3bcc491face915baa8774498",
       "version_major": 2,
       "version_minor": 0
      },
      "text/plain": [
       "  0%|          | 0/210 [00:00<?, ?it/s]"
      ]
     },
     "metadata": {},
     "output_type": "display_data"
    },
    {
     "name": "stdout",
     "output_type": "stream",
     "text": [
      "Pairs created for date 2011-04-01 00:00:00\n"
     ]
    },
    {
     "data": {
      "application/vnd.jupyter.widget-view+json": {
       "model_id": "43ac7adb6ddf4411b55be1f6e363ee71",
       "version_major": 2,
       "version_minor": 0
      },
      "text/plain": [
       "  0%|          | 0/209 [00:00<?, ?it/s]"
      ]
     },
     "metadata": {},
     "output_type": "display_data"
    },
    {
     "name": "stdout",
     "output_type": "stream",
     "text": [
      "Pairs created for date 2011-05-01 00:00:00\n"
     ]
    },
    {
     "data": {
      "application/vnd.jupyter.widget-view+json": {
       "model_id": "907cd2f20e484951b6ec2b53756ca88c",
       "version_major": 2,
       "version_minor": 0
      },
      "text/plain": [
       "  0%|          | 0/206 [00:00<?, ?it/s]"
      ]
     },
     "metadata": {},
     "output_type": "display_data"
    },
    {
     "name": "stdout",
     "output_type": "stream",
     "text": [
      "Pairs created for date 2011-06-01 00:00:00\n"
     ]
    },
    {
     "data": {
      "application/vnd.jupyter.widget-view+json": {
       "model_id": "cca68322681448d09cb6e880802ffe96",
       "version_major": 2,
       "version_minor": 0
      },
      "text/plain": [
       "  0%|          | 0/205 [00:00<?, ?it/s]"
      ]
     },
     "metadata": {},
     "output_type": "display_data"
    },
    {
     "name": "stdout",
     "output_type": "stream",
     "text": [
      "Pairs created for date 2011-07-01 00:00:00\n"
     ]
    },
    {
     "data": {
      "application/vnd.jupyter.widget-view+json": {
       "model_id": "1ff930bee2d54052b4badd449dc68183",
       "version_major": 2,
       "version_minor": 0
      },
      "text/plain": [
       "  0%|          | 0/204 [00:00<?, ?it/s]"
      ]
     },
     "metadata": {},
     "output_type": "display_data"
    },
    {
     "name": "stdout",
     "output_type": "stream",
     "text": [
      "Pairs created for date 2011-08-01 00:00:00\n"
     ]
    },
    {
     "data": {
      "application/vnd.jupyter.widget-view+json": {
       "model_id": "c2c2fcfd2bed4899b29e94d247473d71",
       "version_major": 2,
       "version_minor": 0
      },
      "text/plain": [
       "  0%|          | 0/203 [00:00<?, ?it/s]"
      ]
     },
     "metadata": {},
     "output_type": "display_data"
    },
    {
     "name": "stdout",
     "output_type": "stream",
     "text": [
      "Pairs created for date 2011-09-01 00:00:00\n"
     ]
    },
    {
     "data": {
      "application/vnd.jupyter.widget-view+json": {
       "model_id": "83ae7768479141df82cffd6ba11c85c8",
       "version_major": 2,
       "version_minor": 0
      },
      "text/plain": [
       "  0%|          | 0/203 [00:00<?, ?it/s]"
      ]
     },
     "metadata": {},
     "output_type": "display_data"
    },
    {
     "name": "stdout",
     "output_type": "stream",
     "text": [
      "Pairs created for date 2011-10-01 00:00:00\n"
     ]
    },
    {
     "data": {
      "application/vnd.jupyter.widget-view+json": {
       "model_id": "b8ca19e937b64161b3dc39fee0f4fe63",
       "version_major": 2,
       "version_minor": 0
      },
      "text/plain": [
       "  0%|          | 0/204 [00:00<?, ?it/s]"
      ]
     },
     "metadata": {},
     "output_type": "display_data"
    },
    {
     "name": "stdout",
     "output_type": "stream",
     "text": [
      "Pairs created for date 2011-11-01 00:00:00\n"
     ]
    },
    {
     "data": {
      "application/vnd.jupyter.widget-view+json": {
       "model_id": "aa0f72d8dfee42dca8f4fc32c16794bf",
       "version_major": 2,
       "version_minor": 0
      },
      "text/plain": [
       "  0%|          | 0/203 [00:00<?, ?it/s]"
      ]
     },
     "metadata": {},
     "output_type": "display_data"
    },
    {
     "name": "stdout",
     "output_type": "stream",
     "text": [
      "Pairs created for date 2011-12-01 00:00:00\n"
     ]
    },
    {
     "data": {
      "application/vnd.jupyter.widget-view+json": {
       "model_id": "63499bc772b046e3a4ac472c8c0c546b",
       "version_major": 2,
       "version_minor": 0
      },
      "text/plain": [
       "  0%|          | 0/202 [00:00<?, ?it/s]"
      ]
     },
     "metadata": {},
     "output_type": "display_data"
    },
    {
     "name": "stdout",
     "output_type": "stream",
     "text": [
      "Pairs created for date 2012-01-01 00:00:00\n"
     ]
    },
    {
     "data": {
      "application/vnd.jupyter.widget-view+json": {
       "model_id": "43dea8f40d2c42a7a7c11ad2747a8510",
       "version_major": 2,
       "version_minor": 0
      },
      "text/plain": [
       "  0%|          | 0/198 [00:00<?, ?it/s]"
      ]
     },
     "metadata": {},
     "output_type": "display_data"
    },
    {
     "name": "stdout",
     "output_type": "stream",
     "text": [
      "Pairs created for date 2012-02-01 00:00:00\n"
     ]
    },
    {
     "data": {
      "application/vnd.jupyter.widget-view+json": {
       "model_id": "68cd3f82590643b7897d43b66175e34a",
       "version_major": 2,
       "version_minor": 0
      },
      "text/plain": [
       "  0%|          | 0/197 [00:00<?, ?it/s]"
      ]
     },
     "metadata": {},
     "output_type": "display_data"
    },
    {
     "name": "stdout",
     "output_type": "stream",
     "text": [
      "Pairs created for date 2012-03-01 00:00:00\n"
     ]
    },
    {
     "data": {
      "application/vnd.jupyter.widget-view+json": {
       "model_id": "490398e981304893ad33d5d0db0ad1ce",
       "version_major": 2,
       "version_minor": 0
      },
      "text/plain": [
       "  0%|          | 0/214 [00:00<?, ?it/s]"
      ]
     },
     "metadata": {},
     "output_type": "display_data"
    },
    {
     "name": "stdout",
     "output_type": "stream",
     "text": [
      "Pairs created for date 2011-01-01 00:00:00\n"
     ]
    },
    {
     "data": {
      "application/vnd.jupyter.widget-view+json": {
       "model_id": "361aa17dbb644e54820409fd39b63a97",
       "version_major": 2,
       "version_minor": 0
      },
      "text/plain": [
       "  0%|          | 0/213 [00:00<?, ?it/s]"
      ]
     },
     "metadata": {},
     "output_type": "display_data"
    },
    {
     "name": "stdout",
     "output_type": "stream",
     "text": [
      "Pairs created for date 2011-02-01 00:00:00\n"
     ]
    },
    {
     "data": {
      "application/vnd.jupyter.widget-view+json": {
       "model_id": "04f06395296e483f80071f7878ef36d1",
       "version_major": 2,
       "version_minor": 0
      },
      "text/plain": [
       "  0%|          | 0/212 [00:00<?, ?it/s]"
      ]
     },
     "metadata": {},
     "output_type": "display_data"
    },
    {
     "name": "stdout",
     "output_type": "stream",
     "text": [
      "Pairs created for date 2011-03-01 00:00:00\n"
     ]
    },
    {
     "data": {
      "application/vnd.jupyter.widget-view+json": {
       "model_id": "7c38b25960774344987f4fa34b1f841f",
       "version_major": 2,
       "version_minor": 0
      },
      "text/plain": [
       "  0%|          | 0/210 [00:00<?, ?it/s]"
      ]
     },
     "metadata": {},
     "output_type": "display_data"
    },
    {
     "name": "stdout",
     "output_type": "stream",
     "text": [
      "Pairs created for date 2011-04-01 00:00:00\n"
     ]
    },
    {
     "data": {
      "application/vnd.jupyter.widget-view+json": {
       "model_id": "fb5b99782f704ed0b295fa00fd13ee84",
       "version_major": 2,
       "version_minor": 0
      },
      "text/plain": [
       "  0%|          | 0/209 [00:00<?, ?it/s]"
      ]
     },
     "metadata": {},
     "output_type": "display_data"
    },
    {
     "name": "stdout",
     "output_type": "stream",
     "text": [
      "Pairs created for date 2011-05-01 00:00:00\n"
     ]
    },
    {
     "data": {
      "application/vnd.jupyter.widget-view+json": {
       "model_id": "3b75b8489acd41358a4f5f8e8034087a",
       "version_major": 2,
       "version_minor": 0
      },
      "text/plain": [
       "  0%|          | 0/206 [00:00<?, ?it/s]"
      ]
     },
     "metadata": {},
     "output_type": "display_data"
    },
    {
     "name": "stdout",
     "output_type": "stream",
     "text": [
      "Pairs created for date 2011-06-01 00:00:00\n"
     ]
    },
    {
     "data": {
      "application/vnd.jupyter.widget-view+json": {
       "model_id": "4cbfbddf92314de681041ba4ae4594ee",
       "version_major": 2,
       "version_minor": 0
      },
      "text/plain": [
       "  0%|          | 0/205 [00:00<?, ?it/s]"
      ]
     },
     "metadata": {},
     "output_type": "display_data"
    },
    {
     "name": "stdout",
     "output_type": "stream",
     "text": [
      "Pairs created for date 2011-07-01 00:00:00\n"
     ]
    },
    {
     "data": {
      "application/vnd.jupyter.widget-view+json": {
       "model_id": "93d0c2c296854c8fb15fd224a2fc9e31",
       "version_major": 2,
       "version_minor": 0
      },
      "text/plain": [
       "  0%|          | 0/204 [00:00<?, ?it/s]"
      ]
     },
     "metadata": {},
     "output_type": "display_data"
    },
    {
     "name": "stdout",
     "output_type": "stream",
     "text": [
      "Pairs created for date 2011-08-01 00:00:00\n"
     ]
    },
    {
     "data": {
      "application/vnd.jupyter.widget-view+json": {
       "model_id": "f8ed3e134b974c0182370af1490440ba",
       "version_major": 2,
       "version_minor": 0
      },
      "text/plain": [
       "  0%|          | 0/203 [00:00<?, ?it/s]"
      ]
     },
     "metadata": {},
     "output_type": "display_data"
    },
    {
     "name": "stdout",
     "output_type": "stream",
     "text": [
      "Pairs created for date 2011-09-01 00:00:00\n"
     ]
    },
    {
     "data": {
      "application/vnd.jupyter.widget-view+json": {
       "model_id": "c02fee78152b4745a43c54d23d4f36ca",
       "version_major": 2,
       "version_minor": 0
      },
      "text/plain": [
       "  0%|          | 0/203 [00:00<?, ?it/s]"
      ]
     },
     "metadata": {},
     "output_type": "display_data"
    },
    {
     "name": "stdout",
     "output_type": "stream",
     "text": [
      "Pairs created for date 2011-10-01 00:00:00\n"
     ]
    },
    {
     "data": {
      "application/vnd.jupyter.widget-view+json": {
       "model_id": "d2f17be230614ccca0caf2019f57f840",
       "version_major": 2,
       "version_minor": 0
      },
      "text/plain": [
       "  0%|          | 0/204 [00:00<?, ?it/s]"
      ]
     },
     "metadata": {},
     "output_type": "display_data"
    },
    {
     "name": "stdout",
     "output_type": "stream",
     "text": [
      "Pairs created for date 2011-11-01 00:00:00\n"
     ]
    },
    {
     "data": {
      "application/vnd.jupyter.widget-view+json": {
       "model_id": "cc0defe1e5554428bc5329075dca5aec",
       "version_major": 2,
       "version_minor": 0
      },
      "text/plain": [
       "  0%|          | 0/203 [00:00<?, ?it/s]"
      ]
     },
     "metadata": {},
     "output_type": "display_data"
    },
    {
     "name": "stdout",
     "output_type": "stream",
     "text": [
      "Pairs created for date 2011-12-01 00:00:00\n"
     ]
    },
    {
     "data": {
      "application/vnd.jupyter.widget-view+json": {
       "model_id": "6c629279b1b24ce28c76c7c79f3b27ce",
       "version_major": 2,
       "version_minor": 0
      },
      "text/plain": [
       "  0%|          | 0/202 [00:00<?, ?it/s]"
      ]
     },
     "metadata": {},
     "output_type": "display_data"
    },
    {
     "name": "stdout",
     "output_type": "stream",
     "text": [
      "Pairs created for date 2012-01-01 00:00:00\n"
     ]
    },
    {
     "data": {
      "application/vnd.jupyter.widget-view+json": {
       "model_id": "bff329369220494782726c54c32cc437",
       "version_major": 2,
       "version_minor": 0
      },
      "text/plain": [
       "  0%|          | 0/198 [00:00<?, ?it/s]"
      ]
     },
     "metadata": {},
     "output_type": "display_data"
    },
    {
     "name": "stdout",
     "output_type": "stream",
     "text": [
      "Pairs created for date 2012-02-01 00:00:00\n"
     ]
    },
    {
     "data": {
      "application/vnd.jupyter.widget-view+json": {
       "model_id": "974238340c1345af99bc7a60a1811645",
       "version_major": 2,
       "version_minor": 0
      },
      "text/plain": [
       "  0%|          | 0/197 [00:00<?, ?it/s]"
      ]
     },
     "metadata": {},
     "output_type": "display_data"
    },
    {
     "name": "stdout",
     "output_type": "stream",
     "text": [
      "Pairs created for date 2012-03-01 00:00:00\n"
     ]
    },
    {
     "data": {
      "application/vnd.jupyter.widget-view+json": {
       "model_id": "c7e6d358a79b4f1eac31693e67ca2c94",
       "version_major": 2,
       "version_minor": 0
      },
      "text/plain": [
       "  0%|          | 0/214 [00:00<?, ?it/s]"
      ]
     },
     "metadata": {},
     "output_type": "display_data"
    },
    {
     "name": "stdout",
     "output_type": "stream",
     "text": [
      "Pairs created for date 2011-01-01 00:00:00\n"
     ]
    },
    {
     "data": {
      "application/vnd.jupyter.widget-view+json": {
       "model_id": "0865c4eb6dee4edda0ac8d87987ccd15",
       "version_major": 2,
       "version_minor": 0
      },
      "text/plain": [
       "  0%|          | 0/213 [00:00<?, ?it/s]"
      ]
     },
     "metadata": {},
     "output_type": "display_data"
    },
    {
     "name": "stdout",
     "output_type": "stream",
     "text": [
      "Pairs created for date 2011-02-01 00:00:00\n"
     ]
    },
    {
     "data": {
      "application/vnd.jupyter.widget-view+json": {
       "model_id": "f77630cdaa304935b3213d483768c3a2",
       "version_major": 2,
       "version_minor": 0
      },
      "text/plain": [
       "  0%|          | 0/212 [00:00<?, ?it/s]"
      ]
     },
     "metadata": {},
     "output_type": "display_data"
    },
    {
     "name": "stdout",
     "output_type": "stream",
     "text": [
      "Pairs created for date 2011-03-01 00:00:00\n"
     ]
    },
    {
     "data": {
      "application/vnd.jupyter.widget-view+json": {
       "model_id": "d00bf438c057418db0182a9efb7e420a",
       "version_major": 2,
       "version_minor": 0
      },
      "text/plain": [
       "  0%|          | 0/210 [00:00<?, ?it/s]"
      ]
     },
     "metadata": {},
     "output_type": "display_data"
    },
    {
     "name": "stdout",
     "output_type": "stream",
     "text": [
      "Pairs created for date 2011-04-01 00:00:00\n"
     ]
    },
    {
     "data": {
      "application/vnd.jupyter.widget-view+json": {
       "model_id": "ba541023f4fe41489fec22bb499bae40",
       "version_major": 2,
       "version_minor": 0
      },
      "text/plain": [
       "  0%|          | 0/209 [00:00<?, ?it/s]"
      ]
     },
     "metadata": {},
     "output_type": "display_data"
    },
    {
     "name": "stdout",
     "output_type": "stream",
     "text": [
      "Pairs created for date 2011-05-01 00:00:00\n"
     ]
    },
    {
     "data": {
      "application/vnd.jupyter.widget-view+json": {
       "model_id": "27b70f08caa4482ea8b81f4fdeab74fe",
       "version_major": 2,
       "version_minor": 0
      },
      "text/plain": [
       "  0%|          | 0/206 [00:00<?, ?it/s]"
      ]
     },
     "metadata": {},
     "output_type": "display_data"
    },
    {
     "name": "stdout",
     "output_type": "stream",
     "text": [
      "Pairs created for date 2011-06-01 00:00:00\n"
     ]
    },
    {
     "data": {
      "application/vnd.jupyter.widget-view+json": {
       "model_id": "afe7b1017e0849a08c18564284add4cd",
       "version_major": 2,
       "version_minor": 0
      },
      "text/plain": [
       "  0%|          | 0/205 [00:00<?, ?it/s]"
      ]
     },
     "metadata": {},
     "output_type": "display_data"
    },
    {
     "name": "stdout",
     "output_type": "stream",
     "text": [
      "Pairs created for date 2011-07-01 00:00:00\n"
     ]
    },
    {
     "data": {
      "application/vnd.jupyter.widget-view+json": {
       "model_id": "ac57f4df0b2f41c6bc5707c69a105081",
       "version_major": 2,
       "version_minor": 0
      },
      "text/plain": [
       "  0%|          | 0/204 [00:00<?, ?it/s]"
      ]
     },
     "metadata": {},
     "output_type": "display_data"
    },
    {
     "name": "stdout",
     "output_type": "stream",
     "text": [
      "Pairs created for date 2011-08-01 00:00:00\n"
     ]
    },
    {
     "data": {
      "application/vnd.jupyter.widget-view+json": {
       "model_id": "29d1e586eb58437286a445e6fbcb4287",
       "version_major": 2,
       "version_minor": 0
      },
      "text/plain": [
       "  0%|          | 0/203 [00:00<?, ?it/s]"
      ]
     },
     "metadata": {},
     "output_type": "display_data"
    },
    {
     "name": "stdout",
     "output_type": "stream",
     "text": [
      "Pairs created for date 2011-09-01 00:00:00\n"
     ]
    },
    {
     "data": {
      "application/vnd.jupyter.widget-view+json": {
       "model_id": "243081e3ad6b459588f93b1915c7de87",
       "version_major": 2,
       "version_minor": 0
      },
      "text/plain": [
       "  0%|          | 0/203 [00:00<?, ?it/s]"
      ]
     },
     "metadata": {},
     "output_type": "display_data"
    },
    {
     "name": "stdout",
     "output_type": "stream",
     "text": [
      "Pairs created for date 2011-10-01 00:00:00\n"
     ]
    },
    {
     "data": {
      "application/vnd.jupyter.widget-view+json": {
       "model_id": "307d54c4d69f4764b3ab86635548bf4d",
       "version_major": 2,
       "version_minor": 0
      },
      "text/plain": [
       "  0%|          | 0/204 [00:00<?, ?it/s]"
      ]
     },
     "metadata": {},
     "output_type": "display_data"
    },
    {
     "name": "stdout",
     "output_type": "stream",
     "text": [
      "Pairs created for date 2011-11-01 00:00:00\n"
     ]
    },
    {
     "data": {
      "application/vnd.jupyter.widget-view+json": {
       "model_id": "60d85816c9de422ea0d69625543aa2d5",
       "version_major": 2,
       "version_minor": 0
      },
      "text/plain": [
       "  0%|          | 0/203 [00:00<?, ?it/s]"
      ]
     },
     "metadata": {},
     "output_type": "display_data"
    },
    {
     "name": "stdout",
     "output_type": "stream",
     "text": [
      "Pairs created for date 2011-12-01 00:00:00\n"
     ]
    },
    {
     "data": {
      "application/vnd.jupyter.widget-view+json": {
       "model_id": "a45616ed3efb4358b07ce56113d332ec",
       "version_major": 2,
       "version_minor": 0
      },
      "text/plain": [
       "  0%|          | 0/202 [00:00<?, ?it/s]"
      ]
     },
     "metadata": {},
     "output_type": "display_data"
    },
    {
     "name": "stdout",
     "output_type": "stream",
     "text": [
      "Pairs created for date 2012-01-01 00:00:00\n"
     ]
    },
    {
     "data": {
      "application/vnd.jupyter.widget-view+json": {
       "model_id": "1586cf27846d439898ffb84df588cf6a",
       "version_major": 2,
       "version_minor": 0
      },
      "text/plain": [
       "  0%|          | 0/198 [00:00<?, ?it/s]"
      ]
     },
     "metadata": {},
     "output_type": "display_data"
    },
    {
     "name": "stdout",
     "output_type": "stream",
     "text": [
      "Pairs created for date 2012-02-01 00:00:00\n"
     ]
    },
    {
     "data": {
      "application/vnd.jupyter.widget-view+json": {
       "model_id": "d239be1558534f16ac7d98ebecb3f47e",
       "version_major": 2,
       "version_minor": 0
      },
      "text/plain": [
       "  0%|          | 0/197 [00:00<?, ?it/s]"
      ]
     },
     "metadata": {},
     "output_type": "display_data"
    },
    {
     "name": "stdout",
     "output_type": "stream",
     "text": [
      "Pairs created for date 2012-03-01 00:00:00\n"
     ]
    },
    {
     "data": {
      "application/vnd.jupyter.widget-view+json": {
       "model_id": "0f5fe9c91091429081cc481fae2c45b6",
       "version_major": 2,
       "version_minor": 0
      },
      "text/plain": [
       "  0%|          | 0/214 [00:00<?, ?it/s]"
      ]
     },
     "metadata": {},
     "output_type": "display_data"
    },
    {
     "name": "stdout",
     "output_type": "stream",
     "text": [
      "Pairs created for date 2011-01-01 00:00:00\n"
     ]
    },
    {
     "data": {
      "application/vnd.jupyter.widget-view+json": {
       "model_id": "61cad00436dc4ec694d5b8909e2d9c8b",
       "version_major": 2,
       "version_minor": 0
      },
      "text/plain": [
       "  0%|          | 0/213 [00:00<?, ?it/s]"
      ]
     },
     "metadata": {},
     "output_type": "display_data"
    },
    {
     "name": "stdout",
     "output_type": "stream",
     "text": [
      "Pairs created for date 2011-02-01 00:00:00\n"
     ]
    },
    {
     "data": {
      "application/vnd.jupyter.widget-view+json": {
       "model_id": "972985d0c35c4fc284a06fb2fd155ef5",
       "version_major": 2,
       "version_minor": 0
      },
      "text/plain": [
       "  0%|          | 0/212 [00:00<?, ?it/s]"
      ]
     },
     "metadata": {},
     "output_type": "display_data"
    },
    {
     "name": "stdout",
     "output_type": "stream",
     "text": [
      "Pairs created for date 2011-03-01 00:00:00\n"
     ]
    },
    {
     "data": {
      "application/vnd.jupyter.widget-view+json": {
       "model_id": "946a0823020140e0876a99f32c2b51f8",
       "version_major": 2,
       "version_minor": 0
      },
      "text/plain": [
       "  0%|          | 0/210 [00:00<?, ?it/s]"
      ]
     },
     "metadata": {},
     "output_type": "display_data"
    },
    {
     "name": "stdout",
     "output_type": "stream",
     "text": [
      "Pairs created for date 2011-04-01 00:00:00\n"
     ]
    },
    {
     "data": {
      "application/vnd.jupyter.widget-view+json": {
       "model_id": "6036b70a2aff409ebfb99112638a5317",
       "version_major": 2,
       "version_minor": 0
      },
      "text/plain": [
       "  0%|          | 0/209 [00:00<?, ?it/s]"
      ]
     },
     "metadata": {},
     "output_type": "display_data"
    },
    {
     "name": "stdout",
     "output_type": "stream",
     "text": [
      "Pairs created for date 2011-05-01 00:00:00\n"
     ]
    },
    {
     "data": {
      "application/vnd.jupyter.widget-view+json": {
       "model_id": "89dedd7b931f4e74827d6a1af6a70a8e",
       "version_major": 2,
       "version_minor": 0
      },
      "text/plain": [
       "  0%|          | 0/206 [00:00<?, ?it/s]"
      ]
     },
     "metadata": {},
     "output_type": "display_data"
    },
    {
     "name": "stdout",
     "output_type": "stream",
     "text": [
      "Pairs created for date 2011-06-01 00:00:00\n"
     ]
    },
    {
     "data": {
      "application/vnd.jupyter.widget-view+json": {
       "model_id": "1269df4dac6f4baa9fffcbbd08f759d8",
       "version_major": 2,
       "version_minor": 0
      },
      "text/plain": [
       "  0%|          | 0/205 [00:00<?, ?it/s]"
      ]
     },
     "metadata": {},
     "output_type": "display_data"
    },
    {
     "name": "stdout",
     "output_type": "stream",
     "text": [
      "Pairs created for date 2011-07-01 00:00:00\n"
     ]
    },
    {
     "data": {
      "application/vnd.jupyter.widget-view+json": {
       "model_id": "db9f01c2869a45bb822607436b77a472",
       "version_major": 2,
       "version_minor": 0
      },
      "text/plain": [
       "  0%|          | 0/204 [00:00<?, ?it/s]"
      ]
     },
     "metadata": {},
     "output_type": "display_data"
    },
    {
     "name": "stdout",
     "output_type": "stream",
     "text": [
      "Pairs created for date 2011-08-01 00:00:00\n"
     ]
    },
    {
     "data": {
      "application/vnd.jupyter.widget-view+json": {
       "model_id": "ee5f7d49cf994ffaace764b8871f09dd",
       "version_major": 2,
       "version_minor": 0
      },
      "text/plain": [
       "  0%|          | 0/203 [00:00<?, ?it/s]"
      ]
     },
     "metadata": {},
     "output_type": "display_data"
    },
    {
     "name": "stdout",
     "output_type": "stream",
     "text": [
      "Pairs created for date 2011-09-01 00:00:00\n"
     ]
    },
    {
     "data": {
      "application/vnd.jupyter.widget-view+json": {
       "model_id": "8fa406fb77a048c8ad6ff2c24fe74277",
       "version_major": 2,
       "version_minor": 0
      },
      "text/plain": [
       "  0%|          | 0/203 [00:00<?, ?it/s]"
      ]
     },
     "metadata": {},
     "output_type": "display_data"
    },
    {
     "name": "stdout",
     "output_type": "stream",
     "text": [
      "Pairs created for date 2011-10-01 00:00:00\n"
     ]
    },
    {
     "data": {
      "application/vnd.jupyter.widget-view+json": {
       "model_id": "71089866216440788f771ddd0344eb54",
       "version_major": 2,
       "version_minor": 0
      },
      "text/plain": [
       "  0%|          | 0/204 [00:00<?, ?it/s]"
      ]
     },
     "metadata": {},
     "output_type": "display_data"
    },
    {
     "name": "stdout",
     "output_type": "stream",
     "text": [
      "Pairs created for date 2011-11-01 00:00:00\n"
     ]
    },
    {
     "data": {
      "application/vnd.jupyter.widget-view+json": {
       "model_id": "33f58663ded94bc8a6a761d32d6bcab9",
       "version_major": 2,
       "version_minor": 0
      },
      "text/plain": [
       "  0%|          | 0/203 [00:00<?, ?it/s]"
      ]
     },
     "metadata": {},
     "output_type": "display_data"
    },
    {
     "name": "stdout",
     "output_type": "stream",
     "text": [
      "Pairs created for date 2011-12-01 00:00:00\n"
     ]
    },
    {
     "data": {
      "application/vnd.jupyter.widget-view+json": {
       "model_id": "ba30e76e88db4dfbb41d7d21d26c156f",
       "version_major": 2,
       "version_minor": 0
      },
      "text/plain": [
       "  0%|          | 0/202 [00:00<?, ?it/s]"
      ]
     },
     "metadata": {},
     "output_type": "display_data"
    },
    {
     "name": "stdout",
     "output_type": "stream",
     "text": [
      "Pairs created for date 2012-01-01 00:00:00\n"
     ]
    },
    {
     "data": {
      "application/vnd.jupyter.widget-view+json": {
       "model_id": "c1be9510355f41e7ba3be386258d9e3b",
       "version_major": 2,
       "version_minor": 0
      },
      "text/plain": [
       "  0%|          | 0/198 [00:00<?, ?it/s]"
      ]
     },
     "metadata": {},
     "output_type": "display_data"
    },
    {
     "name": "stdout",
     "output_type": "stream",
     "text": [
      "Pairs created for date 2012-02-01 00:00:00\n"
     ]
    },
    {
     "data": {
      "application/vnd.jupyter.widget-view+json": {
       "model_id": "393ce732660541f1a0ec75fcb0918750",
       "version_major": 2,
       "version_minor": 0
      },
      "text/plain": [
       "  0%|          | 0/197 [00:00<?, ?it/s]"
      ]
     },
     "metadata": {},
     "output_type": "display_data"
    },
    {
     "name": "stdout",
     "output_type": "stream",
     "text": [
      "Pairs created for date 2012-03-01 00:00:00\n"
     ]
    },
    {
     "data": {
      "application/vnd.jupyter.widget-view+json": {
       "model_id": "e459c184c4854cbfa666d40de69ee9a0",
       "version_major": 2,
       "version_minor": 0
      },
      "text/plain": [
       "  0%|          | 0/214 [00:00<?, ?it/s]"
      ]
     },
     "metadata": {},
     "output_type": "display_data"
    },
    {
     "name": "stdout",
     "output_type": "stream",
     "text": [
      "Pairs created for date 2011-01-01 00:00:00\n"
     ]
    },
    {
     "data": {
      "application/vnd.jupyter.widget-view+json": {
       "model_id": "6b272c4de3324ad19a10c87411241c4a",
       "version_major": 2,
       "version_minor": 0
      },
      "text/plain": [
       "  0%|          | 0/213 [00:00<?, ?it/s]"
      ]
     },
     "metadata": {},
     "output_type": "display_data"
    },
    {
     "name": "stdout",
     "output_type": "stream",
     "text": [
      "Pairs created for date 2011-02-01 00:00:00\n"
     ]
    },
    {
     "data": {
      "application/vnd.jupyter.widget-view+json": {
       "model_id": "9dd91d7cca344beba8a5b40dc2594cc1",
       "version_major": 2,
       "version_minor": 0
      },
      "text/plain": [
       "  0%|          | 0/212 [00:00<?, ?it/s]"
      ]
     },
     "metadata": {},
     "output_type": "display_data"
    },
    {
     "name": "stdout",
     "output_type": "stream",
     "text": [
      "Pairs created for date 2011-03-01 00:00:00\n"
     ]
    },
    {
     "data": {
      "application/vnd.jupyter.widget-view+json": {
       "model_id": "e760e996b5cd435eb76e5711a60d026b",
       "version_major": 2,
       "version_minor": 0
      },
      "text/plain": [
       "  0%|          | 0/210 [00:00<?, ?it/s]"
      ]
     },
     "metadata": {},
     "output_type": "display_data"
    },
    {
     "name": "stdout",
     "output_type": "stream",
     "text": [
      "Pairs created for date 2011-04-01 00:00:00\n"
     ]
    },
    {
     "data": {
      "application/vnd.jupyter.widget-view+json": {
       "model_id": "8960317e2c2d4edc813e2e7ac21d5f8d",
       "version_major": 2,
       "version_minor": 0
      },
      "text/plain": [
       "  0%|          | 0/209 [00:00<?, ?it/s]"
      ]
     },
     "metadata": {},
     "output_type": "display_data"
    },
    {
     "name": "stdout",
     "output_type": "stream",
     "text": [
      "Pairs created for date 2011-05-01 00:00:00\n"
     ]
    },
    {
     "data": {
      "application/vnd.jupyter.widget-view+json": {
       "model_id": "00dd4a8ef7044acc862f38ce5be091d2",
       "version_major": 2,
       "version_minor": 0
      },
      "text/plain": [
       "  0%|          | 0/206 [00:00<?, ?it/s]"
      ]
     },
     "metadata": {},
     "output_type": "display_data"
    },
    {
     "name": "stdout",
     "output_type": "stream",
     "text": [
      "Pairs created for date 2011-06-01 00:00:00\n"
     ]
    },
    {
     "data": {
      "application/vnd.jupyter.widget-view+json": {
       "model_id": "80b3eac92c2b415aa56ce08413c5ca0e",
       "version_major": 2,
       "version_minor": 0
      },
      "text/plain": [
       "  0%|          | 0/205 [00:00<?, ?it/s]"
      ]
     },
     "metadata": {},
     "output_type": "display_data"
    },
    {
     "name": "stdout",
     "output_type": "stream",
     "text": [
      "Pairs created for date 2011-07-01 00:00:00\n"
     ]
    },
    {
     "data": {
      "application/vnd.jupyter.widget-view+json": {
       "model_id": "2ea3225b061047a98fbe3c94a63c14d8",
       "version_major": 2,
       "version_minor": 0
      },
      "text/plain": [
       "  0%|          | 0/204 [00:00<?, ?it/s]"
      ]
     },
     "metadata": {},
     "output_type": "display_data"
    },
    {
     "name": "stdout",
     "output_type": "stream",
     "text": [
      "Pairs created for date 2011-08-01 00:00:00\n"
     ]
    },
    {
     "data": {
      "application/vnd.jupyter.widget-view+json": {
       "model_id": "d6b88648a9d447ffbca7c80ba7956ae8",
       "version_major": 2,
       "version_minor": 0
      },
      "text/plain": [
       "  0%|          | 0/203 [00:00<?, ?it/s]"
      ]
     },
     "metadata": {},
     "output_type": "display_data"
    },
    {
     "name": "stdout",
     "output_type": "stream",
     "text": [
      "Pairs created for date 2011-09-01 00:00:00\n"
     ]
    },
    {
     "data": {
      "application/vnd.jupyter.widget-view+json": {
       "model_id": "a0bc832131bd412c9cedddece0c4e362",
       "version_major": 2,
       "version_minor": 0
      },
      "text/plain": [
       "  0%|          | 0/203 [00:00<?, ?it/s]"
      ]
     },
     "metadata": {},
     "output_type": "display_data"
    },
    {
     "name": "stdout",
     "output_type": "stream",
     "text": [
      "Pairs created for date 2011-10-01 00:00:00\n"
     ]
    },
    {
     "data": {
      "application/vnd.jupyter.widget-view+json": {
       "model_id": "35d1f18c65764ce2b75504417dd2fea4",
       "version_major": 2,
       "version_minor": 0
      },
      "text/plain": [
       "  0%|          | 0/204 [00:00<?, ?it/s]"
      ]
     },
     "metadata": {},
     "output_type": "display_data"
    },
    {
     "name": "stdout",
     "output_type": "stream",
     "text": [
      "Pairs created for date 2011-11-01 00:00:00\n"
     ]
    },
    {
     "data": {
      "application/vnd.jupyter.widget-view+json": {
       "model_id": "de9d91d51ff84746b2683d67acfd6462",
       "version_major": 2,
       "version_minor": 0
      },
      "text/plain": [
       "  0%|          | 0/203 [00:00<?, ?it/s]"
      ]
     },
     "metadata": {},
     "output_type": "display_data"
    },
    {
     "name": "stdout",
     "output_type": "stream",
     "text": [
      "Pairs created for date 2011-12-01 00:00:00\n"
     ]
    },
    {
     "data": {
      "application/vnd.jupyter.widget-view+json": {
       "model_id": "d7b4b895dc0f4621b26dd4d9389ce2cc",
       "version_major": 2,
       "version_minor": 0
      },
      "text/plain": [
       "  0%|          | 0/202 [00:00<?, ?it/s]"
      ]
     },
     "metadata": {},
     "output_type": "display_data"
    },
    {
     "name": "stdout",
     "output_type": "stream",
     "text": [
      "Pairs created for date 2012-01-01 00:00:00\n"
     ]
    },
    {
     "data": {
      "application/vnd.jupyter.widget-view+json": {
       "model_id": "1bcd8e5302354c8886cbfac95385576d",
       "version_major": 2,
       "version_minor": 0
      },
      "text/plain": [
       "  0%|          | 0/198 [00:00<?, ?it/s]"
      ]
     },
     "metadata": {},
     "output_type": "display_data"
    },
    {
     "name": "stdout",
     "output_type": "stream",
     "text": [
      "Pairs created for date 2012-02-01 00:00:00\n"
     ]
    },
    {
     "data": {
      "application/vnd.jupyter.widget-view+json": {
       "model_id": "f9cc466b8f6a46fbb765061a8cd3d8e7",
       "version_major": 2,
       "version_minor": 0
      },
      "text/plain": [
       "  0%|          | 0/197 [00:00<?, ?it/s]"
      ]
     },
     "metadata": {},
     "output_type": "display_data"
    },
    {
     "name": "stdout",
     "output_type": "stream",
     "text": [
      "Pairs created for date 2012-03-01 00:00:00\n"
     ]
    },
    {
     "data": {
      "application/vnd.jupyter.widget-view+json": {
       "model_id": "d25696810a3e4d7895d57007c29a34b2",
       "version_major": 2,
       "version_minor": 0
      },
      "text/plain": [
       "  0%|          | 0/214 [00:00<?, ?it/s]"
      ]
     },
     "metadata": {},
     "output_type": "display_data"
    },
    {
     "name": "stdout",
     "output_type": "stream",
     "text": [
      "Pairs created for date 2011-01-01 00:00:00\n"
     ]
    },
    {
     "data": {
      "application/vnd.jupyter.widget-view+json": {
       "model_id": "3c7ac9d6028b4d41bb5d173db0edbee9",
       "version_major": 2,
       "version_minor": 0
      },
      "text/plain": [
       "  0%|          | 0/213 [00:00<?, ?it/s]"
      ]
     },
     "metadata": {},
     "output_type": "display_data"
    },
    {
     "name": "stdout",
     "output_type": "stream",
     "text": [
      "Pairs created for date 2011-02-01 00:00:00\n"
     ]
    },
    {
     "data": {
      "application/vnd.jupyter.widget-view+json": {
       "model_id": "725e848c152f4bc7b2c143808a7deed8",
       "version_major": 2,
       "version_minor": 0
      },
      "text/plain": [
       "  0%|          | 0/212 [00:00<?, ?it/s]"
      ]
     },
     "metadata": {},
     "output_type": "display_data"
    },
    {
     "name": "stdout",
     "output_type": "stream",
     "text": [
      "Pairs created for date 2011-03-01 00:00:00\n"
     ]
    },
    {
     "data": {
      "application/vnd.jupyter.widget-view+json": {
       "model_id": "c45e1bc540dc410d8b0a89db754fffb3",
       "version_major": 2,
       "version_minor": 0
      },
      "text/plain": [
       "  0%|          | 0/210 [00:00<?, ?it/s]"
      ]
     },
     "metadata": {},
     "output_type": "display_data"
    },
    {
     "name": "stdout",
     "output_type": "stream",
     "text": [
      "Pairs created for date 2011-04-01 00:00:00\n"
     ]
    },
    {
     "data": {
      "application/vnd.jupyter.widget-view+json": {
       "model_id": "8765f7cee935497b9f3d861a0c3c4431",
       "version_major": 2,
       "version_minor": 0
      },
      "text/plain": [
       "  0%|          | 0/209 [00:00<?, ?it/s]"
      ]
     },
     "metadata": {},
     "output_type": "display_data"
    },
    {
     "name": "stdout",
     "output_type": "stream",
     "text": [
      "Pairs created for date 2011-05-01 00:00:00\n"
     ]
    },
    {
     "data": {
      "application/vnd.jupyter.widget-view+json": {
       "model_id": "2329964ac4584605bae27eb68b329466",
       "version_major": 2,
       "version_minor": 0
      },
      "text/plain": [
       "  0%|          | 0/206 [00:00<?, ?it/s]"
      ]
     },
     "metadata": {},
     "output_type": "display_data"
    },
    {
     "name": "stdout",
     "output_type": "stream",
     "text": [
      "Pairs created for date 2011-06-01 00:00:00\n"
     ]
    },
    {
     "data": {
      "application/vnd.jupyter.widget-view+json": {
       "model_id": "2b58c200f4644c07846787378a9b2f55",
       "version_major": 2,
       "version_minor": 0
      },
      "text/plain": [
       "  0%|          | 0/205 [00:00<?, ?it/s]"
      ]
     },
     "metadata": {},
     "output_type": "display_data"
    },
    {
     "name": "stdout",
     "output_type": "stream",
     "text": [
      "Pairs created for date 2011-07-01 00:00:00\n"
     ]
    },
    {
     "data": {
      "application/vnd.jupyter.widget-view+json": {
       "model_id": "b0c4a6c2513e457fb94c635c99cb57af",
       "version_major": 2,
       "version_minor": 0
      },
      "text/plain": [
       "  0%|          | 0/204 [00:00<?, ?it/s]"
      ]
     },
     "metadata": {},
     "output_type": "display_data"
    },
    {
     "name": "stdout",
     "output_type": "stream",
     "text": [
      "Pairs created for date 2011-08-01 00:00:00\n"
     ]
    },
    {
     "data": {
      "application/vnd.jupyter.widget-view+json": {
       "model_id": "0d51525c513447668584262ff954215b",
       "version_major": 2,
       "version_minor": 0
      },
      "text/plain": [
       "  0%|          | 0/203 [00:00<?, ?it/s]"
      ]
     },
     "metadata": {},
     "output_type": "display_data"
    },
    {
     "name": "stdout",
     "output_type": "stream",
     "text": [
      "Pairs created for date 2011-09-01 00:00:00\n"
     ]
    },
    {
     "data": {
      "application/vnd.jupyter.widget-view+json": {
       "model_id": "e6c30e2540254c7a9245f0b5492946db",
       "version_major": 2,
       "version_minor": 0
      },
      "text/plain": [
       "  0%|          | 0/203 [00:00<?, ?it/s]"
      ]
     },
     "metadata": {},
     "output_type": "display_data"
    },
    {
     "name": "stdout",
     "output_type": "stream",
     "text": [
      "Pairs created for date 2011-10-01 00:00:00\n"
     ]
    },
    {
     "data": {
      "application/vnd.jupyter.widget-view+json": {
       "model_id": "435813b5d27c4a75b651a346ae1d6f94",
       "version_major": 2,
       "version_minor": 0
      },
      "text/plain": [
       "  0%|          | 0/204 [00:00<?, ?it/s]"
      ]
     },
     "metadata": {},
     "output_type": "display_data"
    },
    {
     "name": "stdout",
     "output_type": "stream",
     "text": [
      "Pairs created for date 2011-11-01 00:00:00\n"
     ]
    },
    {
     "data": {
      "application/vnd.jupyter.widget-view+json": {
       "model_id": "9840f1b857ba4e4f8d3be5a4e279a5da",
       "version_major": 2,
       "version_minor": 0
      },
      "text/plain": [
       "  0%|          | 0/203 [00:00<?, ?it/s]"
      ]
     },
     "metadata": {},
     "output_type": "display_data"
    },
    {
     "name": "stdout",
     "output_type": "stream",
     "text": [
      "Pairs created for date 2011-12-01 00:00:00\n"
     ]
    },
    {
     "data": {
      "application/vnd.jupyter.widget-view+json": {
       "model_id": "f2cceefcd22249ffbebf62ae213a3c4e",
       "version_major": 2,
       "version_minor": 0
      },
      "text/plain": [
       "  0%|          | 0/202 [00:00<?, ?it/s]"
      ]
     },
     "metadata": {},
     "output_type": "display_data"
    },
    {
     "name": "stdout",
     "output_type": "stream",
     "text": [
      "Pairs created for date 2012-01-01 00:00:00\n"
     ]
    },
    {
     "data": {
      "application/vnd.jupyter.widget-view+json": {
       "model_id": "43ebd1b38c644f4787ee02ffb4fec3d9",
       "version_major": 2,
       "version_minor": 0
      },
      "text/plain": [
       "  0%|          | 0/198 [00:00<?, ?it/s]"
      ]
     },
     "metadata": {},
     "output_type": "display_data"
    },
    {
     "name": "stdout",
     "output_type": "stream",
     "text": [
      "Pairs created for date 2012-02-01 00:00:00\n"
     ]
    },
    {
     "data": {
      "application/vnd.jupyter.widget-view+json": {
       "model_id": "14a0b26d9ed84a0595aef36acb7d8100",
       "version_major": 2,
       "version_minor": 0
      },
      "text/plain": [
       "  0%|          | 0/197 [00:00<?, ?it/s]"
      ]
     },
     "metadata": {},
     "output_type": "display_data"
    },
    {
     "name": "stdout",
     "output_type": "stream",
     "text": [
      "Pairs created for date 2012-03-01 00:00:00\n"
     ]
    },
    {
     "data": {
      "application/vnd.jupyter.widget-view+json": {
       "model_id": "2d851ca28c464d389ab66c7f6d4fb1fc",
       "version_major": 2,
       "version_minor": 0
      },
      "text/plain": [
       "  0%|          | 0/214 [00:00<?, ?it/s]"
      ]
     },
     "metadata": {},
     "output_type": "display_data"
    },
    {
     "name": "stdout",
     "output_type": "stream",
     "text": [
      "Pairs created for date 2011-01-01 00:00:00\n"
     ]
    },
    {
     "data": {
      "application/vnd.jupyter.widget-view+json": {
       "model_id": "3c04833ed4fb493dba676de01915d204",
       "version_major": 2,
       "version_minor": 0
      },
      "text/plain": [
       "  0%|          | 0/213 [00:00<?, ?it/s]"
      ]
     },
     "metadata": {},
     "output_type": "display_data"
    },
    {
     "name": "stdout",
     "output_type": "stream",
     "text": [
      "Pairs created for date 2011-02-01 00:00:00\n"
     ]
    },
    {
     "data": {
      "application/vnd.jupyter.widget-view+json": {
       "model_id": "df9455ad2a304190b043d9853b7d8a95",
       "version_major": 2,
       "version_minor": 0
      },
      "text/plain": [
       "  0%|          | 0/212 [00:00<?, ?it/s]"
      ]
     },
     "metadata": {},
     "output_type": "display_data"
    },
    {
     "name": "stdout",
     "output_type": "stream",
     "text": [
      "Pairs created for date 2011-03-01 00:00:00\n"
     ]
    },
    {
     "data": {
      "application/vnd.jupyter.widget-view+json": {
       "model_id": "32649883212549bb97962e873800e06a",
       "version_major": 2,
       "version_minor": 0
      },
      "text/plain": [
       "  0%|          | 0/210 [00:00<?, ?it/s]"
      ]
     },
     "metadata": {},
     "output_type": "display_data"
    },
    {
     "name": "stdout",
     "output_type": "stream",
     "text": [
      "Pairs created for date 2011-04-01 00:00:00\n"
     ]
    },
    {
     "data": {
      "application/vnd.jupyter.widget-view+json": {
       "model_id": "b377f3ec335d419e91bbdf63ae4a9078",
       "version_major": 2,
       "version_minor": 0
      },
      "text/plain": [
       "  0%|          | 0/209 [00:00<?, ?it/s]"
      ]
     },
     "metadata": {},
     "output_type": "display_data"
    },
    {
     "name": "stdout",
     "output_type": "stream",
     "text": [
      "Pairs created for date 2011-05-01 00:00:00\n"
     ]
    },
    {
     "data": {
      "application/vnd.jupyter.widget-view+json": {
       "model_id": "924ce1dc3e094cdab987fd4e173e70d8",
       "version_major": 2,
       "version_minor": 0
      },
      "text/plain": [
       "  0%|          | 0/206 [00:00<?, ?it/s]"
      ]
     },
     "metadata": {},
     "output_type": "display_data"
    },
    {
     "name": "stdout",
     "output_type": "stream",
     "text": [
      "Pairs created for date 2011-06-01 00:00:00\n"
     ]
    },
    {
     "data": {
      "application/vnd.jupyter.widget-view+json": {
       "model_id": "38a80fe91b7f4ddaadc47916c661d178",
       "version_major": 2,
       "version_minor": 0
      },
      "text/plain": [
       "  0%|          | 0/205 [00:00<?, ?it/s]"
      ]
     },
     "metadata": {},
     "output_type": "display_data"
    },
    {
     "name": "stdout",
     "output_type": "stream",
     "text": [
      "Pairs created for date 2011-07-01 00:00:00\n"
     ]
    },
    {
     "data": {
      "application/vnd.jupyter.widget-view+json": {
       "model_id": "ebfb02b1c54c47d3af6838a7ead9c520",
       "version_major": 2,
       "version_minor": 0
      },
      "text/plain": [
       "  0%|          | 0/204 [00:00<?, ?it/s]"
      ]
     },
     "metadata": {},
     "output_type": "display_data"
    },
    {
     "name": "stdout",
     "output_type": "stream",
     "text": [
      "Pairs created for date 2011-08-01 00:00:00\n"
     ]
    },
    {
     "data": {
      "application/vnd.jupyter.widget-view+json": {
       "model_id": "b0b607277010437cb147d4640c6d37ab",
       "version_major": 2,
       "version_minor": 0
      },
      "text/plain": [
       "  0%|          | 0/203 [00:00<?, ?it/s]"
      ]
     },
     "metadata": {},
     "output_type": "display_data"
    },
    {
     "name": "stdout",
     "output_type": "stream",
     "text": [
      "Pairs created for date 2011-09-01 00:00:00\n"
     ]
    },
    {
     "data": {
      "application/vnd.jupyter.widget-view+json": {
       "model_id": "9ed77af076184e188a4db8d1f585c529",
       "version_major": 2,
       "version_minor": 0
      },
      "text/plain": [
       "  0%|          | 0/203 [00:00<?, ?it/s]"
      ]
     },
     "metadata": {},
     "output_type": "display_data"
    },
    {
     "name": "stdout",
     "output_type": "stream",
     "text": [
      "Pairs created for date 2011-10-01 00:00:00\n"
     ]
    },
    {
     "data": {
      "application/vnd.jupyter.widget-view+json": {
       "model_id": "751fbb5d06fe4148a7fcb9e4039a1191",
       "version_major": 2,
       "version_minor": 0
      },
      "text/plain": [
       "  0%|          | 0/204 [00:00<?, ?it/s]"
      ]
     },
     "metadata": {},
     "output_type": "display_data"
    },
    {
     "name": "stdout",
     "output_type": "stream",
     "text": [
      "Pairs created for date 2011-11-01 00:00:00\n"
     ]
    },
    {
     "data": {
      "application/vnd.jupyter.widget-view+json": {
       "model_id": "9a035d0f9b514d2d840a530ac70d2b00",
       "version_major": 2,
       "version_minor": 0
      },
      "text/plain": [
       "  0%|          | 0/203 [00:00<?, ?it/s]"
      ]
     },
     "metadata": {},
     "output_type": "display_data"
    },
    {
     "name": "stdout",
     "output_type": "stream",
     "text": [
      "Pairs created for date 2011-12-01 00:00:00\n"
     ]
    },
    {
     "data": {
      "application/vnd.jupyter.widget-view+json": {
       "model_id": "55a161ad4e4e4448a947a5fe3d46efbd",
       "version_major": 2,
       "version_minor": 0
      },
      "text/plain": [
       "  0%|          | 0/202 [00:00<?, ?it/s]"
      ]
     },
     "metadata": {},
     "output_type": "display_data"
    },
    {
     "name": "stdout",
     "output_type": "stream",
     "text": [
      "Pairs created for date 2012-01-01 00:00:00\n"
     ]
    },
    {
     "data": {
      "application/vnd.jupyter.widget-view+json": {
       "model_id": "53a1ab79d48a4d378122df928610e990",
       "version_major": 2,
       "version_minor": 0
      },
      "text/plain": [
       "  0%|          | 0/198 [00:00<?, ?it/s]"
      ]
     },
     "metadata": {},
     "output_type": "display_data"
    },
    {
     "name": "stdout",
     "output_type": "stream",
     "text": [
      "Pairs created for date 2012-02-01 00:00:00\n"
     ]
    },
    {
     "data": {
      "application/vnd.jupyter.widget-view+json": {
       "model_id": "e54c16a0609442f9a398e8aecc0ea430",
       "version_major": 2,
       "version_minor": 0
      },
      "text/plain": [
       "  0%|          | 0/197 [00:00<?, ?it/s]"
      ]
     },
     "metadata": {},
     "output_type": "display_data"
    },
    {
     "name": "stdout",
     "output_type": "stream",
     "text": [
      "Pairs created for date 2012-03-01 00:00:00\n"
     ]
    },
    {
     "data": {
      "application/vnd.jupyter.widget-view+json": {
       "model_id": "6d3a95e3d00d498fa47319e6439a1ec3",
       "version_major": 2,
       "version_minor": 0
      },
      "text/plain": [
       "  0%|          | 0/214 [00:00<?, ?it/s]"
      ]
     },
     "metadata": {},
     "output_type": "display_data"
    },
    {
     "name": "stdout",
     "output_type": "stream",
     "text": [
      "Pairs created for date 2011-01-01 00:00:00\n"
     ]
    },
    {
     "data": {
      "application/vnd.jupyter.widget-view+json": {
       "model_id": "825df3c254244e9898dca1d26516eda6",
       "version_major": 2,
       "version_minor": 0
      },
      "text/plain": [
       "  0%|          | 0/213 [00:00<?, ?it/s]"
      ]
     },
     "metadata": {},
     "output_type": "display_data"
    },
    {
     "name": "stdout",
     "output_type": "stream",
     "text": [
      "Pairs created for date 2011-02-01 00:00:00\n"
     ]
    },
    {
     "data": {
      "application/vnd.jupyter.widget-view+json": {
       "model_id": "d5098105b9534e75ae6812c7ae66a59c",
       "version_major": 2,
       "version_minor": 0
      },
      "text/plain": [
       "  0%|          | 0/212 [00:00<?, ?it/s]"
      ]
     },
     "metadata": {},
     "output_type": "display_data"
    },
    {
     "name": "stdout",
     "output_type": "stream",
     "text": [
      "Pairs created for date 2011-03-01 00:00:00\n"
     ]
    },
    {
     "data": {
      "application/vnd.jupyter.widget-view+json": {
       "model_id": "06ed0069e8234d93bdfb8d8b45a0b117",
       "version_major": 2,
       "version_minor": 0
      },
      "text/plain": [
       "  0%|          | 0/210 [00:00<?, ?it/s]"
      ]
     },
     "metadata": {},
     "output_type": "display_data"
    },
    {
     "name": "stdout",
     "output_type": "stream",
     "text": [
      "Pairs created for date 2011-04-01 00:00:00\n"
     ]
    },
    {
     "data": {
      "application/vnd.jupyter.widget-view+json": {
       "model_id": "cdd75d67fa6a41a3b75d9b9c1285b2de",
       "version_major": 2,
       "version_minor": 0
      },
      "text/plain": [
       "  0%|          | 0/209 [00:00<?, ?it/s]"
      ]
     },
     "metadata": {},
     "output_type": "display_data"
    },
    {
     "name": "stdout",
     "output_type": "stream",
     "text": [
      "Pairs created for date 2011-05-01 00:00:00\n"
     ]
    },
    {
     "data": {
      "application/vnd.jupyter.widget-view+json": {
       "model_id": "d9502789d19541ba90938328cfe73b65",
       "version_major": 2,
       "version_minor": 0
      },
      "text/plain": [
       "  0%|          | 0/206 [00:00<?, ?it/s]"
      ]
     },
     "metadata": {},
     "output_type": "display_data"
    },
    {
     "name": "stdout",
     "output_type": "stream",
     "text": [
      "Pairs created for date 2011-06-01 00:00:00\n"
     ]
    },
    {
     "data": {
      "application/vnd.jupyter.widget-view+json": {
       "model_id": "4ffb6da5c6c24b5a9df041d773138895",
       "version_major": 2,
       "version_minor": 0
      },
      "text/plain": [
       "  0%|          | 0/205 [00:00<?, ?it/s]"
      ]
     },
     "metadata": {},
     "output_type": "display_data"
    },
    {
     "name": "stdout",
     "output_type": "stream",
     "text": [
      "Pairs created for date 2011-07-01 00:00:00\n"
     ]
    },
    {
     "data": {
      "application/vnd.jupyter.widget-view+json": {
       "model_id": "46e56edf066f4c79be886ada21151b97",
       "version_major": 2,
       "version_minor": 0
      },
      "text/plain": [
       "  0%|          | 0/204 [00:00<?, ?it/s]"
      ]
     },
     "metadata": {},
     "output_type": "display_data"
    },
    {
     "name": "stdout",
     "output_type": "stream",
     "text": [
      "Pairs created for date 2011-08-01 00:00:00\n"
     ]
    },
    {
     "data": {
      "application/vnd.jupyter.widget-view+json": {
       "model_id": "c21244d018b04c5db5ed5a68d4144c45",
       "version_major": 2,
       "version_minor": 0
      },
      "text/plain": [
       "  0%|          | 0/203 [00:00<?, ?it/s]"
      ]
     },
     "metadata": {},
     "output_type": "display_data"
    },
    {
     "name": "stdout",
     "output_type": "stream",
     "text": [
      "Pairs created for date 2011-09-01 00:00:00\n"
     ]
    },
    {
     "data": {
      "application/vnd.jupyter.widget-view+json": {
       "model_id": "0e7fdf1cbb8044c4b96a836bb9535099",
       "version_major": 2,
       "version_minor": 0
      },
      "text/plain": [
       "  0%|          | 0/203 [00:00<?, ?it/s]"
      ]
     },
     "metadata": {},
     "output_type": "display_data"
    },
    {
     "name": "stdout",
     "output_type": "stream",
     "text": [
      "Pairs created for date 2011-10-01 00:00:00\n"
     ]
    },
    {
     "data": {
      "application/vnd.jupyter.widget-view+json": {
       "model_id": "1ef79aee3456442daaacf5555aef8707",
       "version_major": 2,
       "version_minor": 0
      },
      "text/plain": [
       "  0%|          | 0/204 [00:00<?, ?it/s]"
      ]
     },
     "metadata": {},
     "output_type": "display_data"
    },
    {
     "name": "stdout",
     "output_type": "stream",
     "text": [
      "Pairs created for date 2011-11-01 00:00:00\n"
     ]
    },
    {
     "data": {
      "application/vnd.jupyter.widget-view+json": {
       "model_id": "4c4262819fef411bbd0276843e30111b",
       "version_major": 2,
       "version_minor": 0
      },
      "text/plain": [
       "  0%|          | 0/203 [00:00<?, ?it/s]"
      ]
     },
     "metadata": {},
     "output_type": "display_data"
    },
    {
     "name": "stdout",
     "output_type": "stream",
     "text": [
      "Pairs created for date 2011-12-01 00:00:00\n"
     ]
    },
    {
     "data": {
      "application/vnd.jupyter.widget-view+json": {
       "model_id": "6649654e8f43463cbd2ea143e66c77de",
       "version_major": 2,
       "version_minor": 0
      },
      "text/plain": [
       "  0%|          | 0/202 [00:00<?, ?it/s]"
      ]
     },
     "metadata": {},
     "output_type": "display_data"
    },
    {
     "name": "stdout",
     "output_type": "stream",
     "text": [
      "Pairs created for date 2012-01-01 00:00:00\n"
     ]
    },
    {
     "data": {
      "application/vnd.jupyter.widget-view+json": {
       "model_id": "fae038c0b605470eb6f02ebd1f693d7b",
       "version_major": 2,
       "version_minor": 0
      },
      "text/plain": [
       "  0%|          | 0/198 [00:00<?, ?it/s]"
      ]
     },
     "metadata": {},
     "output_type": "display_data"
    },
    {
     "name": "stdout",
     "output_type": "stream",
     "text": [
      "Pairs created for date 2012-02-01 00:00:00\n"
     ]
    },
    {
     "data": {
      "application/vnd.jupyter.widget-view+json": {
       "model_id": "78f99b8e7a02403a9ca9e8274745d6d2",
       "version_major": 2,
       "version_minor": 0
      },
      "text/plain": [
       "  0%|          | 0/197 [00:00<?, ?it/s]"
      ]
     },
     "metadata": {},
     "output_type": "display_data"
    },
    {
     "name": "stdout",
     "output_type": "stream",
     "text": [
      "Pairs created for date 2012-03-01 00:00:00\n"
     ]
    },
    {
     "data": {
      "application/vnd.jupyter.widget-view+json": {
       "model_id": "a113044387a44366b9c07f5a728fa612",
       "version_major": 2,
       "version_minor": 0
      },
      "text/plain": [
       "  0%|          | 0/214 [00:00<?, ?it/s]"
      ]
     },
     "metadata": {},
     "output_type": "display_data"
    },
    {
     "name": "stdout",
     "output_type": "stream",
     "text": [
      "Pairs created for date 2011-01-01 00:00:00\n"
     ]
    },
    {
     "data": {
      "application/vnd.jupyter.widget-view+json": {
       "model_id": "57fc3050078c4ad8863bca0c937197f5",
       "version_major": 2,
       "version_minor": 0
      },
      "text/plain": [
       "  0%|          | 0/213 [00:00<?, ?it/s]"
      ]
     },
     "metadata": {},
     "output_type": "display_data"
    },
    {
     "name": "stdout",
     "output_type": "stream",
     "text": [
      "Pairs created for date 2011-02-01 00:00:00\n"
     ]
    },
    {
     "data": {
      "application/vnd.jupyter.widget-view+json": {
       "model_id": "66e982c2762f4bf6bb644dae539ab845",
       "version_major": 2,
       "version_minor": 0
      },
      "text/plain": [
       "  0%|          | 0/212 [00:00<?, ?it/s]"
      ]
     },
     "metadata": {},
     "output_type": "display_data"
    },
    {
     "name": "stdout",
     "output_type": "stream",
     "text": [
      "Pairs created for date 2011-03-01 00:00:00\n"
     ]
    },
    {
     "data": {
      "application/vnd.jupyter.widget-view+json": {
       "model_id": "3f469a1408ca4464961f18b476e30984",
       "version_major": 2,
       "version_minor": 0
      },
      "text/plain": [
       "  0%|          | 0/210 [00:00<?, ?it/s]"
      ]
     },
     "metadata": {},
     "output_type": "display_data"
    },
    {
     "name": "stdout",
     "output_type": "stream",
     "text": [
      "Pairs created for date 2011-04-01 00:00:00\n"
     ]
    },
    {
     "data": {
      "application/vnd.jupyter.widget-view+json": {
       "model_id": "01638ddeea3c4ccf8518da4867e7dea4",
       "version_major": 2,
       "version_minor": 0
      },
      "text/plain": [
       "  0%|          | 0/209 [00:00<?, ?it/s]"
      ]
     },
     "metadata": {},
     "output_type": "display_data"
    },
    {
     "name": "stdout",
     "output_type": "stream",
     "text": [
      "Pairs created for date 2011-05-01 00:00:00\n"
     ]
    },
    {
     "data": {
      "application/vnd.jupyter.widget-view+json": {
       "model_id": "360d5722c17e4111846524a10c5cc43a",
       "version_major": 2,
       "version_minor": 0
      },
      "text/plain": [
       "  0%|          | 0/206 [00:00<?, ?it/s]"
      ]
     },
     "metadata": {},
     "output_type": "display_data"
    },
    {
     "name": "stdout",
     "output_type": "stream",
     "text": [
      "Pairs created for date 2011-06-01 00:00:00\n"
     ]
    },
    {
     "data": {
      "application/vnd.jupyter.widget-view+json": {
       "model_id": "fcedb7f6eac148ed83c18df2630dc277",
       "version_major": 2,
       "version_minor": 0
      },
      "text/plain": [
       "  0%|          | 0/205 [00:00<?, ?it/s]"
      ]
     },
     "metadata": {},
     "output_type": "display_data"
    },
    {
     "name": "stdout",
     "output_type": "stream",
     "text": [
      "Pairs created for date 2011-07-01 00:00:00\n"
     ]
    },
    {
     "data": {
      "application/vnd.jupyter.widget-view+json": {
       "model_id": "5cbb86225eab41199f00c502b0ea0a7a",
       "version_major": 2,
       "version_minor": 0
      },
      "text/plain": [
       "  0%|          | 0/204 [00:00<?, ?it/s]"
      ]
     },
     "metadata": {},
     "output_type": "display_data"
    },
    {
     "name": "stdout",
     "output_type": "stream",
     "text": [
      "Pairs created for date 2011-08-01 00:00:00\n"
     ]
    },
    {
     "data": {
      "application/vnd.jupyter.widget-view+json": {
       "model_id": "fc4297a25f8943eda9d46ddb32dd4c62",
       "version_major": 2,
       "version_minor": 0
      },
      "text/plain": [
       "  0%|          | 0/203 [00:00<?, ?it/s]"
      ]
     },
     "metadata": {},
     "output_type": "display_data"
    },
    {
     "name": "stdout",
     "output_type": "stream",
     "text": [
      "Pairs created for date 2011-09-01 00:00:00\n"
     ]
    },
    {
     "data": {
      "application/vnd.jupyter.widget-view+json": {
       "model_id": "38e97026ce534cefbf9252f11f18de47",
       "version_major": 2,
       "version_minor": 0
      },
      "text/plain": [
       "  0%|          | 0/203 [00:00<?, ?it/s]"
      ]
     },
     "metadata": {},
     "output_type": "display_data"
    },
    {
     "name": "stdout",
     "output_type": "stream",
     "text": [
      "Pairs created for date 2011-10-01 00:00:00\n"
     ]
    },
    {
     "data": {
      "application/vnd.jupyter.widget-view+json": {
       "model_id": "6771d6a51c214293ad4b613395d5e064",
       "version_major": 2,
       "version_minor": 0
      },
      "text/plain": [
       "  0%|          | 0/204 [00:00<?, ?it/s]"
      ]
     },
     "metadata": {},
     "output_type": "display_data"
    },
    {
     "name": "stdout",
     "output_type": "stream",
     "text": [
      "Pairs created for date 2011-11-01 00:00:00\n"
     ]
    },
    {
     "data": {
      "application/vnd.jupyter.widget-view+json": {
       "model_id": "80afa968b4e04ee394ae2d4b4ee6b9c8",
       "version_major": 2,
       "version_minor": 0
      },
      "text/plain": [
       "  0%|          | 0/203 [00:00<?, ?it/s]"
      ]
     },
     "metadata": {},
     "output_type": "display_data"
    },
    {
     "name": "stdout",
     "output_type": "stream",
     "text": [
      "Pairs created for date 2011-12-01 00:00:00\n"
     ]
    },
    {
     "data": {
      "application/vnd.jupyter.widget-view+json": {
       "model_id": "5fd32e6b3ec94eaa97094652362ec2bf",
       "version_major": 2,
       "version_minor": 0
      },
      "text/plain": [
       "  0%|          | 0/202 [00:00<?, ?it/s]"
      ]
     },
     "metadata": {},
     "output_type": "display_data"
    },
    {
     "name": "stdout",
     "output_type": "stream",
     "text": [
      "Pairs created for date 2012-01-01 00:00:00\n"
     ]
    },
    {
     "data": {
      "application/vnd.jupyter.widget-view+json": {
       "model_id": "2ebfe1dad3ee4637bb2a06490515c4c8",
       "version_major": 2,
       "version_minor": 0
      },
      "text/plain": [
       "  0%|          | 0/198 [00:00<?, ?it/s]"
      ]
     },
     "metadata": {},
     "output_type": "display_data"
    },
    {
     "name": "stdout",
     "output_type": "stream",
     "text": [
      "Pairs created for date 2012-02-01 00:00:00\n"
     ]
    },
    {
     "data": {
      "application/vnd.jupyter.widget-view+json": {
       "model_id": "09ce02dfbd3343ffa392633cc46cbd5f",
       "version_major": 2,
       "version_minor": 0
      },
      "text/plain": [
       "  0%|          | 0/197 [00:00<?, ?it/s]"
      ]
     },
     "metadata": {},
     "output_type": "display_data"
    },
    {
     "name": "stdout",
     "output_type": "stream",
     "text": [
      "Pairs created for date 2012-03-01 00:00:00\n"
     ]
    },
    {
     "ename": "NameError",
     "evalue": "name 'performance_list' is not defined",
     "output_type": "error",
     "traceback": [
      "\u001b[0;31m---------------------------------------------------------------------------\u001b[0m",
      "\u001b[0;31mNameError\u001b[0m                                 Traceback (most recent call last)",
      "\u001b[0;32m/var/folders/s_/kppp_4wd5kgdzsjgp9xhfg280000gn/T/ipykernel_10518/1844255543.py\u001b[0m in \u001b[0;36m<module>\u001b[0;34m\u001b[0m\n\u001b[1;32m      1\u001b[0m \u001b[0mtrading\u001b[0m \u001b[0;34m=\u001b[0m \u001b[0mtradingstrategy\u001b[0m\u001b[0;34m(\u001b[0m\u001b[0mdata\u001b[0m\u001b[0;34m,\u001b[0m\u001b[0mfactors_ff\u001b[0m\u001b[0;34m,\u001b[0m\u001b[0mcointegration_pairs\u001b[0m\u001b[0;34m)\u001b[0m\u001b[0;34m\u001b[0m\u001b[0;34m\u001b[0m\u001b[0m\n\u001b[0;32m----> 2\u001b[0;31m \u001b[0mtrading\u001b[0m\u001b[0;34m.\u001b[0m\u001b[0mevaluate_performance\u001b[0m\u001b[0;34m(\u001b[0m\u001b[0;34m)\u001b[0m\u001b[0;34m\u001b[0m\u001b[0;34m\u001b[0m\u001b[0m\n\u001b[0m",
      "\u001b[0;32m/var/folders/s_/kppp_4wd5kgdzsjgp9xhfg280000gn/T/ipykernel_10518/735794253.py\u001b[0m in \u001b[0;36mevaluate_performance\u001b[0;34m(self)\u001b[0m\n\u001b[1;32m    391\u001b[0m \u001b[0;34m\u001b[0m\u001b[0m\n\u001b[1;32m    392\u001b[0m \u001b[0;34m\u001b[0m\u001b[0m\n\u001b[0;32m--> 393\u001b[0;31m         \u001b[0;32mreturn\u001b[0m \u001b[0mperformance_list\u001b[0m\u001b[0;34m\u001b[0m\u001b[0;34m\u001b[0m\u001b[0m\n\u001b[0m\u001b[1;32m    394\u001b[0m \u001b[0;34m\u001b[0m\u001b[0m\n",
      "\u001b[0;31mNameError\u001b[0m: name 'performance_list' is not defined"
     ]
    }
   ],
   "source": [
    "trading = tradingstrategy(data,factors_ff,cointegration_pairs)\n",
    "trading.evaluate_performance()"
   ]
  },
  {
   "cell_type": "code",
   "execution_count": 13,
   "id": "7ee08894-ea47-41f9-ac2c-4a43d5d15afa",
   "metadata": {},
   "outputs": [
    {
     "data": {
      "image/png": "[encoded data removed]",
      "text/plain": [
       "<Figure size 432x288 with 1 Axes>"
      ]
     },
     "metadata": {
      "needs_background": "light"
     },
     "output_type": "display_data"
    }
   ],
   "source": [
    "df = trading.pairs_sharpe.set_index('pairs')\n",
    "df[['Vasicek','Cointegration']].plot()\n",
    "df.to_csv('pairs_sharpe.csv')"
   ]
  },
  {
   "cell_type": "code",
   "execution_count": null,
   "id": "b2975c83-ca9b-4a30-91cc-1ce991d46923",
   "metadata": {},
   "outputs": [],
   "source": []
  },
  {
   "cell_type": "code",
   "execution_count": null,
   "id": "a00017d1-eb6f-44f9-9297-a91f0193655e",
   "metadata": {},
   "outputs": [],
   "source": [
    "trading.pairs_sharpe"
   ]
  },
  {
   "cell_type": "code",
   "execution_count": 146,
   "id": "9fc6096a-4202-47bf-8b6a-a9c97636fa48",
   "metadata": {},
   "outputs": [
    {
     "data": {
      "text/plain": [
       "0.77"
      ]
     },
     "execution_count": 146,
     "metadata": {},
     "output_type": "execute_result"
    }
   ],
   "source": [
    "trading.vasicek_positive"
   ]
  },
  {
   "cell_type": "code",
   "execution_count": 147,
   "id": "8ed4138a-63c8-4eeb-ba92-73c23b1e7748",
   "metadata": {},
   "outputs": [
    {
     "data": {
      "text/plain": [
       "0.5400000000000001"
      ]
     },
     "execution_count": 147,
     "metadata": {},
     "output_type": "execute_result"
    }
   ],
   "source": [
    "trading.cointegration_positive"
   ]
  },
  {
   "cell_type": "code",
   "execution_count": 10,
   "id": "37566091-9518-47c7-90e9-6e923cf9bb2f",
   "metadata": {},
   "outputs": [
    {
     "data": {
      "image/png": "[encoded data removed]",
      "text/plain": [
       "<Figure size 432x288 with 1 Axes>"
      ]
     },
     "metadata": {
      "needs_background": "light"
     },
     "output_type": "display_data"
    }
   ],
   "source": [
    "((1+trading.performance[['vasicek','cointegration']]).cumprod()*100).plot()\n",
    "benchmark = factors_ff['mkt_excess'].loc[trading.performance.index[0]:trading.performance.index[-1]].to_frame()\n",
    "benchmark = benchmark.resample('M').agg(lambda x: (x + 1).prod() - 1)\n",
    "vasicek_ret = trading.performance['vasicek']\n",
    "cointegration_ret = trading.performance['cointegration']"
   ]
  },
  {
   "cell_type": "code",
   "execution_count": 104,
   "id": "bd563708-3756-4767-a65d-112f2405eb51",
   "metadata": {
    "collapsed": true,
    "jupyter": {
     "outputs_hidden": true
    },
    "tags": []
   },
   "outputs": [
    {
     "data": {
      "text/plain": [
       "'\\\\begin{tabular}{lrrr}\\n\\\\toprule\\n{} &  vasicek &  cointegration &  mkt\\\\_excess \\\\\\\\\\n\\\\midrule\\nAnnualized Return &     0.12 &           0.10 &        0.09 \\\\\\\\\\nAnnualized Std.   &     0.06 &           0.02 &        0.16 \\\\\\\\\\n Sharpe Ratio     &     0.61 &           1.49 &        0.17 \\\\\\\\\\nMinimum           &    -0.01 &           0.00 &       -0.08 \\\\\\\\\\nMaximum           &     0.05 &           0.02 &        0.11 \\\\\\\\\\nMax Drawdown      &    -0.03 &           0.00 &       -0.18 \\\\\\\\\\nBeta              &      NaN &            NaN &        1.00 \\\\\\\\\\nObservations      &    15.00 &          15.00 &       15.00 \\\\\\\\\\n\\\\bottomrule\\n\\\\end{tabular}\\n'"
      ]
     },
     "execution_count": 104,
     "metadata": {},
     "output_type": "execute_result"
    }
   ],
   "source": [
    "def evaluation(returns,benchmark):\n",
    "    \n",
    "    eval_df = pd.DataFrame(index = ['Annualized Return','Annualized Std.', \n",
    "                                      ' Sharpe Ratio', \n",
    "                                      'Minimum','Maximum',\n",
    "                                      'Max Drawdown',\n",
    "                                      'Beta',\n",
    "                                      'Observations'])\n",
    "    \n",
    "    for column in returns.columns:\n",
    "        metrics_list = list()\n",
    "        \n",
    "        \n",
    "        annualized_return = returns[column].mean()*12\n",
    "        annualized_std = returns[column].std()*np.sqrt(12)\n",
    "        sharpe_ratio = (returns[column].mean()/returns[column].std())\n",
    "        minimum = returns[column].min()\n",
    "        maximum = returns[column].max()\n",
    "        max_drawdown = empyrical.max_drawdown(returns[column])\n",
    "        beta = returns[column].cov(benchmark['mkt_excess'])/returns[column].var()\n",
    "        observations = len(returns[column])\n",
    "        \n",
    "        \n",
    "        metrics_list.append(annualized_return)\n",
    "        metrics_list.append(annualized_std)\n",
    "        metrics_list.append(sharpe_ratio)\n",
    "        metrics_list.append(minimum)\n",
    "        metrics_list.append(maximum)\n",
    "        metrics_list.append(max_drawdown)\n",
    "        metrics_list.append(beta)\n",
    "        metrics_list.append(observations)\n",
    "        \n",
    "        eval_df[column] = metrics_list\n",
    "        \n",
    "    for column in benchmark.columns:\n",
    "        metrics_list = list()\n",
    "        \n",
    "        \n",
    "        annualized_return = benchmark[column].mean()*12\n",
    "        annualized_std = benchmark[column].std()*np.sqrt(12)\n",
    "        sharpe_ratio = (benchmark[column].mean()/benchmark[column].std())\n",
    "        minimum = benchmark[column].min()\n",
    "        maximum = benchmark[column].max()\n",
    "        max_drawdown = empyrical.max_drawdown(benchmark[column])\n",
    "        beta = empyrical.beta(benchmark[column],benchmark)\n",
    "        observations = len(benchmark[column])\n",
    "        \n",
    "        \n",
    "        metrics_list.append(annualized_return)\n",
    "        metrics_list.append(annualized_std)\n",
    "        metrics_list.append(sharpe_ratio)\n",
    "        metrics_list.append(minimum)\n",
    "        metrics_list.append(maximum)\n",
    "        metrics_list.append(max_drawdown)\n",
    "        metrics_list.append(beta)\n",
    "        metrics_list.append(observations)\n",
    "        \n",
    "        eval_df[column] = metrics_list\n",
    "    \n",
    "    return eval_df\n",
    "    \n",
    "eval_df = evaluation(trading.performance,benchmark)\n",
    "        \n",
    "eval_df.round(2).to_latex()"
   ]
  },
  {
   "cell_type": "markdown",
   "id": "79a8a2b3-b5b5-4dcd-844a-d30e6cc8ee61",
   "metadata": {},
   "source": [
    "### Figures "
   ]
  },
  {
   "cell_type": "code",
   "execution_count": 15,
   "id": "1026b296-b4d2-439a-a58f-ffce26db69ff",
   "metadata": {},
   "outputs": [],
   "source": [
    "def simpleaxis(ax):\n",
    "    ax.spines['top'].set_visible(False)\n",
    "    ax.spines['right'].set_visible(False)\n",
    "    ax.get_xaxis().tick_bottom()\n",
    "    ax.get_yaxis().tick_left()\n",
    "    return ax\n",
    "\n",
    "import matplotlib.dates as mdates"
   ]
  },
  {
   "cell_type": "code",
   "execution_count": 20,
   "id": "c1126714-61f6-4a51-a9a3-c88136bb97da",
   "metadata": {},
   "outputs": [
    {
     "data": {
      "image/png": "[encoded data removed]",
      "text/plain": [
       "<Figure size 864x432 with 1 Axes>"
      ]
     },
     "metadata": {},
     "output_type": "display_data"
    }
   ],
   "source": [
    "fig, axes = plt.subplots(1,figsize=(12,6),facecolor = \"white\")\n",
    "\n",
    "df[['Vasicek','Cointegration']].plot(ax=axes,legend=False)\n",
    "\n",
    "axes = simpleaxis(axes)\n",
    "axes.set_ylabel(\"Sharpe Ratio\")\n",
    "fig.legend([\"Vasicek\", 'Co-Integration'],loc=\"lower center\",\n",
    "          frameon=False,\n",
    "          ncol=3)\n",
    "\n",
    "fig.savefig('pairrobustness.jpg')"
   ]
  },
  {
   "cell_type": "code",
   "execution_count": 69,
   "id": "5ac248c5-06a5-4f72-9406-59587c8d1a48",
   "metadata": {},
   "outputs": [
    {
     "data": {
      "image/png": "[encoded data removed]",
      "text/plain": [
       "<Figure size 1152x360 with 2 Axes>"
      ]
     },
     "metadata": {},
     "output_type": "display_data"
    }
   ],
   "source": [
    "fig, axes = plt.subplots(1,2,figsize=(12,6),facecolor = \"white\")\n",
    "\n",
    "axes[0].plot(((1+trading.performance[['vasicek','cointegration']]).cumprod()*100))\n",
    "axes[0].plot(((1+benchmark).cumprod())*100)\n",
    "\n",
    "index = np.arange(len(pd.date_range(trading.performance.index[0],trading.performance.index[-1],freq='MS')))\n",
    "bar_width = 0.25\n",
    "\n",
    "plot_df = trading.performance.copy()\n",
    "plot_df[\"Benchmark\"] = benchmark[\"mkt_excess\"].values\n",
    "\n",
    "\n",
    "#axes[1].xaxis.set_major_locator(mdates.MonthLocator(bymonth=(1, 7)))\n",
    "#axes[1].xaxis.set_major_formatter(mdates.DateFormatter(\"%M\"))\n",
    "\n",
    "#axes[1].bar(index, trading.performance['vasicek'], bar_width)\n",
    "#axes[1].bar(index + bar_width, trading.performance['cointegration'], bar_width)\n",
    "#axes[1].bar(index + bar_width + bar_width, benchmark['mkt_excess'], bar_width)\n",
    "#axes[1].set_xticklabels(pd.date_range(trading.performance.index[0],trading.performance.index[-1],freq='MS'))\n",
    "\n",
    "axes[0].set_ylabel(\"Index, 2011/01/01=100\")\n",
    "axes[1].set_ylabel(\"Return\")\n",
    "\n",
    "plot_df.plot(kind=\"bar\", figsize=(16,5), stacked=False, ax=axes[1],width=0.75,legend=False)\n",
    "\n",
    "\n",
    "# format xtick-labels with list comprehension\n",
    "axes[1].set_xticklabels([x.strftime(\"%Y-%m\") for x in plot_df.index], rotation=45)\n",
    "\n",
    "\n",
    "axes[0].tick_params(axis='x', labelrotation = 45)\n",
    "#axes[1].tick_params(axis='x', labelrotation = 60)\n",
    "#axes[1].xaxis_date()\n",
    "\n",
    "axes[0] = simpleaxis(axes[0])\n",
    "axes[1] = simpleaxis(axes[1])\n",
    "\n",
    "fig.subplots_adjust(bottom=0.02)\n",
    "fig.tight_layout(rect=(0,0.1,1,1))\n",
    "\n",
    "fig.legend([\"Vasicek\", 'Co-Integration','Benchmark'],loc=\"lower center\",\n",
    "          frameon=False,\n",
    "          ncol=3)\n",
    "\n",
    "\n",
    "fig.savefig(\"return_fig.jpg\")"
   ]
  },
  {
   "cell_type": "code",
   "execution_count": 80,
   "id": "d42efcbe-12a7-41aa-b12c-93dc43a3e8be",
   "metadata": {
    "tags": []
   },
   "outputs": [
    {
     "data": {
      "image/png": "[encoded data removed]",
      "text/plain": [
       "<Figure size 864x432 with 2 Axes>"
      ]
     },
     "metadata": {},
     "output_type": "display_data"
    }
   ],
   "source": [
    "stock1 = 11368\n",
    "stock2 = 12073\n",
    "\n",
    "\n",
    "plot_data = (trading.normalize(data[[stock1,stock2]].loc['2007-01-01':'2014-01-01']))\n",
    "spread = plot_data[stock1]-plot_data[stock2]\n",
    "\n",
    "curr_regime, low_dates, high_dates = trading.define_highlow_date(spread)\n",
    "\n",
    "kappa_low, theta_low, sigma_low = trading.estimate_vasicek(plot_data[stock1].loc[low_dates],plot_data[stock2].loc[low_dates])\n",
    "kappa_high, theta_high, sigma_high = trading.estimate_vasicek(plot_data[stock1].loc[high_dates],plot_data[stock2].loc[high_dates])\n",
    "\n",
    "\n",
    "\n",
    "\n",
    "fig, axes = plt.subplots(1,figsize=(12,6),facecolor = \"white\")\n",
    "\n",
    "ax2 = axes.twinx()\n",
    "axes.plot(plot_data[stock1],color=\"black\")\n",
    "axes.plot(plot_data[stock2],color=\"black\",linestyle='dashed')\n",
    "ax2.plot(spread,linewidth=2)\n",
    "\n",
    "\n",
    "\n",
    "axes.axvspan(date2num(datetime(2007,1,3)), date2num(datetime(2007,6,13)), color=\"grey\", alpha=0.5) #Manually located from the low_dates list\n",
    "axes.axvspan(date2num(datetime(2008,10,1)), date2num(datetime(2009,5,19)), color=\"grey\", alpha=0.5) #Manually located from the low_dates list\n",
    "\n",
    "ax2.axhline(theta_high)\n",
    "ax2.axhline(theta_low)\n",
    "\n",
    "ax2.text(date2num(datetime(2014,1,1)), theta_high+5, '$\\\\theta_{high}$', fontsize=20, va='center', ha='center')\n",
    "ax2.text(date2num(datetime(2014,1,1)), theta_low+5, '$\\\\theta_{low}$', fontsize=20, va='center', ha='center')\n",
    "\n",
    "\n",
    "\n",
    "axes.set_ylabel(\"Normalized Stock Price, 2005=100\")\n",
    "ax2.set_ylabel('Spread')\n",
    "\n",
    "axes.tick_params(axis='x', labelrotation = 45)\n",
    "axes = simpleaxis(axes)\n",
    "\n",
    "fig.legend([\"Stock A\", 'Stock B', 'Spread (Right axis)'],loc=\"lower center\",\n",
    "          frameon=False,\n",
    "          ncol=3)\n",
    "\n",
    "\n",
    "\n",
    "fig.subplots_adjust(bottom=0.02)\n",
    "fig.tight_layout()\n",
    "\n",
    "fig.savefig(\"spread_vasicek_markov.jpg\")"
   ]
  },
  {
   "cell_type": "code",
   "execution_count": null,
   "id": "b5183d8c-6897-4dbb-bbd9-fc6940586c2f",
   "metadata": {},
   "outputs": [],
   "source": [
    "stock1 = 11368\n",
    "stock2 = 12073\n",
    "\n",
    "\n",
    "plot_data = (trading.normalize(data[[stock1,stock2]].loc['2007-01-01':'2014-01-01']))\n",
    "spread = plot_data[stock1]-plot_data[stock2]\n",
    "\n",
    "curr_regime, low_dates, high_dates = trading.define_highlow_date(spread)\n",
    "\n",
    "    \n",
    "kappa, theta, sigma = trading.estimate_vasicek(plot_data[stock1],plot_data[stock2])\n",
    "\n",
    "fig, axes = plt.subplots(1,figsize=(12,6),facecolor = \"white\")\n",
    "\n",
    "ax2 = axes.twinx()\n",
    "axes.plot(plot_data[stock1],color=\"black\")\n",
    "axes.plot(plot_data[stock2],color=\"black\",linestyle='dashed')\n",
    "ax2.plot(spread,linewidth=2)\n",
    "\n",
    "#axes.axvspan(date2num(datetime(2007,1,3)), date2num(datetime(2007,6,13)), color=\"grey\", alpha=0.5) #Manually located from the low_dates list\n",
    "#axes.axvspan(date2num(datetime(2008,10,1)), date2num(datetime(2009,5,19)), color=\"grey\", alpha=0.5) #Manually located from the low_dates list\n",
    "\n",
    "ax2.axhline(theta)\n",
    "axes.set_ylabel(\"Normalized Stock Price, 2005=100\")\n",
    "ax2.set_ylabel('Spread')\n",
    "\n",
    "axes.tick_params(axis='x', labelrotation = 45)\n",
    "axes = simpleaxis(axes)\n",
    "\n",
    "\n",
    "fig.subplots_adjust(bottom=0.02)\n",
    "fig.tight_layout(rect=(0,0.1,1,1))\n",
    "\n",
    "fig.legend([\"Stock A\", 'Stock B', 'Spread (Right axis)'],loc=\"lower center\",\n",
    "          frameon=False,\n",
    "          ncol=3)\n",
    "\n",
    "\n",
    "fig.savefig(\"spread_vasicek.jpg\")"
   ]
  },
  {
   "cell_type": "code",
   "execution_count": null,
   "id": "cd742152-4f2f-46d3-86f1-7a329d46f778",
   "metadata": {},
   "outputs": [],
   "source": []
  }
 ],
 "metadata": {
  "kernelspec": {
   "display_name": "Python 3 (ipykernel)",
   "language": "python",
   "name": "python3"
  },
  "language_info": {
   "codemirror_mode": {
    "name": "ipython",
    "version": 3
   },
   "file_extension": ".py",
   "mimetype": "text/x-python",
   "name": "python",
   "nbconvert_exporter": "python",
   "pygments_lexer": "ipython3",
   "version": "3.8.12"
  }
 },
 "nbformat": 4,
 "nbformat_minor": 5
}
